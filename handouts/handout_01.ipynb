{
 "cells": [
  {
   "cell_type": "markdown",
   "metadata": {},
   "source": [
    "# Simple jupyter notebook "
   ]
  },
  {
   "cell_type": "markdown",
   "metadata": {},
   "source": [
    "Jupyter notebooks offer an interactive environment to run Python code interactively, directly in your web browser. You can also add text and latex equations. "
   ]
  },
  {
   "cell_type": "markdown",
   "metadata": {},
   "source": [
    "## Writing python code"
   ]
  },
  {
   "cell_type": "markdown",
   "metadata": {},
   "source": [
    "Add this line to the start of your jupyter notebooks to enable inline plotting :"
   ]
  },
  {
   "cell_type": "code",
   "execution_count": null,
   "metadata": {
    "collapsed": true
   },
   "outputs": [],
   "source": [
    "%matplotlib inline   "
   ]
  },
  {
   "cell_type": "code",
   "execution_count": null,
   "metadata": {
    "collapsed": false
   },
   "outputs": [],
   "source": [
    "#print out a string. \n",
    "print \"ME 597 handout 1\"\n",
    "\n",
    "#Note that the format for printing is different in python 3.x. We use python 2.7 in this course. "
   ]
  },
  {
   "cell_type": "code",
   "execution_count": null,
   "metadata": {
    "collapsed": true
   },
   "outputs": [],
   "source": [
    "##import some libraries \n",
    "import numpy as np   #matrix and linear algebra\n",
    "import matplotlib.pyplot as plt   #plotting library \n",
    "import seaborn as sns     #Make your plot look better than vanilla matplotlib \n",
    "sns.set()   #use default seaborn settings."
   ]
  },
  {
   "cell_type": "code",
   "execution_count": null,
   "metadata": {
    "collapsed": true
   },
   "outputs": [],
   "source": [
    "#define a simple function \n",
    "def f(x):\n",
    "    \"\"\"\n",
    "    Add some documentation here. \n",
    "    \n",
    "    :param x: float\n",
    "    \"\"\"\n",
    "    return x ** 2"
   ]
  },
  {
   "cell_type": "code",
   "execution_count": null,
   "metadata": {
    "collapsed": true
   },
   "outputs": [],
   "source": [
    "#generate some data \n",
    "x = np.linspace(0, 1, 20)\n",
    "y = f(x)"
   ]
  },
  {
   "cell_type": "markdown",
   "metadata": {},
   "source": [
    "## Plotting "
   ]
  },
  {
   "cell_type": "code",
   "execution_count": null,
   "metadata": {
    "collapsed": false
   },
   "outputs": [],
   "source": [
    "#plot the data and visualize it in the notebook\n",
    "plt.figure(figsize=(10, 6))\n",
    "plt.plot(x, y, label = '$y = x^2$', linewidth = 4, marker = 'o', markersize = 10)\n",
    "plt.xlabel('$x$', fontsize = 12)\n",
    "plt.ylabel('$y$', fontsize = 12)\n",
    "plt.legend(loc = 'best', fontsize = 16)"
   ]
  },
  {
   "cell_type": "markdown",
   "metadata": {},
   "source": [
    "**Question**: Change the definition of the function f such that it returns $f(x) = x\\mathrm{sin}x$. Plot the function for $x \\in (-2, 2)$. "
   ]
  },
  {
   "cell_type": "markdown",
   "metadata": {},
   "source": [
    "## Writing math "
   ]
  },
  {
   "cell_type": "markdown",
   "metadata": {},
   "source": [
    "Mathematical notation can be used by enclosing them inside single (inline) or double (seperate) dollar signs. \n",
    "For example: \n",
    "\n",
    "+ This is an inline expression $y|x \\sim \\mathcal{N}(y \\ |\\  \\mathrm{m}(x),\\ \\sigma^2)$. \n",
    "\n",
    "+ This equation is rendered seperately, $$ y|x \\sim \\mathcal{N}(y \\ |\\  \\mathrm{m}(x),\\ \\sigma^2).$$"
   ]
  },
  {
   "cell_type": "markdown",
   "metadata": {},
   "source": [
    "## Interactive plotting "
   ]
  },
  {
   "cell_type": "markdown",
   "metadata": {},
   "source": [
    "Suppose you have a function that whose value depends on a parameter. You can interactively visualize the changes in the function as a result of changing the parameter. "
   ]
  },
  {
   "cell_type": "code",
   "execution_count": null,
   "metadata": {
    "collapsed": true
   },
   "outputs": [],
   "source": [
    "#import library for interactive plotting \n",
    "from ipywidgets import interactive"
   ]
  },
  {
   "cell_type": "code",
   "execution_count": null,
   "metadata": {
    "collapsed": true
   },
   "outputs": [],
   "source": [
    "def f(x, c):\n",
    "    return c* (x**2)"
   ]
  },
  {
   "cell_type": "code",
   "execution_count": null,
   "metadata": {
    "collapsed": true
   },
   "outputs": [],
   "source": [
    "def plot_f(c=1):\n",
    "    x = list(np.linspace(0, 1, 100))\n",
    "    y = [f(i, c) for i in x]\n",
    "    plt.figure(figsize=(10, 6))\n",
    "    plt.plot(x, y, label = '$y = cx^2$', linewidth = 4)\n",
    "    plt.title('$c = $'+str(c), fontsize = 12)\n",
    "    plt.legend(loc = 'best', fontsize = 16)\n",
    "    plt.xlabel('$x$', fontsize = 12)\n",
    "    plt.ylabel('$y$', fontsize = 12)"
   ]
  },
  {
   "cell_type": "code",
   "execution_count": null,
   "metadata": {
    "collapsed": false
   },
   "outputs": [],
   "source": [
    "interactive(plot_f, c = (-2, 2, 0.1))"
   ]
  },
  {
   "cell_type": "markdown",
   "metadata": {},
   "source": [
    "## Importing libraries required in this class"
   ]
  },
  {
   "cell_type": "markdown",
   "metadata": {},
   "source": [
    "The block of code immediately below this cell should execute without any errors. "
   ]
  },
  {
   "cell_type": "code",
   "execution_count": null,
   "metadata": {
    "collapsed": false
   },
   "outputs": [],
   "source": [
    "import GPy\n",
    "import design\n",
    "import orthpol\n",
    "import pymc"
   ]
  },
  {
   "cell_type": "markdown",
   "metadata": {},
   "source": [
    "### Some useful resources\n",
    "\n",
    "1. [Jupyter notebook documentation](http://jupyter-notebook.readthedocs.io/en/stable/index.html).\n",
    "2. [Matplotlib user guide](https://matplotlib.org/users/).\n",
    "3. [ipywidgets user guide](http://ipywidgets.readthedocs.io/en/stable/examples/Using%20Interact.html)."
   ]
  }
 ],
 "metadata": {
  "anaconda-cloud": {},
  "kernelspec": {
   "display_name": "Python [default]",
   "language": "python",
   "name": "python2"
  },
  "language_info": {
   "codemirror_mode": {
    "name": "ipython",
    "version": 2
   },
   "file_extension": ".py",
   "mimetype": "text/x-python",
   "name": "python",
   "nbconvert_exporter": "python",
   "pygments_lexer": "ipython2",
   "version": "2.7.12"
  },
  "widgets": {
   "state": {
    "9654e749302d4b3d94d752ba23e54ce8": {
     "views": [
      {
       "cell_index": 19
      }
     ]
    }
   },
   "version": "1.2.0"
  }
 },
 "nbformat": 4,
 "nbformat_minor": 2
}
