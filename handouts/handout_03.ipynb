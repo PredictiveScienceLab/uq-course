{
 "cells": [
  {
   "cell_type": "markdown",
   "metadata": {},
   "source": [
    "# Coin Toss Example"
   ]
  },
  {
   "cell_type": "code",
   "execution_count": null,
   "metadata": {
    "collapsed": true
   },
   "outputs": [],
   "source": [
    "%matplotlib inline\n",
    "import matplotlib as mpl\n",
    "mpl.rcParams['figure.dpi']= 300\n",
    "import matplotlib.pyplot as plt\n",
    "import seaborn as sns\n",
    "import numpy as np\n",
    "from scipy.constants import g"
   ]
  },
  {
   "cell_type": "markdown",
   "metadata": {},
   "source": [
    "## The dynamics of a coin toss\n",
    "\n",
    "In the lecture we proved that the dynamics of an idealized 2D coin can be described by the initial value problem:\n",
    "$$\n",
    "\\begin{array}{ccc}\n",
    "\\ddot{y} &=& -g,\\\\\n",
    "\\ddot{\\theta} &=& 0,\\\\\n",
    "y(0) &=& 0,\\\\\n",
    "\\theta(0) &=& 0,\\\\\n",
    "\\dot{y}(0) &=& v_0,\\\\\n",
    "\\dot{\\theta}(0) &=& \\omega_0.\n",
    "\\end{array}\n",
    "$$\n",
    "Here we have assumed that the coin is always toss vertically from position, $y(0)=0$, while laying flat, $\\theta(0)=0$, showing heads.\n",
    "$y(t)$ measures the vertical distance from the tossing finger, and $\\theta(t)$ measures the angle of the coin with respect to the horizontal axis.\n",
    "$v_0$ is the initial tossing velocity and $\\omega_0$ is tossing angular velocity.\n",
    "$g$ is the acceleration of gravity.\n",
    "\n",
    "Therefore, the only free parameters that determine the outcome of the coin are $v_0$ and $\\omega_0$."
   ]
  },
  {
   "cell_type": "markdown",
   "metadata": {},
   "source": [
    "It is trivial to solve this initial value problem. The solution is:\n",
    "$$\n",
    "\\begin{array}{ccc}\n",
    "y(t) &=& -\\frac{1}{2}gt^2 + v_0t,\\\\\n",
    "\\theta(t) &=& \\omega_0t.\n",
    "\\end{array}\n",
    "$$"
   ]
  },
  {
   "cell_type": "markdown",
   "metadata": {},
   "source": [
    "Using the first equation, we can find the time $t_1$ at which the coin returns to the hand. That time is:\n",
    "$$\n",
    "y(t_1) = 0 \\implies t_1 = \\frac{2v_0}{g}.\n",
    "$$"
   ]
  },
  {
   "cell_type": "markdown",
   "metadata": {},
   "source": [
    "With this result, we can predict the angle the coin makes with the horizontal axis when it returns to the hand. That angle is:\n",
    "$$\n",
    "\\theta(t_1) = \\frac{2v_0\\omega_0}{g}.\n",
    "$$"
   ]
  },
  {
   "cell_type": "markdown",
   "metadata": {},
   "source": [
    "This angle is enough for predicting the outcome of a tossing experiment.\n",
    "Specifically, we will get **heads** if\n",
    "$$\n",
    "\\frac{2v_0\\omega_0}{g} (\\text{mod}\\;2\\pi) \\in \\left(0,\\frac{\\pi}{2}\\right)\\cup\\left(\\frac{3\\pi}{2},2\\pi\\right),\n",
    "$$\n",
    "and **tails** if\n",
    "$$\n",
    "\\frac{2v_0\\omega_0}{g} (\\text{mod}\\;2\\pi) \\in \\left(\\frac{\\pi}{2},\\frac{3\\pi}{2}\\right).\n",
    "$$\n",
    "Note that we have used $\\text{mod}\\;2\\pi$ to find a unique angle between $0$ and $2\\pi$."
   ]
  },
  {
   "cell_type": "markdown",
   "metadata": {},
   "source": [
    "Now let $X\\in\\{H,T\\}$ be a variable describing the result of the coin toss. We have shown that, conditional on knowning $v_0$ and $\\omega_0$ we can predict $X$ exactly. Mathematically, we can write:\n",
    "$$\n",
    "X = \n",
    "\\begin{cases}\n",
    "T,&\\;\\text{if}\\;\\frac{2v_0\\omega_0}{g} (\\text{mod}\\;2\\pi) \\in \\left(\\frac{\\pi}{2},\\frac{3\\pi}{2}\\right),\\\\\n",
    "H,&\\;\\text{otherwise}.\n",
    "\\end{cases}\n",
    "$$"
   ]
  },
  {
   "cell_type": "markdown",
   "metadata": {},
   "source": [
    "## Simulation of a coin toss experiment\n",
    "\n",
    "A typical human throws the coin with\n",
    "$$\n",
    "v_0 \\approx 2.5\\;\\text{m/s},\n",
    "$$\n",
    "and\n",
    "$$\n",
    "\\omega_0 \\approx 200\\times 2\\pi\\;\\text{rad/s}.\n",
    "$$\n",
    "Let us simulate how sensitive is the result on the choice of these parameters."
   ]
  },
  {
   "cell_type": "code",
   "execution_count": null,
   "metadata": {
    "collapsed": true
   },
   "outputs": [],
   "source": [
    "# Let us code H as 0 and T as 1.\n",
    "def X(v0, omega0):\n",
    "    tmp = (2 * v0 * omega0 / g) % (2. * np.pi) # taking g = 9.8 m/s**2\n",
    "    if tmp > 0.5 * np.pi and tmp < 1.5 * np.pi:\n",
    "        return 'T'\n",
    "    return 'H'"
   ]
  },
  {
   "cell_type": "code",
   "execution_count": null,
   "metadata": {
    "collapsed": false
   },
   "outputs": [],
   "source": [
    "# Try it out here:\n",
    "v0 = 2.5\n",
    "omega0 = 200 * 2. * np.pi\n",
    "print X(v0, omega0)"
   ]
  },
  {
   "cell_type": "code",
   "execution_count": null,
   "metadata": {
    "collapsed": false
   },
   "outputs": [],
   "source": [
    "# Let's do some interactive tests\n",
    "from ipywidgets import interactive\n",
    "def print_X(v0, omega0):\n",
    "    print \"X = \", X(v0, omega0)\n",
    "interactive(print_X, v0=(2., 3., 0.1), omega0=(100*2*np.pi, 1000*2*np.pi, 5))"
   ]
  },
  {
   "cell_type": "markdown",
   "metadata": {},
   "source": [
    "### Question 01"
   ]
  },
  {
   "cell_type": "markdown",
   "metadata": {},
   "source": [
    "Please respond to the online [survey](https://ebilionis.polldaddy.com/s/handout-03-01)."
   ]
  },
  {
   "cell_type": "markdown",
   "metadata": {},
   "source": [
    "## Rise of uncertainty\n",
    "\n",
    "As we saw, the outcome of a coin toss experiment is:\n",
    "$$\n",
    "X = \n",
    "\\begin{cases}\n",
    "T,&\\;\\text{if}\\;\\frac{2v_0\\omega_0}{g} (\\text{mod}\\;2\\pi) \\in \\left(\\frac{\\pi}{2},\\frac{3\\pi}{2}\\right),\\\\\n",
    "H,&\\;\\text{otherwise}.\n",
    "\\end{cases}\n",
    "$$\n",
    "Let's think of it as a function of $(v_0,\\omega_0)$.\n",
    "It is obvious that $X$ flips whenever\n",
    "$$\n",
    "\\frac{2v_0\\omega_0}{g} = 2\\pi k + \\frac{\\pi}{2},\n",
    "$$\n",
    "for $k=1,2,\\dots$, as well as whenever\n",
    "$$\n",
    "\\frac{2v_0\\omega_0}{g} = 2\\pi k + \\frac{3\\pi}{2}.\n",
    "$$\n",
    "Let's plot some of these curves in the $v_0-\\omega_0$ plane."
   ]
  },
  {
   "cell_type": "code",
   "execution_count": null,
   "metadata": {
    "collapsed": false
   },
   "outputs": [],
   "source": [
    "fig, ax = plt.subplots()\n",
    "v_0 = np.linspace(0.5, 3., 100)\n",
    "for k in range(1,20):\n",
    "    omega_01 = 9.8 * (2 * np.pi * k + 0.5 * np.pi) / (2 * v_0)\n",
    "    omega_02 = 9.8 * (2 * np.pi * k + 1.5 * np.pi) / (2 * v_0)\n",
    "    ax.plot(v_0, omega_01, 'b', lw=0.5)\n",
    "    ax.plot(v_0, omega_02, 'r', lw=0.5)\n",
    "ax.set_xlabel(r'$v_0$ m/s')\n",
    "ax.set_ylabel(r'$\\omega_0$ rad/s')"
   ]
  },
  {
   "cell_type": "markdown",
   "metadata": {},
   "source": [
    "As we discussed, the uncertainty rises from our inability to perfectly control the initial conditions of the coin toss experiment.\n",
    "Let us suppose that a typical human throws the coin with an initial velocity:\n",
    "$$\n",
    "v_0 = 2.5 \\pm 0.2\\;\\text{m/s},\n",
    "$$\n",
    "and an initial angular velocity of\n",
    "$$\n",
    "\\omega_0 = 400\\pi \\pm 50\\;\\text{rad/s}.\n",
    "$$\n",
    "For the time being let's interpret the $\\pm$ as if it means that all values plus or minus that value are equally likely.\n",
    "\n",
    "Let us now assume that the experiment is repeated 1,000 times and that each time the initial conditions are drawn randomly.\n",
    "Then we are going to count the number of times we get an H.\n",
    "Dividing by the total number of random experiments, we will get the frequency of H's.\n",
    "The code is given below."
   ]
  },
  {
   "cell_type": "code",
   "execution_count": null,
   "metadata": {
    "collapsed": true
   },
   "outputs": [],
   "source": [
    "def measure_freq_of_H(v_0_lower=2.3, v_0_upper=2.7, \n",
    "                      omega_0_lower=200*np.pi-100, \n",
    "                      omega_0_upper=200*np.pi+100,\n",
    "                      N=10000):\n",
    "    num_Hs = 0.\n",
    "    for n in range(N):\n",
    "        v_0 = np.random.rand() * (v_0_upper - v_0_lower) + v_0_lower\n",
    "        omega_0 = np.random.rand() * (omega_0_upper - omega_0_lower) + omega_0_lower\n",
    "        num_Hs += 1 if X(v_0, omega_0) == 'H' else 0\n",
    "    return num_Hs / N"
   ]
  },
  {
   "cell_type": "markdown",
   "metadata": {},
   "source": [
    "Let us run this code:"
   ]
  },
  {
   "cell_type": "code",
   "execution_count": null,
   "metadata": {
    "collapsed": false
   },
   "outputs": [],
   "source": [
    "measure_freq_of_H()"
   ]
  },
  {
   "cell_type": "markdown",
   "metadata": {},
   "source": [
    "This is our first Monte Carlo simulation. As we will see in a few lectures, the empirical frequency that we measure this way converges to the probability of the coin turning out heads in the limit of $N\\rightarrow\\infty$.\n",
    "This is known as the *law of large numbers*."
   ]
  },
  {
   "cell_type": "markdown",
   "metadata": {},
   "source": [
    "### Question 02\n",
    "Please respond to the online [survey](https://ebilionis.polldaddy.com/s/handout-03-02)."
   ]
  }
 ],
 "metadata": {
  "anaconda-cloud": {},
  "kernelspec": {
   "display_name": "Python [default]",
   "language": "python",
   "name": "python2"
  },
  "language_info": {
   "codemirror_mode": {
    "name": "ipython",
    "version": 2
   },
   "file_extension": ".py",
   "mimetype": "text/x-python",
   "name": "python",
   "nbconvert_exporter": "python",
   "pygments_lexer": "ipython2",
   "version": "2.7.12"
  },
  "latex_envs": {
   "bibliofile": "biblio.bib",
   "cite_by": "apalike",
   "current_citInitial": 1,
   "eqLabelWithNumbers": true,
   "eqNumInitial": 0
  }
 },
 "nbformat": 4,
 "nbformat_minor": 2
}
