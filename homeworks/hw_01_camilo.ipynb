{
 "cells": [
  {
   "cell_type": "markdown",
   "metadata": {},
   "source": [
    "# Homework 1\n",
    "\n",
    "**Due 2/4/2020 on gradescope.**\n",
    "\n",
    "## References\n",
    "\n",
    "+ Lectures 1-5 (inclusive).\n",
    "\n",
    "## Instructions\n",
    "\n",
    "+ Type your name and email in the \"Student details\" section below.\n",
    "+ Develop the code and generate the figures you need to solve the problems using this notebook.\n",
    "+ For the answers that require a mathematical proof or derivation you can either:\n",
    "    \n",
    "    - Type the answer using the built-in latex capabilities. In this case, simply export the notebook as a pdf and upload it on gradescope; or\n",
    "    - You can print the notebook (after you are done with all the code), write your answers by hand, scan, turn your response to a single pdf, and upload on gradescope.\n",
    "\n",
    "+ The total homework points are 100. Please note that the problems are not weighed equally.\n",
    "\n",
    "**Note**: Please match all the pages corresponding to each of the questions when you submit on gradescope. "
   ]
  },
  {
   "cell_type": "code",
   "execution_count": 1,
   "metadata": {},
   "outputs": [],
   "source": [
    "%matplotlib inline\n",
    "import matplotlib.pyplot as plt\n",
    "import seaborn as sns\n",
    "sns.set_context('talk')\n",
    "import numpy as np"
   ]
  },
  {
   "cell_type": "markdown",
   "metadata": {},
   "source": [
    "## Student details\n",
    "\n",
    "+ **First Name: Camilo**\n",
    "+ **Last Name: Duarte**\n",
    "+ **Email: cduartec@purdue.edu**"
   ]
  },
  {
   "cell_type": "markdown",
   "metadata": {},
   "source": [
    "## Problem 1\n",
    "\n",
    "This exercise demonstrates that probability theory is actually an extension of logic. Assume that you know that ``A implies B\". That is, your prior information is:\n",
    "$$\n",
    "I = \\{A \\implies B\\}.\n",
    "$$\n",
    "Please answer the following questions in the space provided:\n",
    "\n",
    "A. (4 points) $p(AB|I) = p(A|I)$.<br>\n",
    "**Proof:** \n",
    "\n",
    "$p(AB|I)=p(BA|I)=p(B|AI)p(A|I)$. Since we are sure B is true if A is true, p(B|AI)= 1.0. Then $p(AB|I)=p(A)$\n",
    "\n"
   ]
  },
  {
   "cell_type": "markdown",
   "metadata": {},
   "source": [
    "B. If $p(A|I) = 1$, then $p(B|I) = 1$.<br>\n",
    "**Proof:**\n",
    "\n",
    "Using the commutative property and bayes rule we have $p(B|I)=p(A|I)p(B|AI)/p(A|BI)$. Since $p(B|AI)=1.0$ then $p(B|I)=p(A|I)/p(A|BI)$. Given that $p(B|I)\\leq  1.0$ and $p(A|I)=1.0$, then $p(A|BI)=1.0$ has to be fullfilled. This makes $p(B|I)=1.0$."
   ]
  },
  {
   "cell_type": "markdown",
   "metadata": {},
   "source": [
    "C. If $p(B|I) = 0$, then $p(A|I) = 0$.<br>\n",
    "**Proof:**\n",
    "\n",
    "From bayes rule we have $p(A|I)=p(B|I)p(A|BI)$. Thefore if $p(B|I)=0$ then $p(A|I)=0$\n"
   ]
  },
  {
   "cell_type": "markdown",
   "metadata": {},
   "source": [
    "D. B and C show that probability theory is consistent with Aristotelian logic. Now, you will discover how it extends it. Show that if B is true, then A becomes more plausible, i.e.\n",
    "$$\n",
    "p(A|BI) \\geq p(A|I).\n",
    "$$\n",
    "**Proof:**\n",
    "\n",
    "In order to obey $p(B|I) \\leq 1.0$ and given the previous expression\n",
    "$p(B|I)=\\frac{p(A|I)}{p(B|AI)}$, then $p(A|I) \\leq p(B|AI)$."
   ]
  },
  {
   "cell_type": "markdown",
   "metadata": {},
   "source": [
    "E. Give at least two examples of D that apply to various scientific fields. To get you started, here are two examples:\n",
    "\n",
    "- $A$: It is raining. $B$: There are clouds in the sky. Clearly,  $A \\implies B$. $D$ tells us that if there are clouds in the sky, raining becomes more plausible.\n",
    "    \n",
    "- $A$: General relativity. $B$: Light is deflected in the presence of massive bodies. Here  $A \\implies B$. Observing that $B$ is true makes $A$ more plausible.\n",
    "\n",
    "**Answer:**\n",
    "\n",
    "- $A$: Crystal underwent phase transformation\n",
    "  $B$: Crystal structure became amorphous  \n",
    "  \n",
    "- $A$: Steel suffered from hydrogen embrittlement\n",
    "  $B$: Steel reduced its ductility and has high concentration of $H_2$"
   ]
  },
  {
   "cell_type": "markdown",
   "metadata": {},
   "source": [
    "F. Show that if $A$ is false, then $B$ becomes less plausible, i.e.: \n",
    "$$\n",
    "p(B|\\neg AI) \\leq p(B|I).\n",
    "$$\n",
    "**Proof:**\n",
    "\n",
    "Applying bayesian rule the next expression is obtained:\n",
    "\n",
    "$p(B|\\neg AI)=p(B|I)\\frac{p(\\neg A|BI)}{p(\\neg A|I)}$\n",
    "\n",
    "From previous problem:\n",
    "\n",
    "$p(A|BI) \\geq p(A|I)$\n",
    "1.0 - $p(\\neg A|BI) \\geq 1.0 - p(\\neg A|I)$\n",
    "\n",
    "$p(\\neg A|BI)/p(\\neg A|I) \\leq 1.0$\n",
    "\n",
    "Therefore:\n",
    "$p(B|\\neg AI)/p(B|I) \\leq 1.0$ which can be re-written as: $p(B|\\neg AI) \\leq p(B|I)$"
   ]
  },
  {
   "cell_type": "markdown",
   "metadata": {},
   "source": [
    "G. Can you think of an example of scientific reasoning that involves F? For example:\n",
    "$A$: It is raining. $B$: There are clouds in the sky. F tells us that if it is not raining, then it is less plausible that there are clouds in the sky.<br>\n",
    "**Answer:**\n",
    "- $A$: Water evaporates\n",
    "  $B$: Water is heat up above its boiling point  \n",
    "Then if the water does not evaporates it is less plaussible that it was heat up above its boiling point."
   ]
  },
  {
   "cell_type": "markdown",
   "metadata": {},
   "source": [
    "H. Do D and F contradict Karl Popper's [principle of falsification](https://en.wikipedia.org/wiki/Falsifiability), \"A theory in the empirical sciences can never be proven, but it can be falsified, meaning that it can and should be scrutinized by decisive experiments.\"<br>\n",
    "**Answer:**\n",
    "No, D and F does not contradict the falsification principle. D and F give us a degree of how plausible an statement can, meaning that with probability and experimentation we can validate at some degree real physical phenomena but we can never afirm with 100% of certainty that something is true. "
   ]
  },
  {
   "cell_type": "markdown",
   "metadata": {},
   "source": [
    "## Problem 2\n",
    "\n",
    "Disclaimer: This example is a modified version of the one found in a 2013 lecture on Bayesian Scientific Computing taught by Prof. Nicholas Zabaras.\n",
    "I am not sure where the original problem is coming from.\n",
    "\n",
    "We are tasked with assessing the usefulness of a tuberculosis test.\n",
    "The prior information I is:\n",
    "\n",
    "> The percentage of the population infected by tuberculosis is 0.4\\%.\n",
    "We have run several experiments and determined that:\n",
    "+ If a tested patient has the disease, then 80\\% of the time the test comes out positive.\n",
    "+ If a tested patient does not have the disease, then 90\\% of the time the test comes out negative.\n",
    "\n",
    "To facilitate your analysis, consider the following logical sentences concerning a patient:\n",
    "\n",
    "> A: The patient is tested and the test is positive.\n",
    "\n",
    "> B: The patient has tuberculosis.\n",
    "\n",
    "A. Find the probability that the patient has tuberculosis (before looking at the result of the test), i.e., $p(B|I)$. This is known as the base rate or the prior probability.<br>\n",
    "**Answer:**\n",
    "$p(B|I)=0.004$"
   ]
  },
  {
   "cell_type": "markdown",
   "metadata": {},
   "source": [
    "B. Find the probability that the test is positive given that the patient has tuberculosis, i.e., $p(A|B,I)$.<br>\n",
    "**Answer:**\n",
    "$p(A|B,I)=0.8$"
   ]
  },
  {
   "cell_type": "markdown",
   "metadata": {},
   "source": [
    "C. Find the probability that the test is positive given that the patient does not have tuberculosis, i.e., $p(A|\\neg B, I)$.<br>\n",
    "**Answer:**\n",
    "$p(A|\\neg B, I)=1.0 - p(\\neg A| \\neg B, I)=0.1$"
   ]
  },
  {
   "cell_type": "markdown",
   "metadata": {},
   "source": [
    "D. Find the probability that a patient that tested positive has tuberculosis, i.e., $p(B|A,I)$.<br>\n",
    "**Answer:**\n",
    "$p(A|I)=p(A|B,I)p(B)+p(A|\\neg B,I)p(\\neg B)=0.8*0.004+0.1*(1-0.004)=0.1028$\n",
    "\n",
    "$p(B|A,I)=p(AB|I)/p(A|I)=p(A|B,I)p(B|I)/p(A|I)=0.8*0.004/0.1028=0.0311$"
   ]
  },
  {
   "cell_type": "markdown",
   "metadata": {},
   "source": [
    "E. Find the probability that a patient that tested negative has tuberculosis, i.e., $p(B|\\neg A, I)$. Does the test change our prior state of knowledge about about the patient? Is the test useful?<br>\n",
    "**Answer:**\n",
    "\n",
    "$p(B|\\neg A,I)+p(\\neg A|\\neg B,I)=1.0$\n",
    "\n",
    "$p(\\neg B|\\neg A,I) = \\frac{p(\\neg A|\\neg B,I)p(\\neg B|I)}{p(\\neg A|I)}=\\frac{0.9*(1-0.004)}{1.0-0.1028}=0.99911$\n",
    "\n",
    "$p(B|\\neg A,I)=1.0-p(\\neg B|\\neg A,I)=0.000892$\n"
   ]
  },
  {
   "cell_type": "markdown",
   "metadata": {},
   "source": [
    "F. What would a good test look like? Find values for \n",
    "$$\n",
    "p(A|B,I)= p(\\text{test is positive} |\\text{has tuberculosis},I),\n",
    "$$\n",
    "and\n",
    "$$\n",
    "p(A| \\neg B, I) = p(\\text{test is positive}|\\text{does not have tuberculosis}, I),\n",
    "$$\n",
    "so that\n",
    "$$\n",
    "p(B|A, I) = p(\\text{has tuberculosis}|\\text{test is positive}, I) = 0.99.\n",
    "$$\n",
    "There are more than one solutions. How would you pick a good one? Thinking in this way can help you set goals if you work in R\\&D. If you have time, try to figure out whether or not there exists such an accurate test for tuberculosis<br>\n",
    "**Answer:**\n",
    "\n",
    "We want to set $p(B|A,I)=0.99$. An expression for this probability is given by:\n",
    "\n",
    "$p(B|A,I)=\\frac{p(A|B,I)p(B,I)}{p(A,I)}=\\frac{p(A|B,I)p(B,I)}{p(A|B,I)p(B,I)+p(A|\\neg B,I)p(\\neg B,I)}=\\frac{0.004 p(A|B,I)}{0.004 p(A|B,I)+(1.0-0.004)p(A|\\neg B,I)}$\n",
    "\n",
    "This means no matter the value of $p(A|B,I)$, to achive 0.99 we need to make $p(A|\\neg B,I)$ as small as possible. A good set of values is $p(A|\\neg B,I)=0.9$ and $p(A|\\neg B,I)=0.000032$.\n",
    "\n",
    "\n"
   ]
  },
  {
   "cell_type": "code",
   "execution_count": 2,
   "metadata": {},
   "outputs": [
    {
     "name": "stdout",
     "output_type": "stream",
     "text": [
      "0.9901382232959721\n"
     ]
    }
   ],
   "source": [
    "a = 0.8\n",
    "b= 0.000032\n",
    "p=0.004*a/(0.004*a+(1-0.004)*b)\n",
    "print(p)"
   ]
  },
  {
   "cell_type": "markdown",
   "metadata": {},
   "source": [
    "## Problem 3\n",
    "Let $A$ and $B$ be independent conditional on $I$. Prove that: \n",
    "$$\n",
    "A \\perp B | I \\iff p(AB|I) = p(A|I)p(B|I).\n",
    "$$\n",
    "Hint: Use the fact that $A \\perp B|I$ means that $p(A|B, I) = p(A|I)$ and $p(B|A, I) = p(B|I)$.<br>\n",
    "**Answer:**\n",
    "\n",
    "Applying Bayes rule and using the hint we have:\n",
    "\n",
    "$p(AB|I)=p(A|B,I)p(B|I)=p(A|I)p(B|I)$\n",
    "\n",
    "\n"
   ]
  },
  {
   "cell_type": "markdown",
   "metadata": {},
   "source": [
    "## Problem 4\n",
    "Let $X$ be a continuous random variable and $F(x) = p(X \\leq x)$ be it's cumulative distribution function. Using only the basic rules of probability, prove that:\n",
    "\n",
    "A. The CDF starts at 0 and goes up to 1: \n",
    "$$\n",
    "F(- \\infty) = 0 \\ \\text{ and } \\ F(\\infty) = 1.\n",
    "$$\n",
    "**Proof:**\n",
    "\n",
    "$F_X(x)=p(X \\leq x)=\\int_{-\\infty}^{x}f_X(u)du$  \n",
    "\n",
    "$\\lim_{x\\rightarrow -\\infty }F_X(x)=p(X \\leq -\\infty)=0$\n",
    "\n",
    "$\\lim_{x\\rightarrow \\infty }F_X(x)=\\int_{-\\infty}^{\\infty}f_X(u)du = 1.0$ "
   ]
  },
  {
   "cell_type": "markdown",
   "metadata": {},
   "source": [
    "B. $F(x)$ is a monotonically increasing function of $x$, i.e., \n",
    "$$\n",
    "x_1 \\leq x_2 \\implies F(x_1) \\leq F(x_2).\n",
    "$$\n",
    "**Proof:**\n",
    "\n",
    "\n",
    "If $x_1 \\leq x_2$, then $X \\leq x_1  \\subset X \\leq x_2$ which means $F(x_1) \\leq F(x_2)$"
   ]
  },
  {
   "cell_type": "markdown",
   "metadata": {},
   "source": [
    "C. The probability of $X$ being in the interval $[x_1, x_2]$ is:\n",
    "$$\n",
    "p(x_1 \\le X \\le x_2|I) = F(x_2) - F(x_1).\n",
    "$$\n",
    "**Proof:**\n",
    "\n",
    "$p(x_1 \\le X \\le x_2|I)=p(x_1 \\le X|I)+p(x_2 \\ge X|I)-p(x_1 \\le X + x_2 \\ge X|I)$\n",
    "\n",
    "$p(x_1 \\le X \\le x_2|I)=(1 - F(x_1))+F(x_2)-1.0 = F(x_2) - F(x_1)$\n"
   ]
  },
  {
   "cell_type": "markdown",
   "metadata": {},
   "source": [
    "## Problem 5\n",
    "Let $X$ be a random variable. Prove that:\n",
    "$$\n",
    "\\mathbb{V}[X] = \\mathbb{E}[X^2] - \\left(\\mathbb{E}[X]\\right)^2.\n",
    "$$\n",
    "**Proof:**\n",
    "\n",
    "$\\mathbb{V}[X]=\\mathbb{E}[(X-\\mathbb{E}[X])^2]=\\mathbb{E}[X^2-2X\\mathbb{E}[X]+\\mathbb{E}[X]^2] = \\mathbb{E}[X^2]-2\\mathbb{E}[X]^2+\\mathbb{E}[X]^2 = \\mathbb{E}[X^2] - \\mathbb{E}[X]^2 $"
   ]
  },
  {
   "cell_type": "markdown",
   "metadata": {},
   "source": [
    "## Problem 6\n",
    "\n",
    "Hint: Before attempting this example, make sure you understand the Lecture 5 examples.\n",
    "You basically have to repeat the same procedure.\n",
    "\n",
    "The [San Andreas fault](https://en.wikipedia.org/wiki/San_Andreas_Fault) extends through California forming the boundary between the Pacific and the North American tectonic plates.\n",
    "It has caused some of the major earthquakes on Earth.\n",
    "We are going to focus on Southern California and we would like to assess the probability of a major earthquake, defined as an earthquake of magnitude 6.5 or greater, during the next ten years."
   ]
  },
  {
   "cell_type": "markdown",
   "metadata": {},
   "source": [
    "A. The first thing we are going to do is go over a [database of past earthquakes](https://scedc.caltech.edu/significant/chron-index.html) that have occured in Southern California and collect the relevant data. We are going to start at 1900 because data before that time may are unreliable.\n",
    "Go over each decade and count the occurence of a major earthquake (i.e., count the number of organge and red colors in each decade). We have done this for you."
   ]
  },
  {
   "cell_type": "code",
   "execution_count": 3,
   "metadata": {},
   "outputs": [
    {
     "data": {
      "image/png": "[encoded data removed]",
      "text/plain": [
       "<Figure size 432x288 with 1 Axes>"
      ]
     },
     "metadata": {
      "needs_background": "light"
     },
     "output_type": "display_data"
    }
   ],
   "source": [
    "eq_data = np.array([\n",
    "    0, # 1900-1909\n",
    "    1, # 1910-1919\n",
    "    2, # 1920-1929\n",
    "    0, # 1930-1939\n",
    "    3, # 1940-1949\n",
    "    2, # 1950-1959\n",
    "    1, # 1960-1969\n",
    "    2, # 1970-1979\n",
    "    1, # 1980-1989\n",
    "    4, # 1990-1999\n",
    "    0, # 2000-2009\n",
    "    2 # 2010-2019 \n",
    "])\n",
    "fig, ax = plt.subplots()\n",
    "ax.bar(np.linspace(1900, 2019, eq_data.shape[0]), eq_data, width=10)\n",
    "ax.set_xlabel('Decade')\n",
    "ax.set_ylabel('# of major earthquakes in Southern CA');"
   ]
  },
  {
   "cell_type": "markdown",
   "metadata": {},
   "source": [
    "B. The right way to model the number of earthquakes $X_n$ in a decade $n$ is using a Poisson distribution with unknown rate parameter $\\lambda$, i.e.,\n",
    "$$\n",
    "X_n | \\lambda \\sim \\operatorname{Poisson}(\\lambda).\n",
    "$$\n",
    "Here we have $N = 12$ observations, say $x_{1:N} = (x_1,\\dots,x_N)$ (stored in ``eq_data`` above).\n",
    "Find the *joint probability* (otherwise known as the likelihood) $p(x_{1:N}|\\lambda)$ of these random variables.<br>\n",
    "\n",
    "**Answer:**\n",
    "\n",
    "$p(x_{1:N}|\\lambda)=\\prod_{n=1}^{12}p(x_n, \\lambda)=\\prod_{n=1}^{12} \\frac{\\lambda^{x_n}\\cdot e^{-\\lambda}}{x_n!}=\\frac{\\lambda^{\\sum_{n=1}^{12}x_n} \\cdot e^{-12\\lambda}}{\\prod_{n=1}^{12} x_n!}\n",
    "$"
   ]
  },
  {
   "cell_type": "markdown",
   "metadata": {},
   "source": [
    "C. The rate parameter $\\lambda$ (number of major earthquakes in per ten years) is positive. What prior distribution should we assign to it.\n",
    "A suitable choice here is to pick a [Gamma](https://en.wikipedia.org/wiki/Gamma_distribution), see also [the scipy.stats page for the Gamma](https://docs.scipy.org/doc/scipy/reference/generated/scipy.stats.gamma.html).\n",
    "We write:\n",
    "$$\n",
    "\\lambda \\sim \\operatorname{Gamma}(\\alpha, \\beta),\n",
    "$$\n",
    "where $\\alpha$ and $\\beta$ are positive *hyper-parameters* that we have to set to represent our prior state of knowledge.\n",
    "The PDF is:\n",
    "$$\n",
    "p(\\lambda) = \\frac{\\beta^\\alpha x^{\\alpha-1}e^{-\\beta x}}{\\Gamma(\\alpha)},\n",
    "$$\n",
    "where we are not conditioning on $\\alpha$ and $\\beta$ because they should be fixed numbers.\n",
    "Use the code below to pick some some reasonable values for $\\alpha$ and $\\beta$."
   ]
  },
  {
   "cell_type": "code",
   "execution_count": 4,
   "metadata": {},
   "outputs": [
    {
     "data": {
      "image/png": "[encoded data removed]",
      "text/plain": [
       "<Figure size 432x288 with 1 Axes>"
      ]
     },
     "metadata": {
      "needs_background": "light"
     },
     "output_type": "display_data"
    }
   ],
   "source": [
    "import scipy.stats as st\n",
    "alpha = 6.0  # Pick them here\n",
    "beta = 4.0   # Pick them here\n",
    "lambda_prior = st.gamma(alpha, scale=1.0 / beta) # Make sure you understand why scale = 1 / beta\n",
    "lambdas = np.linspace(0, lambda_prior.ppf(0.99), 100)\n",
    "fig, ax = plt.subplots()\n",
    "ax.plot(lambdas, lambda_prior.pdf(lambdas))\n",
    "ax.hist(eq_data, density=True, alpha = 0.2)\n",
    "ax.set_xlabel('$\\lambda$ (# or major earthquakes per decade)')\n",
    "ax.set_ylabel('$p(\\lambda)$');"
   ]
  },
  {
   "cell_type": "code",
   "execution_count": 5,
   "metadata": {},
   "outputs": [
    {
     "name": "stdout",
     "output_type": "stream",
     "text": [
      "<scipy.stats._distn_infrastructure.rv_frozen object at 0x11aac64e0>\n"
     ]
    }
   ],
   "source": [
    "\n",
    "print(lambda_prior)"
   ]
  },
  {
   "cell_type": "markdown",
   "metadata": {},
   "source": [
    "D. Use the package ``graphviz`` to draw a graphical model representing the situation.\n",
    "Make sure you use the plate notation.\n",
    "Below, we have introduced all the nodes you are going to need, but some nodes should be \"observed\" (observed nodes are filled), a lot of edges are missing, and you need to use the plate notation (see Lecture 5)."
   ]
  },
  {
   "cell_type": "code",
   "execution_count": 6,
   "metadata": {},
   "outputs": [
    {
     "data": {
      "image/svg+xml": [
       "<?xml version=\"1.0\" encoding=\"UTF-8\" standalone=\"no\"?>\n",
       "<!DOCTYPE svg PUBLIC \"-//W3C//DTD SVG 1.1//EN\"\n",
       " \"http://www.w3.org/Graphics/SVG/1.1/DTD/svg11.dtd\">\n",
       "<!-- Generated by graphviz version 2.38.0 (20140413.2041)\n",
       " -->\n",
       "<!-- Title: hw01_p6_1 Pages: 1 -->\n",
       "<svg width=\"134pt\" height=\"226pt\"\n",
       " viewBox=\"0.00 0.00 134.00 226.00\" xmlns=\"http://www.w3.org/2000/svg\" xmlns:xlink=\"http://www.w3.org/1999/xlink\">\n",
       "<g id=\"graph0\" class=\"graph\" transform=\"scale(1 1) rotate(0) translate(4 222)\">\n",
       "<title>hw01_p6_1</title>\n",
       "<polygon fill=\"white\" stroke=\"none\" points=\"-4,4 -4,-222 130,-222 130,4 -4,4\"/>\n",
       "<g id=\"clust1\" class=\"cluster\"><title>cluster_0</title>\n",
       "<polygon fill=\"none\" stroke=\"black\" points=\"28,-8 28,-82 98,-82 98,-8 28,-8\"/>\n",
       "<text text-anchor=\"middle\" x=\"63\" y=\"-14.8\" font-family=\"Times,serif\" font-size=\"14.00\">n=1,...,12</text>\n",
       "</g>\n",
       "<!-- alpha -->\n",
       "<g id=\"node1\" class=\"node\"><title>alpha</title>\n",
       "<ellipse fill=\"lightgrey\" stroke=\"black\" cx=\"27\" cy=\"-200\" rx=\"27\" ry=\"18\"/>\n",
       "<text text-anchor=\"start\" x=\"22.7241\" y=\"-195.8\" font-family=\"Times,serif\" font-size=\"14.00\">α</text>\n",
       "</g>\n",
       "<!-- lambda -->\n",
       "<g id=\"node3\" class=\"node\"><title>lambda</title>\n",
       "<ellipse fill=\"none\" stroke=\"black\" cx=\"63\" cy=\"-128\" rx=\"27\" ry=\"18\"/>\n",
       "<text text-anchor=\"start\" x=\"59.5\" y=\"-123.8\" font-family=\"Times,serif\" font-size=\"14.00\">λ</text>\n",
       "</g>\n",
       "<!-- alpha&#45;&gt;lambda -->\n",
       "<g id=\"edge1\" class=\"edge\"><title>alpha&#45;&gt;lambda</title>\n",
       "<path fill=\"none\" stroke=\"black\" d=\"M35.3496,-182.765C39.7115,-174.283 45.1469,-163.714 50.0413,-154.197\"/>\n",
       "<polygon fill=\"black\" stroke=\"black\" points=\"53.2346,-155.641 54.6957,-145.147 47.0096,-152.439 53.2346,-155.641\"/>\n",
       "</g>\n",
       "<!-- beta -->\n",
       "<g id=\"node2\" class=\"node\"><title>beta</title>\n",
       "<ellipse fill=\"lightgrey\" stroke=\"black\" cx=\"99\" cy=\"-200\" rx=\"27\" ry=\"18\"/>\n",
       "<text text-anchor=\"start\" x=\"95.1069\" y=\"-195.8\" font-family=\"Times,serif\" font-size=\"14.00\">β</text>\n",
       "</g>\n",
       "<!-- beta&#45;&gt;lambda -->\n",
       "<g id=\"edge2\" class=\"edge\"><title>beta&#45;&gt;lambda</title>\n",
       "<path fill=\"none\" stroke=\"black\" d=\"M90.6504,-182.765C86.2885,-174.283 80.8531,-163.714 75.9587,-154.197\"/>\n",
       "<polygon fill=\"black\" stroke=\"black\" points=\"78.9904,-152.439 71.3043,-145.147 72.7654,-155.641 78.9904,-152.439\"/>\n",
       "</g>\n",
       "<!-- Xn -->\n",
       "<g id=\"node4\" class=\"node\"><title>Xn</title>\n",
       "<ellipse fill=\"lightgrey\" stroke=\"black\" cx=\"63\" cy=\"-56\" rx=\"27\" ry=\"18\"/>\n",
       "<text text-anchor=\"start\" x=\"54.4448\" y=\"-52.8\" font-family=\"Times,serif\" font-size=\"14.00\">X</text>\n",
       "<text text-anchor=\"start\" x=\"64.5552\" y=\"-52.8\" font-family=\"Times,serif\" baseline-shift=\"sub\" font-size=\"14.00\">n</text>\n",
       "</g>\n",
       "<!-- lambda&#45;&gt;Xn -->\n",
       "<g id=\"edge3\" class=\"edge\"><title>lambda&#45;&gt;Xn</title>\n",
       "<path fill=\"none\" stroke=\"black\" d=\"M63,-109.697C63,-101.983 63,-92.7125 63,-84.1124\"/>\n",
       "<polygon fill=\"black\" stroke=\"black\" points=\"66.5001,-84.1043 63,-74.1043 59.5001,-84.1044 66.5001,-84.1043\"/>\n",
       "</g>\n",
       "</g>\n",
       "</svg>\n"
      ],
      "text/plain": [
       "<graphviz.dot.Digraph at 0x11ced4908>"
      ]
     },
     "execution_count": 6,
     "metadata": {},
     "output_type": "execute_result"
    }
   ],
   "source": [
    "from graphviz import Digraph\n",
    "import os\n",
    "gc = Digraph('hw01_p6_1')\n",
    "gc.node('alpha', label='<&alpha;>', style='filled')\n",
    "gc.node('beta', label='<&beta;>', style='filled')\n",
    "gc.node('lambda', label='<&lambda;>')\n",
    "with gc.subgraph(name='cluster_0') as sg:\n",
    "    sg.node('Xn', label='<X<sub>n</sub>>', style='filled')\n",
    "    sg.attr(label='n=1,...,12')\n",
    "    sg.attr(labelloc='b')\n",
    "gc.edge('alpha', 'lambda')\n",
    "gc.edge('beta', 'lambda')\n",
    "gc.edge('lambda', 'Xn')\n",
    "gc"
   ]
  },
  {
   "cell_type": "markdown",
   "metadata": {},
   "source": [
    "E. Show that the posterior of $\\lambda$ conditioned on $x_{1:N}$ is also a Gamma, but with updated hyperparameters.\n",
    "Hint: When you write down the posterior of $\\lambda$ you can drop any multiplicative term that does not depend on it as it will be absorbed in the normalization constnat. This will simplify the notation a little bit.\n",
    "<br>\n",
    "**Answer:**\n",
    "\n",
    "$p(\\lambda| x_{1:N})=p(x_{1:N}|\\lambda)p(\\lambda) = \\frac{\\lambda^{\\sum_{n=1}^{12}x_n}  e^{-12\\lambda}}{\\prod_{n=1}^{12} x_n!}\\frac{\\beta^\\alpha \\lambda^{\\alpha-1}e^{-\\beta \\lambda}}{\\Gamma(\\alpha)}=\\frac{\\lambda^{\\sum_{n=1}^{12}x_n}  e^{-12\\lambda}}{\\prod_{n=1}^{12} x_n!}\\frac{\\beta^\\alpha \\lambda^{\\alpha-1}e^{-\\beta \\lambda}}{\\Gamma(\\alpha)}$\n",
    "\n",
    "Therefore,  we have:\n",
    "\n",
    "$p(\\lambda| x_{1:N})= \\frac{\\beta^{\\alpha}}{\\prod_{n=1}^{12} x_n! \\cdot \\Gamma(\\alpha)}\\lambda^{\\left (\\sum_{n=1}^{12}x_n+\\alpha -1  \\right )}  e^{-(12+\\beta)\\lambda}$"
   ]
  },
  {
   "cell_type": "markdown",
   "metadata": {},
   "source": [
    "F. Prior-likelihood pairs that result in a posterior with the same form as the prior as known as conjugate distributions. Conjugate distributions are your only hope for analytical Bayesian inference.\n",
    "As a sanity check, look at the wikipedia page for [conjugate priors](https://en.wikipedia.org/wiki/Conjugate_prior), locate the Poisson-Gamma pair and verify your answer above.\n",
    "\n",
    "Done! The corresponfing parameters should be $+\\alpha + \\sum_{n=1}^{N}x_n $ and $\\beta + N$"
   ]
  },
  {
   "cell_type": "markdown",
   "metadata": {},
   "source": [
    "G. Plot the prior and the posterior of $\\lambda$ on the same plot."
   ]
  },
  {
   "cell_type": "code",
   "execution_count": 13,
   "metadata": {},
   "outputs": [
    {
     "data": {
      "text/plain": [
       "<matplotlib.legend.Legend at 0x11d2bb828>"
      ]
     },
     "execution_count": 13,
     "metadata": {},
     "output_type": "execute_result"
    },
    {
     "data": {
      "image/png": "[encoded data removed]",
      "text/plain": [
       "<Figure size 432x288 with 1 Axes>"
      ]
     },
     "metadata": {
      "needs_background": "light"
     },
     "output_type": "display_data"
    }
   ],
   "source": [
    "alpha_post = alpha + sum(eq_data) # Your expression for alpha posterior here\n",
    "beta_post = beta + 12 # Your expression for beta posterior here\n",
    "lambda_post = st.gamma(alpha_post, scale= 1.0 / beta_post)\n",
    "lambdas = np.linspace(0, lambda_post.ppf(0.99), 100)\n",
    "fig, ax = plt.subplots()\n",
    "ax.plot(lambdas, lambda_post.pdf(lambdas), label='Posterior')\n",
    "ax.plot(lambdas, lambda_prior.pdf(lambdas), label='Prior')\n",
    "ax.set_xlabel('$\\lambda$ (# or major earthquakes per decade)')\n",
    "ax.set_ylabel('$p(\\lambda|x_{1:N})$');\n",
    "ax.legend(loc='best', frameon=False)"
   ]
  },
  {
   "cell_type": "markdown",
   "metadata": {},
   "source": [
    "H. Let's work out the predictive distribution for the number of major earthquakes during the next decade.\n",
    "This is something that we did not do in class, but it will appear again and again in future lectures.\n",
    "Let $X$ be the random variable corresponding to the number of major eathquakes during the next decade.\n",
    "We need to calculate:\n",
    "$$\n",
    "p(x|x_{1:N}) = \\text{our state of knowledge about $X$ after seeing the data}.\n",
    "$$\n",
    "How do we do this?\n",
    "We just use the sum rule:\n",
    "$$\n",
    "p(x|x_{1:N}) = \\int_{0}^\\infty p(x|\\lambda, x_{1:N}) p(\\lambda|x_{1:N})d\\lambda = \\int_{0}^\\infty p(x|\\lambda) p(\\lambda|x_{1:N})d\\lambda,\n",
    "$$\n",
    "where going from the middle step to the rightmost one we used the assumption that the number of earthquakes occuring in each decade is independent.\n",
    "Carry out this integral and show that it will give you the [negative Binomial](https://en.wikipedia.org/wiki/Negative_binomial_distribution) distribution $\\operatorname{NB}(r,\\theta)$, see also the [scipy.stats papge](https://docs.scipy.org/doc/scipy/reference/generated/scipy.stats.nbinom.html) with parameters\n",
    "$$\n",
    "r = \\alpha + \\sum_{n=1}^N x_n,\n",
    "$$\n",
    "and\n",
    "$$\n",
    "\\theta = \\frac{1}{\\beta + N + 1}.\n",
    "$$\n",
    "**Answer:**\n",
    "\n",
    "$p(x|x_{1:N}) =\\int_{0}^\\infty p(x|\\lambda) p(\\lambda|x_{1:N})d\\lambda=\\int_{0}^\\infty \\frac{\\lambda^{x}e^{-\\lambda}}{x!}C \\lambda^{\\left (\\sum_{n=1}^{N}x_n+\\alpha -1  \\right )}  e^{-(N+\\beta)\\lambda}d\\lambda$ where $C = \\frac{(1-\\theta)^r}{\\Gamma(r) \\theta^r}$\n",
    "\n",
    "\n",
    "$p(x|x_{1:N}) = \\int_{0}^\\infty \\frac{\\lambda^{x}}{x!}C \\lambda^{\\left (r -1  \\right )}  e^{-\\lambda/\\theta}d\\lambda = \\int_{0}^\\infty \\frac{\\lambda^{x}}{x!}C \\lambda^{\\left (r -1  \\right )}  e^{-\\lambda/\\theta}d\\lambda=\\frac{C}{x_n!}\\int_{0}^\\infty \\lambda^{x+r-1} e^{-\\lambda/\\theta}d\\lambda$\n",
    "\n",
    "$p(x|x_{1:N}) = \\frac{C}{x_n!}\\int_{0}^\\infty \\lambda^{x+r-1} e^{-\\lambda/\\theta}d\\lambda= \\frac{C}{x!}\\theta^{x+r}\\int_{0}^\\infty u^{x+r-1}e^{-u}du$ where $u=\\lambda/\\theta$\n",
    "\n",
    "Since $\\int_{0}^\\infty u^{x+r-1}e^{-u}du=\\Gamma(x+r)$ for $\\Re (u) > 0$\n",
    "\n",
    "$p(x|x_{1:N})=\\frac{\\Gamma(x+r)}{x!\\Gamma(r)}(1-\\theta)^r\\theta^{x}$"
   ]
  },
  {
   "cell_type": "markdown",
   "metadata": {},
   "source": [
    "I. Plot the predictive distribution $p(x|x_{1:N})$."
   ]
  },
  {
   "cell_type": "code",
   "execution_count": 14,
   "metadata": {},
   "outputs": [
    {
     "data": {
      "image/png": "[encoded data removed]",
      "text/plain": [
       "<Figure size 432x288 with 1 Axes>"
      ]
     },
     "metadata": {
      "needs_background": "light"
     },
     "output_type": "display_data"
    }
   ],
   "source": [
    "r = alpha + sum(eq_data) # Your expression for r here\n",
    "theta = 1/(beta+len(eq_data)) # Your expression for theta here\n",
    "X = st.nbinom(r, 1.0 - theta) # Please pay attention to the fact that the wiki and scipy.stats\n",
    "                              # use slightly different definitions\n",
    "fig, ax = plt.subplots()\n",
    "xs = range(0, 10)\n",
    "ax.vlines(xs, 0, X.pmf(xs), colors='b', lw=5, alpha=0.5)\n",
    "ax.set_xlabel('$x$ (# of earthquakes during next decade)')\n",
    "ax.set_ylabel('$p(x)$');"
   ]
  },
  {
   "cell_type": "markdown",
   "metadata": {},
   "source": [
    "J. What is the probability that at least one major earthquake will occur during the next decade?<br>\n",
    "**Answer:**"
   ]
  },
  {
   "cell_type": "code",
   "execution_count": 15,
   "metadata": {},
   "outputs": [
    {
     "name": "stdout",
     "output_type": "stream",
     "text": [
      "The probability that at least one major earthquake will occur during the next decade  is: 0.79\n"
     ]
    }
   ],
   "source": [
    "pK = 1.0 - X.cdf(0)\n",
    "print('The probability that at least one major earthquake \\\n",
    "will occur during the next decade  is: {0:1.2f}'.format(pK))"
   ]
  },
  {
   "cell_type": "markdown",
   "metadata": {},
   "source": [
    "K. What is the probability that at least one major earthquake will occur during the next two decades?<br>\n",
    "**Answer:**"
   ]
  },
  {
   "cell_type": "code",
   "execution_count": 16,
   "metadata": {},
   "outputs": [
    {
     "name": "stdout",
     "output_type": "stream",
     "text": [
      "The probability is: 0.95\n"
     ]
    }
   ],
   "source": [
    "pT = 1.0 - X.cdf(0)**2\n",
    "print('The probability is: {0:1.2f}'.format(pT))"
   ]
  },
  {
   "cell_type": "markdown",
   "metadata": {},
   "source": [
    "L. Find a 95\\% prediction interval for $\\lambda$."
   ]
  },
  {
   "cell_type": "code",
   "execution_count": 17,
   "metadata": {},
   "outputs": [
    {
     "name": "stdout",
     "output_type": "stream",
     "text": [
      "Lambda is in [0.96, 2.16] with 95% probability\n"
     ]
    }
   ],
   "source": [
    "# Write your code here and print() your answer\n",
    "lambda_low = lambda_post.ppf(0.025)\n",
    "lambda_up = lambda_post.ppf(0.975)\n",
    "print('Lambda is in [{0:1.2f}, {1:1.2f}] with 95% probability'.format(lambda_low, lambda_up))"
   ]
  },
  {
   "cell_type": "markdown",
   "metadata": {},
   "source": [
    "M. Find the $\\lambda$ that minimizes the absolute loss (see lecture), call it $\\lambda^*_N$.\n",
    "Then, plot the fully Bayesian predictive $p(x|x_{1:N})$ to $p(x|\\lambda^*_N)$."
   ]
  },
  {
   "cell_type": "code",
   "execution_count": 18,
   "metadata": {},
   "outputs": [
    {
     "name": "stdout",
     "output_type": "stream",
     "text": [
      "Lambda is that minimizes the absolute loss: 1.48\n"
     ]
    },
    {
     "data": {
      "text/plain": [
       "<matplotlib.legend.Legend at 0x11aac6eb8>"
      ]
     },
     "execution_count": 18,
     "metadata": {},
     "output_type": "execute_result"
    },
    {
     "data": {
      "image/png": "[encoded data removed]",
      "text/plain": [
       "<Figure size 432x288 with 1 Axes>"
      ]
     },
     "metadata": {
      "needs_background": "light"
     },
     "output_type": "display_data"
    }
   ],
   "source": [
    "# Write your code here and print() your answer\n",
    "lambda_q2 = lambda_post.ppf(0.50)\n",
    "print('Lambda is that minimizes the absolute loss: {0:1.2f}'.format(lambda_q2))\n",
    "\n",
    "#Plot a poisson with lambda\n",
    "\n",
    "XX = st.poisson(lambda_q2)\n",
    "\n",
    "fig, ax = plt.subplots()\n",
    "xs = range(0, 10)\n",
    "ax.vlines(xs, 0, X.pmf(xs), colors='b', lw=5, alpha=0.5, label='$p(x|x_{1:N})$')\n",
    "ax.vlines(xs, 0, XX.pmf(xs), colors='r', lw=5, alpha=0.2, label = '$p(x|\\lambda^*_N)$')\n",
    "ax.set_xlabel('$x$ (# of earthquakes during next decade)')\n",
    "ax.set_ylabel('$p(x)$');\n",
    "ax.legend(loc='best', frameon=False)\n"
   ]
  },
  {
   "cell_type": "markdown",
   "metadata": {},
   "source": [
    "-End-"
   ]
  }
 ],
 "metadata": {
  "kernelspec": {
   "display_name": "Python 3",
   "language": "python",
   "name": "python3"
  },
  "language_info": {
   "codemirror_mode": {
    "name": "ipython",
    "version": 3
   },
   "file_extension": ".py",
   "mimetype": "text/x-python",
   "name": "python",
   "nbconvert_exporter": "python",
   "pygments_lexer": "ipython3",
   "version": "3.6.7"
  }
 },
 "nbformat": 4,
 "nbformat_minor": 2
}
