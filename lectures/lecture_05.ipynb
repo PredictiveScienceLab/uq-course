{
 "cells": [
  {
   "cell_type": "markdown",
   "metadata": {},
   "source": [
    "# Lecture 5: Introduction to Probability Theory (Part III)"
   ]
  },
  {
   "cell_type": "markdown",
   "metadata": {},
   "source": [
    "## Objectives\n",
    "\n",
    "+ To introduce continuous random variables.\n",
    "+ To introduce the cumulative distribution function and its properties.\n",
    "+ To introduce the probability density function and its properties.\n",
    "+ To introduce the expectation of continuous random variables.\n",
    "+ To introduce the concept of the joint probability density function.\n",
    "+ To introduce the concept of predictive intervals.\n",
    "+ To introduce some common continuous distributions.\n",
    "+ To introduce the decision making problem.\n",
    "+ To present some simple analytical examples Bayesian inference."
   ]
  },
  {
   "cell_type": "markdown",
   "metadata": {},
   "source": [
    "## Readings\n",
    "\n",
    "+ These notes."
   ]
  },
  {
   "cell_type": "code",
   "execution_count": 2,
   "metadata": {},
   "outputs": [],
   "source": [
    "%matplotlib inline\n",
    "import matplotlib.pyplot as plt\n",
    "import seaborn as sns\n",
    "sns.set_context('talk')\n",
    "import numpy as np"
   ]
  },
  {
   "cell_type": "markdown",
   "metadata": {},
   "source": [
    "## Something more on probability spaces\n",
    "\n",
    "It turns out that when $\\Omega$ is a continuous space, like $\\mathbb{R}$ for example, it is not possible to take $\\mathcal{F}$ to be all the subsets of $\\Omega$ (you need to take a measure-theoretic probability theory class to understand why this is).\n",
    "However, many \"nice\" subsets of $\\Omega$ are usually in $\\mathcal{F}$.\n",
    "For example, in the case of $\\Omega=\\mathbb{R}$, $\\mathcal{F}$ can include all intervals, and any countable unions and intersections of intervals.\n",
    "That's a lot of sets.\n",
    "\n",
    "In any case, $\\mathcal{F}$ must satisfy certain properties for everything to be well-defined.\n",
    "These properties are:\n",
    "+ $\\Omega \\in \\mathcal{F}$\n",
    "+ For any $A$ in $\\mathcal{F}$, the complement $A^c$ is in $\\mathcal{F}$.\n",
    "+ For any $A_1,A_2,\\dots$ in $\\mathcal{F}$, the union $\\cup_n A_n$ is in $\\mathcal{F}$.\n",
    "When a set of subsets $\\mathcal{F}$ satisfies these properties, we say that it forms a $\\sigma$-algebra."
   ]
  },
  {
   "cell_type": "markdown",
   "metadata": {},
   "source": [
    "## Continuous random variables\n",
    "\n",
    "Consider a probability space $(\\Omega, \\mathcal{F}, \\mathbb{P})$.\n",
    "A continuous random variable models the result of an experiment that can potentially take infinitely many values.\n",
    "That is, it is a function\n",
    "$$\n",
    "X:\\Omega \\rightarrow \\mathbb{R}.\n",
    "$$"
   ]
  },
  {
   "cell_type": "markdown",
   "metadata": {},
   "source": [
    "## The cumulative distribution function\n",
    "\n",
    "Let $X$ be a continuous random variable.\n",
    "Its cumulative distribution function (CDF) $F_X(x)$ gives the probability that $X$ is smaller than $x$:\n",
    "$$\n",
    "F_X(x) := \\mathbb{P}(X\\le x) = \\mathbb{P}\\left(\\left\\{\\omega: X(\\omega) \\le x\\right\\}\\right).\n",
    "$$\n",
    "\n",
    "### Properties of the cumulative distribution function\n",
    "\n",
    "+ $F_X(x)$ is an increasing function.\n",
    "+ $F_X(-\\infty) = 0$.\n",
    "+ $F_X(+\\infty) = 1$.\n",
    "+ $\\mathbb{P}(a\\le X \\le b) = F_X(b) - F_X(a)$."
   ]
  },
  {
   "cell_type": "markdown",
   "metadata": {},
   "source": [
    "## The probability density function\n",
    "\n",
    "The probability density function (PDF) is a \"function\" $f_X(x)$ that can give us the probability that $X$ is in any \"good\" subset $A$ of $\\mathbb{R}$ as follows:\n",
    "$$\n",
    "\\mathbb{P}(X\\in A) = \\int_A f_X(x) dx.\n",
    "$$\n",
    "Note that certain random variables may not have a PDF that is a function.\n",
    "That's why I put the word \"function\" in quotes.\n",
    "However, if you allow the PDF to include Dirac's $\\delta$, then any random variable has a PDF.\n",
    "We will ignore this complication for the moment.\n",
    "\n",
    "In this class, we will simplify the notation and we will be writing:\n",
    "$$\n",
    "p(x) \\equiv f_X(x),\n",
    "$$\n",
    "when there is no ambiguity.\n",
    "\n",
    "### Properties of the probability density function\n",
    "+ $p(x) \\ge 0$ for all $x$.\n",
    "+ $\\int_{-\\infty}^{\\infty} p(x) dx = 1$.\n",
    "+ The derivative of the CDF is the PDF, i.e., $F_X'(x) = p(x)$.\n",
    "\n",
    "### Dirac's delta and a unified view of all random variables\n",
    "\n",
    "Dirac's $\\delta$ is a special function, actually called a distribution, which is defined as follows:\n",
    "$$\n",
    "\\delta(x) = 0,\n",
    "$$\n",
    "for $x\\not=0$, and\n",
    "$$\n",
    "\\int_{-\\infty}^\\infty \\delta(x) dx = 0\n",
    "$$\n",
    "You can think of Dirac's $\\delta$ as the PDF of a discrete random variable that takes the value $0$ with probability one.\n",
    "\n",
    "Using Dirac's $\\delta$ you can make any discrete random variable you want look like a continuous random variable.\n",
    "For example, consider a Categorical random variable taking values $x_1,\\dots,x_K$ with probabilities $p_1,\\dots,p_K$.\n",
    "The PDF of this random variable can be written as:\n",
    "$$\n",
    "p(x) = \\sum_{k=1}^Kp_k\\delta(x - x_k).\n",
    "$$\n",
    "\n",
    "The most general random variable one can think of has a PDF that consists of two parts:\n",
    "$$\n",
    "p(x) = f^n_X(x) + f^{\\delta}_X(x),\n",
    "$$\n",
    "a part $f^n_X(x)$ that is a nice proper function and a part $f^{\\delta}_X(x)$ that consists of a weighted sum of Dirac $\\delta$'s. "
   ]
  },
  {
   "cell_type": "markdown",
   "metadata": {},
   "source": [
    "## Expectations of continuous random variables\n",
    "\n",
    "The expectation of a continuous random variable is:\n",
    "$$\n",
    "\\mathbb{E}[X] = \\int_{-\\infty}^\\infty x p(x)dx.\n",
    "$$\n",
    "Its properties are the same as the expectation of a discrete random variable.\n",
    "\n",
    "The expectation of a function of the random variable is:\n",
    "$$\n",
    "\\mathbb{E}[f(X)] = \\int_{-\\infty}^\\infty f(x)p(x)dx.\n",
    "$$\n",
    "\n",
    "In general, using the Dirac $\\delta$ trick we introduced above, there is no need to differentiate between integrations and summations.\n",
    "We can use integration for both continuous and discrete random variables."
   ]
  },
  {
   "cell_type": "markdown",
   "metadata": {},
   "source": [
    "## Example: The uniform distribution\n",
    "\n",
    "The uniform distribution is the most common continuous distribution.\n",
    "It corresponds to a random variable that is equally likely to take a value within a given interval.\n",
    "We write:\n",
    "$$\n",
    "X\\sim U([0,1]),\n",
    "$$\n",
    "and we read $X$ follows a uniform distribution taking values in $[0,1]$.\n",
    "\n",
    "The probability density of the uniform is constant in $[0,1]$ and zero outside it.\n",
    "We have:\n",
    "$$\n",
    "p(x) := U(x|[0,1]) := f_X(x) = \\begin{cases}\n",
    "1,&\\;0\\le x \\le 1,\\\\\n",
    "0,&\\;\\text{otherwise}.\n",
    "\\end{cases}\n",
    "$$\n",
    "\n",
    "The cumulative distribution funciton of the uniform is:\n",
    "$$\n",
    "F_X(x) = \\mathbb{P}(X \\le x) = \\int_0^x f_X(u) du = \\int_0^x du = x.\n",
    "$$\n",
    "\n",
    "$$\n",
    "\\mathbb{P}(a \\le X \\le b) = F_X(b) - F_X(a) = b - a.\n",
    "$$\n",
    "\n",
    "The expectation of the uniform is:\n",
    "$$\n",
    "\\mathbb{E}[X] = \\int_0^1 xdx = \\frac{1}{2}.\n",
    "$$\n",
    "\n",
    "The variance of the uniform is:\n",
    "$$\n",
    "\\mathbb{V}[X] = \\mathbb{E}[X^2] - \\left(\\mathbb{E}[X]\\right)^2 = \\frac{1}{3} - \\frac{1}{4} = \\frac{1}{12}.\n",
    "$$"
   ]
  },
  {
   "cell_type": "code",
   "execution_count": 3,
   "metadata": {},
   "outputs": [
    {
     "data": {
      "text/plain": [
       "array([0.84026833, 0.65845598, 0.60008977, 0.28912065, 0.90566825,\n",
       "       0.65570185, 0.44033031, 0.32869359, 0.21375975, 0.60154439,\n",
       "       0.49983146, 0.83836381, 0.51110281, 0.43049247, 0.06878852,\n",
       "       0.06713296, 0.13212876, 0.46183692, 0.3094962 , 0.35568013,\n",
       "       0.16088182, 0.09676094, 0.7612676 , 0.85468706, 0.19199991,\n",
       "       0.81627572, 0.53028194, 0.49799524, 0.33843332, 0.65728664,\n",
       "       0.21115096, 0.29659903, 0.37629264, 0.64418448, 0.38752206,\n",
       "       0.03211736, 0.36124111, 0.69238262, 0.65959634, 0.01161887,\n",
       "       0.12856407, 0.58445238, 0.74920328, 0.8596706 , 0.29934119,\n",
       "       0.32460493, 0.85555445, 0.41133619, 0.16117151, 0.5606616 ,\n",
       "       0.31617732, 0.51108497, 0.14563453, 0.22173503, 0.31068274,\n",
       "       0.6753055 , 0.6097788 , 0.44774093, 0.10214692, 0.48474921,\n",
       "       0.26525739, 0.5756973 , 0.51427508, 0.7309122 , 0.7211369 ,\n",
       "       0.92928088, 0.18564868, 0.87830103, 0.21509788, 0.34773194,\n",
       "       0.52322319, 0.2695223 , 0.0888631 , 0.90610451, 0.00297697,\n",
       "       0.30730827, 0.14938236, 0.56612302, 0.61623698, 0.34895845,\n",
       "       0.46303514, 0.68964955, 0.8438123 , 0.518483  , 0.91871886,\n",
       "       0.28009766, 0.48290237, 0.47624068, 0.61305469, 0.52818442,\n",
       "       0.09653349, 0.68966623, 0.57683125, 0.46956882, 0.73276651,\n",
       "       0.25708933, 0.17550726, 0.3293135 , 0.70812235, 0.67623371])"
      ]
     },
     "execution_count": 3,
     "metadata": {},
     "output_type": "execute_result"
    }
   ],
   "source": [
    "# Let's demonstrate how you can sample from the uniform\n",
    "import scipy.stats as st\n",
    "X = st.uniform()\n",
    "X.rvs(size=100)"
   ]
  },
  {
   "cell_type": "code",
   "execution_count": 4,
   "metadata": {},
   "outputs": [
    {
     "data": {
      "text/plain": [
       "array([0.49541094, 0.8492931 , 0.21197901, 0.5951365 , 0.09303474,\n",
       "       0.62983066, 0.90668332, 0.1655847 , 0.50364472, 0.78504607,\n",
       "       0.93647867, 0.61381313, 0.00783188, 0.47152589, 0.84050457,\n",
       "       0.81265617, 0.02804451, 0.49259986, 0.70475617, 0.32262312,\n",
       "       0.31100037, 0.68862941, 0.67906797, 0.40668089, 0.03841042,\n",
       "       0.01167344, 0.89237896, 0.99851421, 0.44164371, 0.55661383,\n",
       "       0.78016441, 0.14696907, 0.51487554, 0.32963684, 0.10306888,\n",
       "       0.59004752, 0.99530934, 0.80707661, 0.3554867 , 0.0819486 ,\n",
       "       0.13414482, 0.3976157 , 0.16326481, 0.30403919, 0.07095966,\n",
       "       0.69915205, 0.12547987, 0.23892675, 0.83918011, 0.87236549,\n",
       "       0.48935384, 0.92815994, 0.00412763, 0.12315731, 0.57168238,\n",
       "       0.88336812, 0.04468286, 0.43049487, 0.87949099, 0.80065854,\n",
       "       0.47772435, 0.51362548, 0.03032825, 0.02711243, 0.26789413,\n",
       "       0.72056466, 0.23331368, 0.05823869, 0.85544085, 0.74363225,\n",
       "       0.6566609 , 0.3487008 , 0.08573392, 0.57713247, 0.79912554,\n",
       "       0.07853705, 0.67375609, 0.3724408 , 0.064714  , 0.50344802,\n",
       "       0.01827763, 0.41500941, 0.86643384, 0.47774499, 0.64128019,\n",
       "       0.26256395, 0.2787854 , 0.5207365 , 0.98666837, 0.95929063,\n",
       "       0.36009607, 0.64741367, 0.07825016, 0.66458187, 0.62300057,\n",
       "       0.78545596, 0.88636865, 0.65009321, 0.86824252, 0.26541036])"
      ]
     },
     "execution_count": 4,
     "metadata": {},
     "output_type": "execute_result"
    }
   ],
   "source": [
    "# An alternative way is to use the functionality of numpy\n",
    "np.random.rand(100)"
   ]
  },
  {
   "cell_type": "markdown",
   "metadata": {},
   "source": [
    "### Questions\n",
    "\n",
    "+ Modify the code above so that you sample from a uniform distribution taking values in $[2, 5]$?"
   ]
  },
  {
   "cell_type": "code",
   "execution_count": 5,
   "metadata": {},
   "outputs": [
    {
     "data": {
      "text/plain": [
       "array([4.90066061, 4.32267285, 4.10448656, 4.92068397, 2.35001067,\n",
       "       3.06976733, 2.47585548, 3.25889422, 3.1063514 , 2.33815036,\n",
       "       4.20101053, 3.8614433 , 2.33726014, 4.58375584, 2.95033647,\n",
       "       2.27113639, 3.34303565, 3.61415513, 3.67850543, 2.34500868,\n",
       "       2.49806784, 4.02626344, 4.4676948 , 4.13786923, 3.85431324,\n",
       "       3.82685702, 2.66100674, 2.32575384, 4.39056561, 4.85480272,\n",
       "       4.05117242, 3.82952799, 2.21818373, 3.41547139, 2.10929936,\n",
       "       2.43946516, 4.27178701, 2.63657869, 3.59743827, 2.75824137,\n",
       "       4.4121924 , 3.47751056, 2.38041161, 2.81396514, 2.99548304,\n",
       "       3.2306498 , 2.09710452, 2.86178832, 4.5220395 , 4.07316593,\n",
       "       2.57018112, 2.35490772, 2.88255937, 3.41299916, 2.96617517,\n",
       "       4.09183882, 2.31896294, 2.77984362, 4.16534287, 3.43347231,\n",
       "       4.60244449, 4.30990132, 2.04445195, 3.40435953, 3.00428628,\n",
       "       4.61704547, 2.09777436, 4.09460932, 4.16912261, 3.88710132,\n",
       "       2.49317909, 4.52713165, 4.859812  , 2.25922289, 2.35857438,\n",
       "       2.46767009, 3.03352275, 3.10645166, 4.65094899, 2.36111532,\n",
       "       4.69047469, 2.80548887, 3.85133631, 2.64623787, 2.60624944,\n",
       "       3.54095931, 3.31592427, 2.99390378, 3.04199097, 4.80263337,\n",
       "       3.90836696, 2.39529633, 4.18337164, 4.50365359, 3.05709737,\n",
       "       3.84488941, 3.24933983, 4.03783409, 3.36728992, 4.55251345])"
      ]
     },
     "execution_count": 5,
     "metadata": {},
     "output_type": "execute_result"
    }
   ],
   "source": [
    "np.random.uniform(2,5,100)"
   ]
  },
  {
   "cell_type": "markdown",
   "metadata": {},
   "source": [
    "## Joint probability density function\n",
    "\n",
    "Let $X$ and $Y$ be two random variables.\n",
    "There joint probability density $f_{X,Y}(x,y)$ is the function that can give us the probability that the pair $(X,Y)$ belongs to any \"good\" subset $A$ of $\\mathbb{R}^2$ as follows:\n",
    "$$\n",
    "\\mathbb{P}\\left((X,Y)\\in A\\right) = \\int\\int_{A} f_{X,Y}(x,y)dxdy.\n",
    "$$\n",
    "Of course, we will be writing:\n",
    "$$\n",
    "p(x,y) := f_{X,Y}(x,y),\n",
    "$$\n",
    "when there is no ambiguity.\n",
    "\n",
    "If you integrate one of the variables out of the joint, you get the PDF of the other variable.\n",
    "For example:\n",
    "$$\n",
    "p(x) = \\int_{-\\infty}^\\infty p(x,y) dy,\n",
    "$$\n",
    "and\n",
    "$$\n",
    "p(y) = \\int_{-\\infty}^\\infty p(x, y) dx.\n",
    "$$\n",
    "\n",
    "For many random variables $X_1,\\dots,X_N$ their joint PDF $p(x_1,\\dot,x_N)$ is similarly defined.\n",
    "Again, integrating out some variables gives the pdf of the others."
   ]
  },
  {
   "cell_type": "markdown",
   "metadata": {},
   "source": [
    "## Conditioning a random variable on another\n",
    "\n",
    "Consider two random variables $X$ and $Y$.\n",
    "If we had observed that $Y=y$, how would this change the PDF of $X$?\n",
    "The answer is given via Bayes' rule.\n",
    "The PDF of $X$ conditioned on $Y=y$ is:\n",
    "$$\n",
    "p(x|y) = \\frac{p(x,y)}{p(y)}.\n",
    "$$"
   ]
  },
  {
   "cell_type": "markdown",
   "metadata": {},
   "source": [
    "## Example: Inferring the probability of a coin toss from data (1/4)\n",
    "\n",
    "This is our first Bayesian inference example!\n",
    "\n",
    "Let's say that we run a coin toss experiment $N$ times and we wish to figure out the probability of heads.\n",
    "We will bring into the picture all the mathematical machinery we have introduced so far.\n",
    "Let's say that the data we have observe are $x_1,\\dots,x_N$.\n",
    "For notational convenience we will be writing:\n",
    "$$\n",
    "x_{1:N} := (x_1,\\dots,x_N).\n",
    "$$\n",
    "\n",
    "First, let's start with the probability of success of the coin toss.\n",
    "Let's call it $\\theta$.\n",
    "How can we describe our uncertainty about it?\n",
    "We have to assign a *prior* probability distribution on it.\n",
    "Let's say that we don't know anything about it except that it must be between 0 and 1.\n",
    "What distribution should we assign?\n",
    "Of course, a uniform distribution:\n",
    "$$\n",
    "\\theta \\sim U([0,1]).\n",
    "$$\n",
    "Second, each coin toss experiment corresponds to an independent Bernoulli variable with the same probability of success $\\theta$.\n",
    "We write:\n",
    "$$\n",
    "X_n | \\theta \\sim \\operatorname{Bernoulli}(\\theta),\n",
    "$$\n",
    "for $n=1,\\dots,N$.\n",
    "Note that these random variables depend on $\\theta$.\n",
    "That's why we are conditioning like this.\n",
    "\n",
    "Before proceeding with the mathematics, let's draw the graph."
   ]
  },
  {
   "cell_type": "code",
   "execution_count": 6,
   "metadata": {},
   "outputs": [
    {
     "data": {
      "image/svg+xml": [
       "<?xml version=\"1.0\" encoding=\"UTF-8\" standalone=\"no\"?>\n",
       "<!DOCTYPE svg PUBLIC \"-//W3C//DTD SVG 1.1//EN\"\n",
       " \"http://www.w3.org/Graphics/SVG/1.1/DTD/svg11.dtd\">\n",
       "<!-- Generated by graphviz version 2.38.0 (20140413.2041)\n",
       " -->\n",
       "<!-- Title: coin_toss_bayes_1 Pages: 1 -->\n",
       "<svg width=\"62pt\" height=\"116pt\"\n",
       " viewBox=\"0.00 0.00 62.00 116.00\" xmlns=\"http://www.w3.org/2000/svg\" xmlns:xlink=\"http://www.w3.org/1999/xlink\">\n",
       "<g id=\"graph0\" class=\"graph\" transform=\"scale(1 1) rotate(0) translate(4 112)\">\n",
       "<title>coin_toss_bayes_1</title>\n",
       "<polygon fill=\"white\" stroke=\"none\" points=\"-4,4 -4,-112 58,-112 58,4 -4,4\"/>\n",
       "<!-- theta -->\n",
       "<g id=\"node1\" class=\"node\"><title>theta</title>\n",
       "<ellipse fill=\"none\" stroke=\"black\" cx=\"27\" cy=\"-90\" rx=\"27\" ry=\"18\"/>\n",
       "<text text-anchor=\"start\" x=\"23.1069\" y=\"-85.8\" font-family=\"Times,serif\" font-size=\"14.00\">θ</text>\n",
       "</g>\n",
       "<!-- X1 -->\n",
       "<g id=\"node2\" class=\"node\"><title>X1</title>\n",
       "<ellipse fill=\"lightgrey\" stroke=\"black\" cx=\"27\" cy=\"-18\" rx=\"27\" ry=\"18\"/>\n",
       "<text text-anchor=\"start\" x=\"18.4448\" y=\"-14.8\" font-family=\"Times,serif\" font-size=\"14.00\">X</text>\n",
       "<text text-anchor=\"start\" x=\"28.5552\" y=\"-14.8\" font-family=\"Times,serif\" baseline-shift=\"sub\" font-size=\"14.00\">1</text>\n",
       "</g>\n",
       "<!-- theta&#45;&gt;X1 -->\n",
       "<g id=\"edge1\" class=\"edge\"><title>theta&#45;&gt;X1</title>\n",
       "<path fill=\"none\" stroke=\"black\" d=\"M27,-71.6966C27,-63.9827 27,-54.7125 27,-46.1124\"/>\n",
       "<polygon fill=\"black\" stroke=\"black\" points=\"30.5001,-46.1043 27,-36.1043 23.5001,-46.1044 30.5001,-46.1043\"/>\n",
       "</g>\n",
       "</g>\n",
       "</svg>\n"
      ],
      "text/plain": [
       "<graphviz.dot.Digraph at 0x10fc96cc0>"
      ]
     },
     "execution_count": 6,
     "metadata": {},
     "output_type": "execute_result"
    }
   ],
   "source": [
    "# First for one coin toss\n",
    "from graphviz import Digraph\n",
    "gc = Digraph('coin_toss_bayes_1')\n",
    "gc.node('theta', label='<&theta;>')\n",
    "gc.node('X1', label='<X<sub>1</sub>>', style='filled')\n",
    "gc.edge('theta', 'X1')\n",
    "gc.render('coin_toss_bayes_1', format='png')\n",
    "gc"
   ]
  },
  {
   "cell_type": "code",
   "execution_count": 7,
   "metadata": {},
   "outputs": [
    {
     "data": {
      "image/svg+xml": [
       "<?xml version=\"1.0\" encoding=\"UTF-8\" standalone=\"no\"?>\n",
       "<!DOCTYPE svg PUBLIC \"-//W3C//DTD SVG 1.1//EN\"\n",
       " \"http://www.w3.org/Graphics/SVG/1.1/DTD/svg11.dtd\">\n",
       "<!-- Generated by graphviz version 2.38.0 (20140413.2041)\n",
       " -->\n",
       "<!-- Title: coin_toss_bayes_2 Pages: 1 -->\n",
       "<svg width=\"134pt\" height=\"116pt\"\n",
       " viewBox=\"0.00 0.00 134.00 116.00\" xmlns=\"http://www.w3.org/2000/svg\" xmlns:xlink=\"http://www.w3.org/1999/xlink\">\n",
       "<g id=\"graph0\" class=\"graph\" transform=\"scale(1 1) rotate(0) translate(4 112)\">\n",
       "<title>coin_toss_bayes_2</title>\n",
       "<polygon fill=\"white\" stroke=\"none\" points=\"-4,4 -4,-112 130,-112 130,4 -4,4\"/>\n",
       "<!-- theta -->\n",
       "<g id=\"node1\" class=\"node\"><title>theta</title>\n",
       "<ellipse fill=\"none\" stroke=\"black\" cx=\"63\" cy=\"-90\" rx=\"27\" ry=\"18\"/>\n",
       "<text text-anchor=\"start\" x=\"59.1069\" y=\"-85.8\" font-family=\"Times,serif\" font-size=\"14.00\">θ</text>\n",
       "</g>\n",
       "<!-- X1 -->\n",
       "<g id=\"node2\" class=\"node\"><title>X1</title>\n",
       "<ellipse fill=\"lightgrey\" stroke=\"black\" cx=\"27\" cy=\"-18\" rx=\"27\" ry=\"18\"/>\n",
       "<text text-anchor=\"start\" x=\"18.4448\" y=\"-14.8\" font-family=\"Times,serif\" font-size=\"14.00\">X</text>\n",
       "<text text-anchor=\"start\" x=\"28.5552\" y=\"-14.8\" font-family=\"Times,serif\" baseline-shift=\"sub\" font-size=\"14.00\">1</text>\n",
       "</g>\n",
       "<!-- theta&#45;&gt;X1 -->\n",
       "<g id=\"edge1\" class=\"edge\"><title>theta&#45;&gt;X1</title>\n",
       "<path fill=\"none\" stroke=\"black\" d=\"M54.6504,-72.7646C50.2885,-64.2831 44.8531,-53.7144 39.9587,-44.1974\"/>\n",
       "<polygon fill=\"black\" stroke=\"black\" points=\"42.9904,-42.4395 35.3043,-35.1473 36.7654,-45.6409 42.9904,-42.4395\"/>\n",
       "</g>\n",
       "<!-- X2 -->\n",
       "<g id=\"node3\" class=\"node\"><title>X2</title>\n",
       "<ellipse fill=\"lightgrey\" stroke=\"black\" cx=\"99\" cy=\"-18\" rx=\"27\" ry=\"18\"/>\n",
       "<text text-anchor=\"start\" x=\"90.4448\" y=\"-14.8\" font-family=\"Times,serif\" font-size=\"14.00\">X</text>\n",
       "<text text-anchor=\"start\" x=\"100.555\" y=\"-14.8\" font-family=\"Times,serif\" baseline-shift=\"sub\" font-size=\"14.00\">2</text>\n",
       "</g>\n",
       "<!-- theta&#45;&gt;X2 -->\n",
       "<g id=\"edge2\" class=\"edge\"><title>theta&#45;&gt;X2</title>\n",
       "<path fill=\"none\" stroke=\"black\" d=\"M71.3496,-72.7646C75.7115,-64.2831 81.1469,-53.7144 86.0413,-44.1974\"/>\n",
       "<polygon fill=\"black\" stroke=\"black\" points=\"89.2346,-45.6409 90.6957,-35.1473 83.0096,-42.4395 89.2346,-45.6409\"/>\n",
       "</g>\n",
       "</g>\n",
       "</svg>\n"
      ],
      "text/plain": [
       "<graphviz.dot.Digraph at 0x10fceecf8>"
      ]
     },
     "execution_count": 7,
     "metadata": {},
     "output_type": "execute_result"
    }
   ],
   "source": [
    "# Now for two coin tosses\n",
    "gc2 = Digraph('coin_toss_bayes_2')\n",
    "gc2.node('theta', label='<&theta;>')\n",
    "gc2.node('X1', label='<X<sub>1</sub>>', style='filled')\n",
    "gc2.node('X2', label='<X<sub>2</sub>>', style='filled')\n",
    "gc2.edge('theta', 'X1')\n",
    "gc2.edge('theta', 'X2')\n",
    "gc2.render('coin_toss_bayes_2', format='png')\n",
    "gc2"
   ]
  },
  {
   "cell_type": "code",
   "execution_count": 8,
   "metadata": {},
   "outputs": [
    {
     "data": {
      "image/svg+xml": [
       "<?xml version=\"1.0\" encoding=\"UTF-8\" standalone=\"no\"?>\n",
       "<!DOCTYPE svg PUBLIC \"-//W3C//DTD SVG 1.1//EN\"\n",
       " \"http://www.w3.org/Graphics/SVG/1.1/DTD/svg11.dtd\">\n",
       "<!-- Generated by graphviz version 2.38.0 (20140413.2041)\n",
       " -->\n",
       "<!-- Title: coin_toss_bayes_3 Pages: 1 -->\n",
       "<svg width=\"206pt\" height=\"116pt\"\n",
       " viewBox=\"0.00 0.00 206.00 116.00\" xmlns=\"http://www.w3.org/2000/svg\" xmlns:xlink=\"http://www.w3.org/1999/xlink\">\n",
       "<g id=\"graph0\" class=\"graph\" transform=\"scale(1 1) rotate(0) translate(4 112)\">\n",
       "<title>coin_toss_bayes_3</title>\n",
       "<polygon fill=\"white\" stroke=\"none\" points=\"-4,4 -4,-112 202,-112 202,4 -4,4\"/>\n",
       "<!-- theta -->\n",
       "<g id=\"node1\" class=\"node\"><title>theta</title>\n",
       "<ellipse fill=\"none\" stroke=\"black\" cx=\"99\" cy=\"-90\" rx=\"27\" ry=\"18\"/>\n",
       "<text text-anchor=\"start\" x=\"95.1069\" y=\"-85.8\" font-family=\"Times,serif\" font-size=\"14.00\">θ</text>\n",
       "</g>\n",
       "<!-- X1 -->\n",
       "<g id=\"node2\" class=\"node\"><title>X1</title>\n",
       "<ellipse fill=\"lightgrey\" stroke=\"black\" cx=\"27\" cy=\"-18\" rx=\"27\" ry=\"18\"/>\n",
       "<text text-anchor=\"start\" x=\"18.4448\" y=\"-14.8\" font-family=\"Times,serif\" font-size=\"14.00\">X</text>\n",
       "<text text-anchor=\"start\" x=\"28.5552\" y=\"-14.8\" font-family=\"Times,serif\" baseline-shift=\"sub\" font-size=\"14.00\">1</text>\n",
       "</g>\n",
       "<!-- theta&#45;&gt;X1 -->\n",
       "<g id=\"edge1\" class=\"edge\"><title>theta&#45;&gt;X1</title>\n",
       "<path fill=\"none\" stroke=\"black\" d=\"M84.4297,-74.8345C74.2501,-64.9376 60.4761,-51.5462 48.9694,-40.3591\"/>\n",
       "<polygon fill=\"black\" stroke=\"black\" points=\"51.4055,-37.8461 41.7957,-33.3847 46.5259,-42.865 51.4055,-37.8461\"/>\n",
       "</g>\n",
       "<!-- X2 -->\n",
       "<g id=\"node3\" class=\"node\"><title>X2</title>\n",
       "<ellipse fill=\"lightgrey\" stroke=\"black\" cx=\"99\" cy=\"-18\" rx=\"27\" ry=\"18\"/>\n",
       "<text text-anchor=\"start\" x=\"90.4448\" y=\"-14.8\" font-family=\"Times,serif\" font-size=\"14.00\">X</text>\n",
       "<text text-anchor=\"start\" x=\"100.555\" y=\"-14.8\" font-family=\"Times,serif\" baseline-shift=\"sub\" font-size=\"14.00\">2</text>\n",
       "</g>\n",
       "<!-- theta&#45;&gt;X2 -->\n",
       "<g id=\"edge2\" class=\"edge\"><title>theta&#45;&gt;X2</title>\n",
       "<path fill=\"none\" stroke=\"black\" d=\"M99,-71.6966C99,-63.9827 99,-54.7125 99,-46.1124\"/>\n",
       "<polygon fill=\"black\" stroke=\"black\" points=\"102.5,-46.1043 99,-36.1043 95.5001,-46.1044 102.5,-46.1043\"/>\n",
       "</g>\n",
       "<!-- X3 -->\n",
       "<g id=\"node4\" class=\"node\"><title>X3</title>\n",
       "<ellipse fill=\"lightgrey\" stroke=\"black\" cx=\"171\" cy=\"-18\" rx=\"27\" ry=\"18\"/>\n",
       "<text text-anchor=\"start\" x=\"162.445\" y=\"-14.8\" font-family=\"Times,serif\" font-size=\"14.00\">X</text>\n",
       "<text text-anchor=\"start\" x=\"172.555\" y=\"-14.8\" font-family=\"Times,serif\" baseline-shift=\"sub\" font-size=\"14.00\">3</text>\n",
       "</g>\n",
       "<!-- theta&#45;&gt;X3 -->\n",
       "<g id=\"edge3\" class=\"edge\"><title>theta&#45;&gt;X3</title>\n",
       "<path fill=\"none\" stroke=\"black\" d=\"M113.57,-74.8345C123.75,-64.9376 137.524,-51.5462 149.031,-40.3591\"/>\n",
       "<polygon fill=\"black\" stroke=\"black\" points=\"151.474,-42.865 156.204,-33.3847 146.595,-37.8461 151.474,-42.865\"/>\n",
       "</g>\n",
       "</g>\n",
       "</svg>\n"
      ],
      "text/plain": [
       "<graphviz.dot.Digraph at 0x10fcfe2e8>"
      ]
     },
     "execution_count": 8,
     "metadata": {},
     "output_type": "execute_result"
    }
   ],
   "source": [
    "# Now for three coin tosses\n",
    "gc3 = Digraph('coin_toss_bayes_3')\n",
    "gc3.node('theta', label='<&theta;>')\n",
    "gc3.node('X1', label='<X<sub>1</sub>>', style='filled')\n",
    "gc3.node('X2', label='<X<sub>2</sub>>', style='filled')\n",
    "gc3.node('X3', label='<X<sub>3</sub>>', style='filled')\n",
    "gc3.edge('theta', 'X1')\n",
    "gc3.edge('theta', 'X2')\n",
    "gc3.edge('theta', 'X3')\n",
    "gc3.render('coin_toss_bayes_3', format='png')\n",
    "gc3"
   ]
  },
  {
   "cell_type": "markdown",
   "metadata": {},
   "source": [
    "Because this notation gets a little bit too involved, we introduce the so called [plate notation](https://en.wikipedia.org/wiki/Plate_notation).\n",
    "Whategver is inside the subgrpah indicated by the box is supposed to be repeated as many times as indicated:"
   ]
  },
  {
   "cell_type": "code",
   "execution_count": null,
   "metadata": {},
   "outputs": [],
   "source": [
    "gcp = Digraph('coin_toss_bayes_plate')\n",
    "gcp.node('theta', label='<&theta;>')\n",
    "with gcp.subgraph(name='cluster_0') as sg:\n",
    "    sg.node('Xn', label='<X<sub>n</sub>>', style='filled')\n",
    "    sg.attr(label='n=1,...,N')\n",
    "    sg.attr(labelloc='b')\n",
    "gcp.edge('theta', 'Xn')\n",
    "gcp.render('coin_toss_bayes_plate', format='png')\n",
    "gcp"
   ]
  },
  {
   "cell_type": "markdown",
   "metadata": {},
   "source": [
    "To carry out Bayesian inference, we need the joint probability density of all variables.\n",
    "It is:\n",
    "$$\n",
    "p(x_1,\\dots,x_N, \\theta) = p(x_{1:N}|\\theta) p(\\theta) = \\left(\\prod_{n=1}p(x_n|\\theta)\\right)p(\\theta),\n",
    "$$\n",
    "where we first used Bayes' rule and then the fact that the coin tosses are independent.\n",
    "We must find the mathematical form of all these expressions.\n",
    "For $\\theta$, we simply have:\n",
    "$$\n",
    "p(\\theta) = 1_{[0,1]}(\\theta),\n",
    "$$\n",
    "where $1_A(x)$ is the indicator function of $A$, i.e., $1_A(x) = 1$ if $x$ is in $A$ and zero otherwise.\n",
    "For the Bernoulli pmf's we have:\n",
    "$$\n",
    "p(X_n = 1|\\theta) = \\theta,\n",
    "$$\n",
    "and\n",
    "$$\n",
    "p(X_n = 0|\\theta) = 1- \\theta.\n",
    "$$\n",
    "So, in a unified way, we can write:\n",
    "$$\n",
    "p(x_n | \\theta) = \\theta^{x_n}(1-\\theta)^{1-x_n}.\n",
    "$$\n",
    "Now, let's re-write the joint pmf:\n",
    "$$\n",
    "p(x_1,\\dots,x_N, \\theta) = \\theta^{\\sum_{n=1}^Nx_n}(1-\\theta)^{N-\\sum_{n=1}^Nx_n}1_{[0,1]}(\\theta),\n",
    "$$\n",
    "which has a nice interpretation as it depends only on the total number of heads $\\sum_{n=1}^Nx_n$.\n",
    "\n",
    "Now, we are in a position to apply Bayes rule to condition on the data.\n",
    "We have:\n",
    "$$\n",
    "p(\\theta|x_{1:N}) = \\frac{p(x_{1:N},\\theta)}{p(x_{1:N})} \\propto p(x_{1:N}, \\theta) = \\theta^{\\sum_{n=1}^Nx_n}(1-\\theta)^{N-\\sum_{n=1}^Nx_n}1_{[0,1]}(\\theta).\n",
    "$$\n",
    "It may be the first time you encounter this, but we have actually discovered a new distribution called the [Beta distribution](https://en.wikipedia.org/wiki/Beta_distribution).\n",
    "This is what the posterior turns out to be.\n",
    "This is one of the few instances where the posterior is analytically available.\n",
    "We will return to the example, once we introduce the Beta distribution."
   ]
  },
  {
   "cell_type": "markdown",
   "metadata": {},
   "source": [
    "## Example: The Beta distribution\n",
    "\n",
    "The Beta distribution is suitable for random variables that take values in $[0,1]$ but are not necessarily uniform.\n",
    "We write:\n",
    "$$\n",
    "X\\sim \\operatorname{Beta}(\\alpha, \\beta),\n",
    "$$\n",
    "where $\\alpha$ and $\\beta$ are positive shape parameters.\n",
    "The interpretation of the parameters is more or less this:\n",
    "+ The bigger $\\alpha$ is, the more the distribution is pulled towards zero.\n",
    "+ The bigger $\\beta$ is, the more the distribution is pulled towards one.\n",
    "\n",
    "The PDF of the Beta is:\n",
    "$$\n",
    "p(x) = \\frac{x^{\\alpha-1}(1-x)^{\\beta - 1}}{B(\\alpha,\\beta)},\n",
    "$$\n",
    "where\n",
    "$$\n",
    "B(\\alpha,\\beta) = \\frac{\\Gamma(\\alpha)\\Gamma(\\beta)}{\\Gamma(\\alpha+\\beta)},\n",
    "$$\n",
    "where $\\Gamma$ is the [Gamma function](https://en.wikipedia.org/wiki/Gamma_function).\n",
    "It's expectation is:\n",
    "$$\n",
    "\\mathbb{E}[X] = \\frac{\\alpha}{\\alpha + \\beta}.\n",
    "$$"
   ]
  },
  {
   "cell_type": "markdown",
   "metadata": {},
   "source": [
    "## Example: Inferring the probability of a coin toss from data (2/4)\n",
    "\n",
    "Now, that we know about the Beta distribution, we can write for the posterior of $\\theta$:\n",
    "$$\n",
    "p(\\theta|x_{1:N}) = \\operatorname{Beta}\\left(\\theta\\middle|1 + \\sum_{n=1}^Nx_n, 1 + N - \\sum_{n=1}^Nx_n\\right).\n",
    "$$\n",
    "where with $\\operatorname{Beta}(\\theta|\\alpha,\\beta)$ we mean the PDF of the $\\operatorname{Beta}(\\alpha,\\beta)$ evaluated at $\\theta$ (this is a very useful notation).\n",
    "So, we see that the $\\alpha$ parameter is just one plus the number of heads and the $\\beta$ parameter is one plus the number of tails.\n",
    "\n",
    "Let's try this out with some fake data."
   ]
  },
  {
   "cell_type": "code",
   "execution_count": 24,
   "metadata": {},
   "outputs": [
    {
     "data": {
      "text/plain": [
       "<matplotlib.legend.Legend at 0x10d9a0c88>"
      ]
     },
     "execution_count": 24,
     "metadata": {},
     "output_type": "execute_result"
    },
    {
     "data": {
      "image/png": "[encoded data removed]",
      "text/plain": [
       "<Figure size 432x288 with 1 Axes>"
      ]
     },
     "metadata": {
      "needs_background": "light"
     },
     "output_type": "display_data"
    }
   ],
   "source": [
    "# Take a fake coin which is a little bit biased\n",
    "theta_true = 0.8\n",
    "# This is the random variable corresponding to a coin toss\n",
    "X = st.bernoulli(theta_true)\n",
    "# Sample from it a number of times to generate our data = (x1, ..., xN)\n",
    "N = 10000\n",
    "data = X.rvs(size=N)\n",
    "# Now we are ready to calculate the posterior which the Beta we have above\n",
    "alpha = 1.0 + data.sum()\n",
    "beta = 1.0 + N - data.sum()\n",
    "Theta_post = st.beta(alpha, beta)\n",
    "# Now we can plot the posterior PDF for theta\n",
    "fig, ax = plt.subplots()\n",
    "thetas = np.linspace(0, 1, 100)\n",
    "ax.plot([theta_true], [0.0], 'o', markeredgewidth=2, markersize=10, label='True value')\n",
    "ax.plot(thetas, Theta_post.pdf(thetas), label=r'$p(\\theta|x_{1:N})$')\n",
    "ax.set_xlabel(r'$\\theta$')\n",
    "ax.set_title('$N={0:d}$'.format(N))\n",
    "plt.legend(loc='best')"
   ]
  },
  {
   "cell_type": "markdown",
   "metadata": {},
   "source": [
    "### Questions\n",
    "\n",
    "+ Experiment with different values of $\\theta_{\\text{true}}$ and different values of $N$.\n",
    "+ Is the true value always covered by the posterior PDF?"
   ]
  },
  {
   "cell_type": "markdown",
   "metadata": {},
   "source": [
    "## Quantiles of a random variable\n",
    "\n",
    "The posterior $p(\\theta|x_{1:N})$ summarizes everything that we have to say about $\\theta$.\n",
    "It is the complete picture.\n",
    "However, you may be asked to find an interval within which $\\theta$ lies with high accuracy?\n",
    "How do you do that?\n",
    "For this we need the idea of quantiles.\n",
    "\n",
    "Let $X$ be a random variable and $q$ be a number between $0$ and $1$.\n",
    "The $q$-quantile of $X$ is the smaller number $x_q$ such that $X$ is smaller than $x_q$ with probability $q$.\n",
    "Mathematically:\n",
    "$$\n",
    "\\mathbb{P}(X\\le x_q) = F_X(x_q) = q.\n",
    "$$\n",
    "(For the proper mathematical definition we need to use the concept of infimum.)\n",
    "For example, you can find the $2.5\\%$ quantile of a random variable, $x_{0.025}$:\n",
    "$$\n",
    "\\mathbb{P}(X\\le x_{0.025}) = 0.025,\n",
    "$$\n",
    "or the $97.5\\%$ quantile:\n",
    "$$\n",
    "\\mathbb{P}(X\\le x_{0.975}) = 0.975.\n",
    "$$\n",
    "Then you can say that, with 95\\% probability, $X$ lies between $x_{0.025}$ and $x_{0.975}$.\n",
    "The interval $[x_{0.025}, x_{0.975}]$ is called a $95\\%$ predictive interval."
   ]
  },
  {
   "cell_type": "markdown",
   "metadata": {},
   "source": [
    "## Example: Inferring the probability of a coin toss from data (3/4)\n",
    "\n",
    "Let's apply the idea of quantiles to the coin toss example to find a 95\\% predictive interval."
   ]
  },
  {
   "cell_type": "code",
   "execution_count": 25,
   "metadata": {},
   "outputs": [
    {
     "name": "stdout",
     "output_type": "stream",
     "text": [
      "Theta is in [0.79, 0.81] with 99% probability\n"
     ]
    }
   ],
   "source": [
    "theta_low = Theta_post.ppf(0.01) # ppf stands for percent point function\n",
    "theta_up = Theta_post.ppf(0.99)\n",
    "print('Theta is in [{0:1.2f}, {1:1.2f}] with 99% probability'.format(theta_low, theta_up))"
   ]
  },
  {
   "cell_type": "markdown",
   "metadata": {},
   "source": [
    "### Questions\n",
    "+ How many coin tosses do you have to do, in order to estimate $\\theta$ within an accuracy of $1\\%$ with $99\\%$ probability?\n",
    "\n",
    "Tryng with $N=1000$ helps to do so."
   ]
  },
  {
   "cell_type": "markdown",
   "metadata": {},
   "source": [
    "## The decision making problem\n",
    "\n",
    "So, we learned about predictive intervals.\n",
    "But what if someone asks you to report a single value for $\\theta$ in the coin toss example?\n",
    "What is the correct way of doing this?\n",
    "\n",
    "This is actually a decision-making problem.\n",
    "To answer it, you have to quantify the cost of making a mistake and then make a decision that minimizes this cost.\n",
    "To formalize this concept, assume that we have a random variable $X$ and we have to guess a value for it.\n",
    "Let $\\ell(x, x')$ be the loss we incur when we guess $x$ and the true value is $x'$.\n",
    "This is a completly subjective quantity.\n",
    "However, here are some ideas:\n",
    "+ The square loss:\n",
    "$$\n",
    "\\ell_2(x,x') = (x-x')^2.\n",
    "$$\n",
    "+ The absolute loss:\n",
    "$$\n",
    "\\ell_1(x,x') = |x-x'|.\n",
    "$$\n",
    "\n",
    "The rational thing to do, when choosing a value for $x$ is to minimize our *expected loss*, i.e., we make our choice by solving this problem:\n",
    "$$\n",
    "x^* = \\min_x \\mathbb{E}[\\ell(x,X)].\n",
    "$$\n",
    "This, in general, is not a problem with an analytical solution.\n",
    "However, for the two special loss functions above the answer is:\n",
    "+ The choice that minimizes the square loss is the expectation of the random variable:\n",
    "$$\n",
    "x^* = \\mathbb{E}[X].\n",
    "$$\n",
    "+ The choice that minimizes the absolute loss is the median, i.e., $x^*$ is the 50\\% quantile:\n",
    "$$\n",
    "x^* = x_{0.5}.\n",
    "$$"
   ]
  },
  {
   "cell_type": "markdown",
   "metadata": {},
   "source": [
    "## Example: Inferring the probability of a coin toss from data (4/4)\n",
    "\n",
    "Let's pick a $\\theta$ by minimizing the square loss.\n",
    "We just have to find the expectation of the posterior $p(\\theta|x_{1:N})$ (which is just a Beta).\n",
    "It is:\n",
    "$$\n",
    "\\theta^*_N = \\mathbb{E}[\\theta|x_{1:N}] = \\frac{1+\\sum_{n=1}^Nx_n}{1+\\sum_{n=1}^Nx_n + N + 1 - \\sum_{n=1}^Nx_n}\n",
    "= \\frac{1 + \\sum_{n=1}^Nx_n}{N+2}.\n",
    "$$"
   ]
  },
  {
   "cell_type": "code",
   "execution_count": 26,
   "metadata": {},
   "outputs": [
    {
     "name": "stdout",
     "output_type": "stream",
     "text": [
      "E[X] = 0.80\n"
     ]
    }
   ],
   "source": [
    "# In the example we had above:\n",
    "theta_star = Theta_post.expect()\n",
    "print('E[X] = {0:1.2f}'.format(theta_star))"
   ]
  },
  {
   "cell_type": "markdown",
   "metadata": {},
   "source": [
    "### Questions\n",
    "+ Find the 50\\% quantile of $\\theta$ which minimizes the absolute loss."
   ]
  },
  {
   "cell_type": "markdown",
   "metadata": {},
   "source": [
    "## Example: The normal distribution\n",
    "\n",
    "The normal (or Gaussian) distribution is a ubiquitous one.\n",
    "It appears over and over again.\n",
    "There are two explanations as to why it appears so often:\n",
    "\n",
    "+ It is the distribution of maximum uncertainty that matches a known mean and a known variance variance.\n",
    "+ It is the distribution that arises when you add a lot of random variables together.\n",
    "\n",
    "We will learn about both these in the next lectures.\n",
    "\n",
    "We write:\n",
    "$$\n",
    "X | \\mu, \\sigma \\sim N(\\mu, \\sigma),\n",
    "$$\n",
    "and we read \"$X$ conditioned on $\\mu$ and $\\sigma$ follows a normal distribution with mean $\\mu$ and variance $\\sigma^2$.\n",
    "\n",
    "When $\\mu=0$ and $\\sigma^2=1$, we say that we have a *standard normal* distribution.\n",
    "Let\n",
    "$$\n",
    "Z\\sim N(0,1).\n",
    "$$\n",
    "The PDF of the standard normal is:\n",
    "$$\n",
    "\\phi(z) := N(z|0,1) = \\frac{1}{\\sqrt{2\\pi}}\\exp\\left\\{-\\frac{z^2}{2}\\right\\}.\n",
    "$$\n",
    "The CDF of the standard normal is:\n",
    "$$\n",
    "\\Phi(z) := \\mathbb{P}(Z \\le z) = \\int_{-\\infty}^z \\phi(z')dz',\n",
    "$$\n",
    "is not analytically available.\n",
    "However, there are codes that can compute it."
   ]
  },
  {
   "cell_type": "code",
   "execution_count": 27,
   "metadata": {},
   "outputs": [
    {
     "data": {
      "image/png": "[encoded data removed]",
      "text/plain": [
       "<Figure size 432x288 with 1 Axes>"
      ]
     },
     "metadata": {
      "needs_background": "light"
     },
     "output_type": "display_data"
    }
   ],
   "source": [
    "# Here is how you can get the PDF of the standard normal\n",
    "Z = st.norm()\n",
    "fig, ax = plt.subplots()\n",
    "zs = np.linspace(-4.0, 4.0, 100)\n",
    "ax.plot(zs, Z.pdf(zs))\n",
    "ax.set_xlabel('$x$')\n",
    "ax.set_ylabel('$\\phi(x) = N(x|0,1)$');"
   ]
  },
  {
   "cell_type": "code",
   "execution_count": 28,
   "metadata": {},
   "outputs": [
    {
     "data": {
      "image/png": "[encoded data removed]",
      "text/plain": [
       "<Figure size 432x288 with 1 Axes>"
      ]
     },
     "metadata": {
      "needs_background": "light"
     },
     "output_type": "display_data"
    }
   ],
   "source": [
    "# And here is the CDF of the standard normal\n",
    "fig, ax = plt.subplots()\n",
    "ax.plot(zs, Z.cdf(zs))\n",
    "ax.set_xlabel('$x$')\n",
    "ax.set_ylabel('$\\Phi(x)$');"
   ]
  },
  {
   "cell_type": "code",
   "execution_count": 29,
   "metadata": {},
   "outputs": [
    {
     "name": "stdout",
     "output_type": "stream",
     "text": [
      "[-0.28012392 -0.21167215  0.32225652  0.15661126  1.32716824 -0.78180125\n",
      "  0.97530039 -1.4468328   0.57361134  0.32025017  1.28403105 -1.47637426\n",
      " -0.20385698 -1.77782589  1.62043171  0.9318481   0.57962281 -0.8622138\n",
      " -0.39572055 -0.03183324  1.74265241 -0.95855943  1.14780692  1.96460298\n",
      " -0.40568034 -1.65178163  0.31419614  1.11094519 -0.39142411 -1.37343707\n",
      "  0.69967488  1.23720003  0.80767953 -0.43387648  0.57732712  0.10048513\n",
      "  1.03813079  1.9866271  -0.66151255  0.89681346  1.17337981 -0.16393636\n",
      " -1.11658314 -0.96869012 -0.48744196  2.66373087 -0.22160942  2.18294021\n",
      "  0.39789484  0.15174289 -0.64853006  1.20651975 -1.19236771 -1.48951494\n",
      "  0.34936532 -0.51517135 -0.94038817  0.48792914  0.45326095 -0.90596463\n",
      " -1.45098158 -0.37999684  0.19177157  0.39853334 -1.73905877  0.3349685\n",
      " -1.04608291 -0.51632713 -1.0953841  -0.02077745  2.00126633 -1.3923528\n",
      " -0.79350725  0.45675662  0.06259856  1.31178284 -0.66554574 -0.5159625\n",
      " -1.10586935 -1.55518573 -0.05103762  0.8861538   1.02794572 -2.58675271\n",
      " -1.1936558  -0.79449296  1.86603554  1.0047135  -0.50147287  2.83615185\n",
      " -0.67778949  0.52722609  1.33037485  1.94846161  0.60890367 -0.47382493\n",
      "  0.56619412 -0.04037626  1.46144303  1.00774498]\n"
     ]
    }
   ],
   "source": [
    "# You can sample from the normal like this:\n",
    "print(Z.rvs(size=100))"
   ]
  },
  {
   "cell_type": "markdown",
   "metadata": {},
   "source": [
    "Using the standard normal, we can express any normal.\n",
    "It is easy to show that:\n",
    "$$\n",
    "X = \\mu + \\sigma Z,\n",
    "$$\n",
    "follows a $N(\\mu,\\sigma^2)$ if $Z$ follows and $N(0,1)$.\n",
    "You must remember this!\n",
    "It is extremely useful and it will appear again and again.\n",
    "For example, using this relationship you can sample from any normal using samples from the standard normal.\n",
    "Let's take some samples exploiting this relationship and then compare the histogram to the true PDF."
   ]
  },
  {
   "cell_type": "code",
   "execution_count": 14,
   "metadata": {},
   "outputs": [
    {
     "data": {
      "image/png": "[encoded data removed]",
      "text/plain": [
       "<Figure size 432x288 with 1 Axes>"
      ]
     },
     "metadata": {
      "needs_background": "light"
     },
     "output_type": "display_data"
    }
   ],
   "source": [
    "mu = 1.0\n",
    "sigma = 0.1\n",
    "X = st.norm(mu, sigma)\n",
    "xs = np.linspace(mu - 6.0 * sigma, mu + 6.0 * sigma, 100)\n",
    "x_samples = mu + sigma * Z.rvs(size=10000)\n",
    "fig, ax = plt.subplots()\n",
    "ax.hist(x_samples, density=True, alpha=0.5)\n",
    "ax.plot(xs, X.pdf(xs))\n",
    "ax.set_xlabel('$x$')\n",
    "ax.set_ylabel('$p(x)$');"
   ]
  },
  {
   "cell_type": "markdown",
   "metadata": {},
   "source": [
    "The reverse of the previous expression also holds.\n",
    "For example, if $X | \\mu, \\sigma\\sim N(\\mu,\\sigma)$, then the random variable\n",
    "$$\n",
    "Z = \\frac{X-\\mu}{\\sigma},\n",
    "$$\n",
    "follows a standard normal.\n",
    "You will be asked to prove this in the homework.\n",
    "\n",
    "You should also remember the mathematical form of the PDF of $N(\\mu,\\sigma)$ which is:\n",
    "$$\n",
    "p(x) := \\frac{1}{\\sqrt{2\\pi}\\sigma}\\exp\\left\\{-\\frac{(x-\\mu)^2}{2\\sigma^2}\\right\\} = \\frac{1}{\\sigma}\\phi\\left(\\frac{x-\\mu}{\\sigma}\\right).\n",
    "$$\n",
    "\n",
    "There is also a very nice relationship between the CDF of $N(\\mu,\\sigma)$, call it $F(x)$, and the CDF of the standard normal $\\Phi(z)$.\n",
    "It is:\n",
    "$$\n",
    "F(x) = \\mathbb{P}(X\\le x|\\mu,\\sigma) = \\mathbb{P}\\left(\\frac{X-\\mu}{\\sigma}\\le \\frac{x-\\mu}{\\sigma}\\right) = \\Phi\\left(\\frac{x-\\mu}{\\sigma}\\right).\n",
    "$$"
   ]
  },
  {
   "cell_type": "markdown",
   "metadata": {},
   "source": [
    "## Example: Infering the mean of a normal with a known variance\n",
    "\n",
    "Assume that we are performing an experiment $X_n$ that measures the acceleration of gravity and that we know that the measurement variance is $\\sigma = 0.1$.\n",
    "So, we have:\n",
    "$$\n",
    "X_n | g, \\sigma \\sim N(g, \\sigma^2).\n",
    "$$\n",
    "So, the model says that the measured acceleration of gravity is around the true one with some Gaussian noise.\n",
    "\n",
    "What is our state of knowlegde about $g$ before we see any data?\n",
    "Assume that it is adequately captured by:\n",
    "$$\n",
    "g | g_0, s_0 \\sim N(g_0, s_0^2),\n",
    "$$\n",
    "with known $g_0 = 10$, $s_0 = 0.4$.\n",
    "\n",
    "The situtation is captured in the following graph:"
   ]
  },
  {
   "cell_type": "code",
   "execution_count": 15,
   "metadata": {},
   "outputs": [
    {
     "data": {
      "image/svg+xml": [
       "<?xml version=\"1.0\" encoding=\"UTF-8\" standalone=\"no\"?>\n",
       "<!DOCTYPE svg PUBLIC \"-//W3C//DTD SVG 1.1//EN\"\n",
       " \"http://www.w3.org/Graphics/SVG/1.1/DTD/svg11.dtd\">\n",
       "<!-- Generated by graphviz version 2.38.0 (20140413.2041)\n",
       " -->\n",
       "<!-- Title: infer_normal_mu Pages: 1 -->\n",
       "<svg width=\"170pt\" height=\"226pt\"\n",
       " viewBox=\"0.00 0.00 170.00 226.00\" xmlns=\"http://www.w3.org/2000/svg\" xmlns:xlink=\"http://www.w3.org/1999/xlink\">\n",
       "<g id=\"graph0\" class=\"graph\" transform=\"scale(1 1) rotate(0) translate(4 222)\">\n",
       "<title>infer_normal_mu</title>\n",
       "<polygon fill=\"white\" stroke=\"none\" points=\"-4,4 -4,-222 166,-222 166,4 -4,4\"/>\n",
       "<g id=\"clust1\" class=\"cluster\"><title>cluster_0</title>\n",
       "<polygon fill=\"none\" stroke=\"black\" points=\"28,-8 28,-82 98,-82 98,-8 28,-8\"/>\n",
       "<text text-anchor=\"middle\" x=\"63\" y=\"-14.8\" font-family=\"Times,serif\" font-size=\"14.00\">n=1,...,N</text>\n",
       "</g>\n",
       "<!-- g -->\n",
       "<g id=\"node1\" class=\"node\"><title>g</title>\n",
       "<ellipse fill=\"none\" stroke=\"black\" cx=\"99\" cy=\"-128\" rx=\"27\" ry=\"18\"/>\n",
       "<text text-anchor=\"middle\" x=\"99\" y=\"-123.8\" font-family=\"Times,serif\" font-size=\"14.00\">g</text>\n",
       "</g>\n",
       "<!-- Xn -->\n",
       "<g id=\"node5\" class=\"node\"><title>Xn</title>\n",
       "<ellipse fill=\"lightgrey\" stroke=\"black\" cx=\"63\" cy=\"-56\" rx=\"27\" ry=\"18\"/>\n",
       "<text text-anchor=\"start\" x=\"54.4448\" y=\"-52.8\" font-family=\"Times,serif\" font-size=\"14.00\">X</text>\n",
       "<text text-anchor=\"start\" x=\"64.5552\" y=\"-52.8\" font-family=\"Times,serif\" baseline-shift=\"sub\" font-size=\"14.00\">n</text>\n",
       "</g>\n",
       "<!-- g&#45;&gt;Xn -->\n",
       "<g id=\"edge3\" class=\"edge\"><title>g&#45;&gt;Xn</title>\n",
       "<path fill=\"none\" stroke=\"black\" d=\"M90.6504,-110.765C86.2885,-102.283 80.8531,-91.7144 75.9587,-82.1974\"/>\n",
       "<polygon fill=\"black\" stroke=\"black\" points=\"78.9904,-80.4395 71.3043,-73.1473 72.7654,-83.6409 78.9904,-80.4395\"/>\n",
       "</g>\n",
       "<!-- g0 -->\n",
       "<g id=\"node2\" class=\"node\"><title>g0</title>\n",
       "<ellipse fill=\"lightgrey\" stroke=\"black\" cx=\"63\" cy=\"-200\" rx=\"27\" ry=\"18\"/>\n",
       "<text text-anchor=\"start\" x=\"56\" y=\"-196.8\" font-family=\"Times,serif\" font-size=\"14.00\">g</text>\n",
       "<text text-anchor=\"start\" x=\"63\" y=\"-196.8\" font-family=\"Times,serif\" baseline-shift=\"sub\" font-size=\"14.00\">0</text>\n",
       "</g>\n",
       "<!-- g0&#45;&gt;g -->\n",
       "<g id=\"edge1\" class=\"edge\"><title>g0&#45;&gt;g</title>\n",
       "<path fill=\"none\" stroke=\"black\" d=\"M71.3496,-182.765C75.7115,-174.283 81.1469,-163.714 86.0413,-154.197\"/>\n",
       "<polygon fill=\"black\" stroke=\"black\" points=\"89.2346,-155.641 90.6957,-145.147 83.0096,-152.439 89.2346,-155.641\"/>\n",
       "</g>\n",
       "<!-- s0 -->\n",
       "<g id=\"node3\" class=\"node\"><title>s0</title>\n",
       "<ellipse fill=\"lightgrey\" stroke=\"black\" cx=\"135\" cy=\"-200\" rx=\"27\" ry=\"18\"/>\n",
       "<text text-anchor=\"start\" x=\"128.776\" y=\"-196.8\" font-family=\"Times,serif\" font-size=\"14.00\">s</text>\n",
       "<text text-anchor=\"start\" x=\"134.224\" y=\"-196.8\" font-family=\"Times,serif\" baseline-shift=\"sub\" font-size=\"14.00\">0</text>\n",
       "</g>\n",
       "<!-- s0&#45;&gt;g -->\n",
       "<g id=\"edge2\" class=\"edge\"><title>s0&#45;&gt;g</title>\n",
       "<path fill=\"none\" stroke=\"black\" d=\"M126.65,-182.765C122.288,-174.283 116.853,-163.714 111.959,-154.197\"/>\n",
       "<polygon fill=\"black\" stroke=\"black\" points=\"114.99,-152.439 107.304,-145.147 108.765,-155.641 114.99,-152.439\"/>\n",
       "</g>\n",
       "<!-- sigma -->\n",
       "<g id=\"node4\" class=\"node\"><title>sigma</title>\n",
       "<ellipse fill=\"lightgrey\" stroke=\"black\" cx=\"27\" cy=\"-128\" rx=\"27\" ry=\"18\"/>\n",
       "<text text-anchor=\"start\" x=\"23.1069\" y=\"-123.8\" font-family=\"Times,serif\" font-size=\"14.00\">σ</text>\n",
       "</g>\n",
       "<!-- sigma&#45;&gt;Xn -->\n",
       "<g id=\"edge4\" class=\"edge\"><title>sigma&#45;&gt;Xn</title>\n",
       "<path fill=\"none\" stroke=\"black\" d=\"M35.3496,-110.765C39.7115,-102.283 45.1469,-91.7144 50.0413,-82.1974\"/>\n",
       "<polygon fill=\"black\" stroke=\"black\" points=\"53.2346,-83.6409 54.6957,-73.1473 47.0096,-80.4395 53.2346,-83.6409\"/>\n",
       "</g>\n",
       "</g>\n",
       "</svg>\n"
      ],
      "text/plain": [
       "<graphviz.dot.Digraph at 0x111a332e8>"
      ]
     },
     "execution_count": 15,
     "metadata": {},
     "output_type": "execute_result"
    }
   ],
   "source": [
    "gn = Digraph('infer_normal_mu')\n",
    "gn.node('g')\n",
    "gn.node('g0', label='<g<sub>0</sub>>', style='filled')\n",
    "gn.node('s0', label='<s<sub>0</sub>>', style='filled')\n",
    "gn.edge('g0', 'g')\n",
    "gn.edge('s0', 'g')\n",
    "gn.node('sigma', label='<&sigma;>', style='filled')\n",
    "with gn.subgraph(name='cluster_0') as sg:\n",
    "    sg.node('Xn', label='<X<sub>n</sub>>', style='filled')\n",
    "    sg.attr(label='n=1,...,N')\n",
    "    sg.attr(labelloc='b')\n",
    "gn.edge('g', 'Xn')\n",
    "gn.edge('sigma', 'Xn')\n",
    "gn.render('infer_normal_mu', format='png')\n",
    "gn"
   ]
  },
  {
   "cell_type": "markdown",
   "metadata": {},
   "source": [
    "We can directly condition on the variables that are at edges of the tree, $\\sigma, g_0$ and $s_0$.\n",
    "That is, you can just treat them as constants.\n",
    "The joint probability density of the rest conditioned on these known parameters is (we read it from the graph):\n",
    "$$\n",
    "\\begin{split}\n",
    "p(x_{1:N}, g|\\sigma, g_0, s_0) &=& p(x_{1:N}|g, \\sigma) p(g|g_0, s_0)\\\\\n",
    "&=& \\left(\\prod_{n=1}^Np(x_n|g, \\sigma)\\right) p(g|g_0, s_0)\\\\\n",
    "&=& \\left(\\prod_{n=1}^NN(x_n|g,\\sigma)\\right)N(g|g_0,s_0)\\\\\n",
    "&=& \\left(\\prod_{n=1}^N\\frac{1}{\\sqrt{2\\pi}\\sigma}\\exp\\left\\{-\\frac{(x_n-g)^2}{2\\sigma^2}\\right\\}\\right)\\frac{1}{\\sqrt{2\\pi}s_0}\\exp\\left\\{-\\frac{(g-g_0)^2}{2s_0^2}\\right\\}\\\\\n",
    "&\\propto& \\exp\\left\\{-\\frac{\\sum_{n=1}^N(x_n-g)^2}{2\\sigma^2}-\\frac{(g-g_0)^2}{2s_0^2}\\right\\},\n",
    "\\end{split}\n",
    "$$\n",
    "where we have ignored all proportionality constants for convenience.\n",
    "\n",
    "From Bayes' rule, we have that our posterior state of knowledge:\n",
    "$$\n",
    "\\begin{split}\n",
    "p(g|x_{1:N}, \\sigma, g_0, s_0) &=& \\frac{p(x_{1:N}, g|\\sigma, g_0, s_0)}{p(x_{1:N}|\\sigma, g_0, s_0)}\\\\\n",
    "&\\propto& p(x_{1:N}, g|\\sigma, g_0, s_0)\\\\\n",
    "&\\propto& \\exp\\left\\{-\\frac{\\sum_{n=1}^N(x_n-g)^2}{2\\sigma^2}-\\frac{(g-g_0)^2}{2s_0^2}\\right\\}.\n",
    "\\end{split}\n",
    "$$\n",
    "\n",
    "That's pretty much the answer without the normalization constant.\n",
    "But in this particular case, we can actually match this posterior to a normal distribution by following a technique known as \"completing the square.\"\n",
    "It is straightfoward, but it takes a little bit of algebra.\n",
    "You take whatever is inside the exponentials and you try to form something like $(g-g')^2$ for some $g'$, whatever it turns out to be.\n",
    "Let's try it out (you can lump into an additive \"const\" everything that doesn't depend on $g$):\n",
    "$$\n",
    "\\begin{split}\n",
    "\\frac{\\sum_{n=1}^N(x_n-g)^2}{2\\sigma^2}+\\frac{(g-g_0)^2}{2s_0^2} &=&\n",
    "\\frac{s_0^2 \\sum_{n=1}^N(x_n-g)^2 + \\sigma^2 (g-g_0)^2}{2\\sigma^2s_0^2}\\\\\n",
    "&=& \\frac{s_0^2 N g^2 - 2s_0^2g\\sum_{n=1}^Nx_n + s_0^2\\sum_{n=1}^Nx_n + \\sigma^2 g^2 - 2\\sigma^2 gg_0 + \\sigma^2g_0^2}{2\\sigma^2s_0^2}\\\\\n",
    "&=& \\frac{g^2(s_0^2 N + \\sigma^2) - 2 g (s_0^2\\sum_{n=1}^Nx_n + \\sigma^2 g_0)}{2\\sigma^2s_0^2}+\\text{const}\\\\\n",
    "&=& \\frac{g^2 - 2 g(s_0^2\\sum_{n=1}^Nx_n + \\sigma^2 g_0)(s_0^2 N + \\sigma^2)^{-1}}{2\\sigma^2s_0^2(s_0^2 N + \\sigma^2)^{-1}} + \\text{const}\\\\\n",
    "&=& \\frac{g^2 - 2 g \\frac{1}{\\frac{N}{\\sigma^2} + \\frac{1}{s_0^2}}\\left(\\frac{g_0}{s_0^2} + \\frac{\\sum_{n=1}^Nx_n}{\\sigma^2}\\right)}{2\\left(\\frac{1}{s_0^2} + \\frac{N}{\\sigma^2}\\right)^{-1}} + \\text{const}.\n",
    "\\end{split}\n",
    "$$\n",
    "Ok, it takes a bit more algebra than usual.\n",
    "Now, we put this back into the exponential (with the minus sign in front of it), and we observe that it gives a normal for the posterior:\n",
    "$$\n",
    "p(g|x_{1:N}, \\sigma, g_0, s_0) = N\\left(g\\middle| \\frac{1}{\\frac{N}{\\sigma^2} + \\frac{1}{s_0^2}}\\left(\\frac{g_0}{s_0^2} + \\frac{\\sum_{n=1}^Nx_n}{\\sigma^2}\\right),\n",
    "\\left(\\frac{1}{s_0^2} + \\frac{N}{\\sigma^2}\\right)^{-1}\n",
    "\\right).\n",
    "$$\n",
    "Not very pretty. But it is what it is. Let's experiment with this."
   ]
  },
  {
   "cell_type": "code",
   "execution_count": 16,
   "metadata": {},
   "outputs": [
    {
     "data": {
      "text/plain": [
       "<matplotlib.legend.Legend at 0x111853358>"
      ]
     },
     "execution_count": 16,
     "metadata": {},
     "output_type": "execute_result"
    },
    {
     "data": {
      "image/png": "[encoded data removed]",
      "text/plain": [
       "<Figure size 432x288 with 1 Axes>"
      ]
     },
     "metadata": {
      "needs_background": "light"
     },
     "output_type": "display_data"
    }
   ],
   "source": [
    "# Get the true acceleration of gravity from scipy\n",
    "import scipy.constants\n",
    "g_true = scipy.constants.g\n",
    "# Generate some synthetic data\n",
    "N = 10\n",
    "sigma = 0.2\n",
    "gs = g_true + sigma * np.random.randn(N)\n",
    "fig, ax = plt.subplots()\n",
    "ax.plot(gs, 'o', label='Data')\n",
    "ax.plot(range(N), [g_true] * N, 'r--', label='True $g$')\n",
    "ax.set_xlabel('$n$')\n",
    "ax.set_ylabel('$x_n$')\n",
    "plt.legend(loc='best')"
   ]
  },
  {
   "cell_type": "code",
   "execution_count": 17,
   "metadata": {},
   "outputs": [
    {
     "name": "stdout",
     "output_type": "stream",
     "text": [
      "The posterior of g is N(9.70, (0.06)^2)\n"
     ]
    }
   ],
   "source": [
    "# Our prior state of knowledge\n",
    "g0 = 9.8\n",
    "s0 = 0.2\n",
    "G_prior = st.norm(g0, s0)\n",
    "# We shoed that the posterior for g conditioned on data is a Gaussian with mean\n",
    "gn = 1.0 / (N / sigma ** 2 + 1.0 / s0 ** 2) * (g0 / s0 ** 2 + gs.sum() / sigma ** 2)\n",
    "# And standard deviation\n",
    "sigman = np.sqrt(1.0 / (1.0 / s0 ** 2 + N / sigma ** 2))\n",
    "print('The posterior of g is N({0:1.2f}, ({1:1.2f})^2)'.format(gn, sigman))"
   ]
  },
  {
   "cell_type": "code",
   "execution_count": 18,
   "metadata": {},
   "outputs": [
    {
     "data": {
      "image/png": "[encoded data removed]",
      "text/plain": [
       "<Figure size 432x288 with 1 Axes>"
      ]
     },
     "metadata": {
      "needs_background": "light"
     },
     "output_type": "display_data"
    }
   ],
   "source": [
    "# Let's draw this\n",
    "G_post = st.norm(gn, sigman)\n",
    "fig, ax = plt.subplots()\n",
    "ggs = np.linspace(g0 - 6.0 * s0, g0 + 6.0 * s0, 100)\n",
    "ax.plot(ggs, G_prior.pdf(ggs), label='prior')\n",
    "ax.plot(gs, np.zeros(gs.shape), 'x', label='data')\n",
    "ax.plot(ggs, G_post.pdf(ggs), label='posterior')\n",
    "ax.plot([g_true], [0.0], 'ro', label='True $g$')\n",
    "plt.legend(loc='best');"
   ]
  },
  {
   "cell_type": "code",
   "execution_count": 19,
   "metadata": {},
   "outputs": [
    {
     "name": "stdout",
     "output_type": "stream",
     "text": [
      "g is in [9.58, 9.81] with 95% probability\n"
     ]
    }
   ],
   "source": [
    "# Let's get a predictive interval:\n",
    "g_025 = G_post.ppf(0.025)\n",
    "g_975 = G_post.ppf(0.975)\n",
    "print('g is in [{0:1.2f}, {1:1.2f}] with 95% probability'.format(g_025, g_975))"
   ]
  },
  {
   "cell_type": "markdown",
   "metadata": {},
   "source": [
    "### Questions\n",
    "\n",
    "+ Experiment with the a very wrong prior knowledge, say $g_0 = 5$. Try at least a case where you are wrong but not very sure $s_0 = 1.0$ and a case where you are wrong and very sure $s_0 = 0.01$.\n",
    "In both cases, increase $N$ until you get close enough to the true value of $g$."
   ]
  }
 ],
 "metadata": {
  "anaconda-cloud": {},
  "kernelspec": {
   "display_name": "Python 3",
   "language": "python",
   "name": "python3"
  },
  "language_info": {
   "codemirror_mode": {
    "name": "ipython",
    "version": 3
   },
   "file_extension": ".py",
   "mimetype": "text/x-python",
   "name": "python",
   "nbconvert_exporter": "python",
   "pygments_lexer": "ipython3",
   "version": "3.6.7"
  },
  "latex_envs": {
   "bibliofile": "biblio.bib",
   "cite_by": "apalike",
   "current_citInitial": 1,
   "eqLabelWithNumbers": true,
   "eqNumInitial": 0
  },
  "widgets": {
   "state": {
    "968a18c908c6495081a9936faebe0473": {
     "views": [
      {
       "cell_index": 11
      }
     ]
    }
   },
   "version": "1.2.0"
  }
 },
 "nbformat": 4,
 "nbformat_minor": 2
}
