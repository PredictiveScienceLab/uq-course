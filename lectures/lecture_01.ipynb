{
 "cells": [
  {
   "cell_type": "markdown",
   "metadata": {
    "slideshow": {
     "slide_type": "slide"
    }
   },
   "source": [
    "# Lecture 1: Course Logistics and Introduction"
   ]
  },
  {
   "cell_type": "markdown",
   "metadata": {
    "slideshow": {
     "slide_type": "slide"
    }
   },
   "source": [
    "## Objectives\n",
    "\n",
    "+ To introduce predictive science laboratory and the teaching instructors.\n",
    "+ To introduce the class syllabus.\n",
    "+ To help students install the necessary software for running the class notebooks.\n",
    "+ To run a simple Jupyter notebook."
   ]
  },
  {
   "cell_type": "markdown",
   "metadata": {},
   "source": [
    "## Readings\n",
    "\n",
    "+ These notes."
   ]
  },
  {
   "cell_type": "markdown",
   "metadata": {
    "slideshow": {
     "slide_type": "slide"
    }
   },
   "source": [
    "# Predictive Science Laboratory (PSL)"
   ]
  },
  {
   "cell_type": "markdown",
   "metadata": {
    "slideshow": {
     "slide_type": "slide"
    }
   },
   "source": [
    "## Mission of PSL\n",
    "\n",
    "To create artificial intelligence (AI) technologies that accelerate the pace of engineering innovation."
   ]
  },
  {
   "cell_type": "markdown",
   "metadata": {
    "slideshow": {
     "slide_type": "slide"
    }
   },
   "source": [
    "## Instructor\n",
    "\n",
    "<img style=\"float: right;\" src=\"https://s.gravatar.com/avatar/043cdaec493a74d26193fba621eb14c1?s=100\">\n",
    "\n",
    "+ Ilias Bilionis\n",
    "+ https://www.predictivesciencelab.org/authors/ebilionis/"
   ]
  },
  {
   "cell_type": "markdown",
   "metadata": {
    "slideshow": {
     "slide_type": "slide"
    }
   },
   "source": [
    "## Teaching Assistant\n",
    "\n",
    "<img style=\"float: right;\" src=\"https://s.gravatar.com/avatar/a3135db419cf364a0d04e4bf80d0b142?s=100\">\n",
    "\n",
    "+ Rohit Tripathy\n",
    "+ https://www.predictivesciencelab.org/authors/rohit/"
   ]
  },
  {
   "cell_type": "markdown",
   "metadata": {
    "slideshow": {
     "slide_type": "slide"
    }
   },
   "source": [
    "## Contributing students\n",
    "\n",
    "<a href=\"https://www.predictivesciencelab.org/authors/alana/\">\n",
    "<img style=\"float: left;\" src=\"https://s.gravatar.com/avatar/5989d5495d56f811720bd0b3a725e8e8?s=100\">\n",
    "<a href=\"https://www.predictivesciencelab.org/authors/ali/\">\n",
    "<img style=\"float: left;\" src=\"https://s.gravatar.com/avatar/e8dee898972aa7be1692d11e17046f84?s=100\">\n",
    "<a href=\"https://www.predictivesciencelab.org/authors/andres/\">\n",
    "<img style=\"float: left;\" src=\"https://s.gravatar.com/avatar/0720863208403af71ea67ef451babc7c?s=100\">\n",
    "<a href=\"https://www.predictivesciencelab.org/authors/salar/\">\n",
    "<img style=\"float: left;\" src=\"https://s.gravatar.com/avatar/23c7c857bb46256322f36629637e2430?s=100\">\n",
    "<a href=\"https://www.predictivesciencelab.org/authors/nawalgao/\">\n",
    "<img style=\"float: left;\" src=\"https://s.gravatar.com/avatar/b45a879aafb406700494f8cd0d15a649?s=100\">\n",
    "<a href=\"https://www.predictivesciencelab.org/authors/sharmila/\">\n",
    "<img style=\"float: left;\" src=\"https://s.gravatar.com/avatar/2c478159ba1a39144a34cfc0fc074b81?s=100\">\n",
    "<a href=\"https://www.predictivesciencelab.org/authors/murali/\">\n",
    "<img style=\"float: left;\" src=\"https://s.gravatar.com/avatar/267fee3f9f86061a5a7bf6150c272db3?s=100\">\n",
    "<a href=\"https://www.predictivesciencelab.org/authors/alex_c/\">\n",
    "<img style=\"float: left;\" src=\"https://s.gravatar.com/avatar/397d620afb685b9ee4fbfaea94eb809c?s=100\">"
   ]
  },
  {
   "cell_type": "markdown",
   "metadata": {},
   "source": [
    "# Syllabus"
   ]
  },
  {
   "cell_type": "markdown",
   "metadata": {
    "slideshow": {
     "slide_type": "slide"
    }
   },
   "source": [
    "## Objective of the class\n",
    "\n",
    "> To introduce the fundamentals of uncertainty quantification to advanced undergraduates or graduate engineering and science students with research interests in the field of predictive modeling."
   ]
  },
  {
   "cell_type": "markdown",
   "metadata": {
    "slideshow": {
     "slide_type": "slide"
    }
   },
   "source": [
    "## Specific aims\n",
    "\n",
    "Upon completion of the class, the students will be able to:\n",
    "+ Represent mathematically the uncertainty in the parameters of physical and engineering models.\n",
    "+ Propagate uncertainties through known physics to characterize the uncertainty in quantities of interest.\n",
    "+ Pose inference problems that allow them to combine physical models with data.\n",
    "+ Solve inference problems with analytical, sampling, and optimization techniques.\n",
    "+ Pose and solve the information acquisition problem (which simulation/experiment to run where in order to learn what I want)."
   ]
  },
  {
   "cell_type": "markdown",
   "metadata": {
    "slideshow": {
     "slide_type": "slide"
    }
   },
   "source": [
    "## Broader impacts\n",
    "\n",
    "+ Improve the students’ practical knowledge on how to carry out interdisciplinary research requiring the combination of various simulation models with data.\n",
    "+ Promote research reproducibility.\n",
    "+ Improve the students’ scientific writing and visualization skills. "
   ]
  },
  {
   "cell_type": "markdown",
   "metadata": {
    "slideshow": {
     "slide_type": "slide"
    }
   },
   "source": [
    "## What this class is not\n",
    "\n",
    "+ This is not a probability class.\n",
    "+ This is not a statistics class.\n",
    "+ This is not a machine learning or data analytics class.\n",
    "\n",
    "This class is unique in the sense that it focuses on the needs of engineers and scientists."
   ]
  },
  {
   "cell_type": "markdown",
   "metadata": {
    "slideshow": {
     "slide_type": "slide"
    }
   },
   "source": [
    "## What are the unique needs of engineers and scientists?\n",
    "\n",
    "+ Extensive physical knowledge about the phenomena we study (in the form of differential equations, invariances, symmetries, and more).\n",
    "+ Limited availability of data."
   ]
  },
  {
   "cell_type": "markdown",
   "metadata": {
    "slideshow": {
     "slide_type": "slide"
    }
   },
   "source": [
    "## The philosophy of this class\n",
    "\n",
    "+ Develop communication channels between theories and data.\n",
    "+ The communication protocol is based on probability theory (thought of as an extension of logic under uncertainty) with an additional layer of causality (expressed through physical laws and graphical models) and is realized using modern machine learning techniques."
   ]
  },
  {
   "cell_type": "markdown",
   "metadata": {
    "slideshow": {
     "slide_type": "slide"
    }
   },
   "source": [
    "## Prerequisites\n",
    "\n",
    "+ Probability theory (MA 416) - But we will spend two weeks on the basics.\n",
    "+ Numerical methods (ME 581) - But we will be providing codes for solving ODEs, PDEs, etc.\n",
    "+ Python progamming - You need to learn Python."
   ]
  },
  {
   "cell_type": "markdown",
   "metadata": {
    "slideshow": {
     "slide_type": "slide"
    }
   },
   "source": [
    "## My probability theory background is a bit rusty, what can I do?\n",
    "\n",
    "Watch lectures 1-12 of [MIT 6.041 / 6.431 (Probability Systems Analysis and Applied Probability)](https://ocw.mit.edu/courses/electrical-engineering-and-computer-science/6-041-probabilistic-systems-analysis-and-applied-probability-fall-2010/)."
   ]
  },
  {
   "cell_type": "markdown",
   "metadata": {
    "slideshow": {
     "slide_type": "slide"
    }
   },
   "source": [
    "## Textbook\n",
    "\n",
    "+ There is no textbook.\n",
    "+ Mandatory and optional references will be given on every lecture."
   ]
  },
  {
   "cell_type": "markdown",
   "metadata": {
    "slideshow": {
     "slide_type": "slide"
    }
   },
   "source": [
    "## Class piazza site\n",
    "\n",
    "+ We will be using piazza to communicate.\n",
    "+ You must already be enrolled.\n",
    "+ Please contact rtripath@purdue.edu if you are not enrolled."
   ]
  },
  {
   "cell_type": "markdown",
   "metadata": {
    "slideshow": {
     "slide_type": "slide"
    }
   },
   "source": [
    "## Github repository\n",
    "\n",
    "+ This is where all the material of the class is: https://github.com/PredictiveScienceLab/uq-course\n",
    "+ The material is in the form of Jupyter notebooks.\n",
    "+ Make sure you pull often as the material is continuously updated."
   ]
  },
  {
   "cell_type": "markdown",
   "metadata": {
    "slideshow": {
     "slide_type": "slide"
    }
   },
   "source": [
    "## Student evaluation\n",
    "\n",
    "+ 10% participation\n",
    "+ 60% homework\n",
    "+ 30% final project"
   ]
  },
  {
   "cell_type": "markdown",
   "metadata": {
    "slideshow": {
     "slide_type": "slide"
    }
   },
   "source": [
    "## What is participation?\n",
    "\n",
    "+ Come to class.\n",
    "+ Ask me questions.\n",
    "+ Respond to my questions.\n",
    "+ Work on the handouts given out in each class.\n",
    "+ Help others during the handout sessions.\n",
    "+ Actively participate in the piazza forum."
   ]
  },
  {
   "cell_type": "markdown",
   "metadata": {
    "slideshow": {
     "slide_type": "slide"
    }
   },
   "source": [
    "## Homework\n",
    "\n",
    "+ There will be 9 homework sets.\n",
    "+ The homework will be of both theoretical (e.g., prove this/solve for that) and of practical nature (e.g., complete a Jupyter notebook to solve a practical problem).\n",
    "+ We will use gradescope.com for the homework submission."
   ]
  },
  {
   "cell_type": "markdown",
   "metadata": {
    "slideshow": {
     "slide_type": "slide"
    }
   },
   "source": [
    "## Final project\n",
    "+ The project should be related to your research. The requirements are:\n",
    "\n",
    "    + You must use a simulation model or experimental data from your own research.\n",
    "    + You must pose and solve a predictive modeling problem (more details in the next lecture)."
   ]
  },
  {
   "cell_type": "markdown",
   "metadata": {
    "slideshow": {
     "slide_type": "slide"
    }
   },
   "source": [
    "## Final project evaluation\n",
    "+ Submit a title and a 300-word abstract due **2/15/2020**.\n",
    "+ Submit a 6-page midterm report due **3/15/2020**. Details on how to write it will be provided.\n",
    "+ Submit a 12 page (maximum) final report due **4/31/2020**. Details on how to write it will be provided."
   ]
  },
  {
   "cell_type": "markdown",
   "metadata": {
    "slideshow": {
     "slide_type": "slide"
    }
   },
   "source": [
    "## Final letter Grade\n",
    "\n",
    "For the final letter grade (tentative):\n",
    "+ class mean will be: B\n",
    "+ one standard deviation above the mean will be: A\n",
    "+ one standard deviation below the mean will be: C\n",
    "+ two standard deviations below the mean will be: D\n",
    "+ three standard deviations below the mean: F\n",
    "+ A+ will go to the single best score"
   ]
  },
  {
   "cell_type": "markdown",
   "metadata": {
    "slideshow": {
     "slide_type": "slide"
    }
   },
   "source": [
    "# Hands-on activity: Install required software for class\n",
    "\n",
    "Please follow the instructions in https://github.com/PredictiveScienceLab/uq-course."
   ]
  },
  {
   "cell_type": "markdown",
   "metadata": {
    "slideshow": {
     "slide_type": "slide"
    }
   },
   "source": [
    "# Hands-on activity: Running a simple Jupyter notebook\n",
    "Jupyter notebooks offer an interactive environment to run Python code interactively, directly in your web browser. You can also add text and latex equations."
   ]
  },
  {
   "cell_type": "markdown",
   "metadata": {
    "slideshow": {
     "slide_type": "notes"
    }
   },
   "source": [
    "## Writing python code"
   ]
  },
  {
   "cell_type": "markdown",
   "metadata": {
    "slideshow": {
     "slide_type": "notes"
    }
   },
   "source": [
    "Add this line to the start of your jupyter notebooks to enable inline plotting :"
   ]
  },
  {
   "cell_type": "code",
   "execution_count": 1,
   "metadata": {
    "slideshow": {
     "slide_type": "notes"
    }
   },
   "outputs": [],
   "source": [
    "%matplotlib inline  "
   ]
  },
  {
   "cell_type": "code",
   "execution_count": 2,
   "metadata": {
    "slideshow": {
     "slide_type": "notes"
    }
   },
   "outputs": [
    {
     "name": "stdout",
     "output_type": "stream",
     "text": [
      "ME 597 handout 1\n"
     ]
    }
   ],
   "source": [
    "#print out a string. \n",
    "print(\"ME 597 handout 1\")\n",
    "\n",
    "#Note that the format for printing is different in python 2.x. We use python 3.7 in this course. "
   ]
  },
  {
   "cell_type": "code",
   "execution_count": 3,
   "metadata": {
    "slideshow": {
     "slide_type": "notes"
    }
   },
   "outputs": [],
   "source": [
    "##import some libraries \n",
    "import numpy as np   #matrix and linear algebra\n",
    "import matplotlib.pyplot as plt   #plotting library \n",
    "import seaborn as sns     #Make your plot look better than vanilla matplotlib \n",
    "sns.set()   #use default seaborn settings."
   ]
  },
  {
   "cell_type": "code",
   "execution_count": 4,
   "metadata": {
    "slideshow": {
     "slide_type": "notes"
    }
   },
   "outputs": [],
   "source": [
    "#define a simple function \n",
    "def f(x):\n",
    "    \"\"\"\n",
    "    Add some documentation here. For example: This function returns the square of the input variable. \n",
    "    \n",
    "    :param x: float\n",
    "    \"\"\"\n",
    "    return x ** 2"
   ]
  },
  {
   "cell_type": "code",
   "execution_count": 5,
   "metadata": {
    "slideshow": {
     "slide_type": "notes"
    }
   },
   "outputs": [],
   "source": [
    "#generate some data \n",
    "x = np.linspace(0, 1, 20)\n",
    "y = f(x)"
   ]
  },
  {
   "cell_type": "markdown",
   "metadata": {
    "slideshow": {
     "slide_type": "notes"
    }
   },
   "source": [
    "## Plotting "
   ]
  },
  {
   "cell_type": "code",
   "execution_count": 6,
   "metadata": {
    "slideshow": {
     "slide_type": "notes"
    }
   },
   "outputs": [
    {
     "data": {
      "text/plain": [
       "<matplotlib.legend.Legend at 0x12c42f278>"
      ]
     },
     "execution_count": 6,
     "metadata": {},
     "output_type": "execute_result"
    },
    {
     "data": {
      "image/png": "[encoded data removed]",
      "text/plain": [
       "<Figure size 720x432 with 1 Axes>"
      ]
     },
     "metadata": {},
     "output_type": "display_data"
    }
   ],
   "source": [
    "#plot the data and visualize it in the notebook\n",
    "plt.figure(figsize=(10, 6))\n",
    "plt.plot(x, y, label = '$y = x^2$', linewidth = 4, marker = 'o', markersize = 10)\n",
    "plt.xlabel('$x$', fontsize = 12)\n",
    "plt.ylabel('$y$', fontsize = 12)\n",
    "plt.legend(loc = 'best', fontsize = 16)"
   ]
  },
  {
   "cell_type": "markdown",
   "metadata": {
    "slideshow": {
     "slide_type": "notes"
    }
   },
   "source": [
    "**Question**: Change the definition of the function f such that it returns $f(x) = x\\mathrm{sin}x$. Plot the function for $x \\in (-2, 2)$. "
   ]
  },
  {
   "cell_type": "markdown",
   "metadata": {
    "slideshow": {
     "slide_type": "notes"
    }
   },
   "source": [
    "## Writing math "
   ]
  },
  {
   "cell_type": "markdown",
   "metadata": {
    "slideshow": {
     "slide_type": "notes"
    }
   },
   "source": [
    "Mathematical notation can be used by enclosing them inside single (inline) or double (seperate) dollar signs. \n",
    "For example: \n",
    "\n",
    "+ This is an inline expression $y|x \\sim \\mathcal{N}(y \\ |\\  \\mathrm{m}(x),\\ \\sigma^2)$. \n",
    "\n",
    "+ This equation is rendered seperately, $$ y|x \\sim \\mathcal{N}(y \\ |\\  \\mathrm{m}(x),\\ \\sigma^2).$$"
   ]
  },
  {
   "cell_type": "markdown",
   "metadata": {
    "slideshow": {
     "slide_type": "notes"
    }
   },
   "source": [
    "## Interactive plotting "
   ]
  },
  {
   "cell_type": "markdown",
   "metadata": {
    "slideshow": {
     "slide_type": "notes"
    }
   },
   "source": [
    "Suppose you have a function that whose value depends on a parameter. You can interactively visualize the changes in the function as a result of changing the parameter. "
   ]
  },
  {
   "cell_type": "code",
   "execution_count": 7,
   "metadata": {
    "slideshow": {
     "slide_type": "notes"
    }
   },
   "outputs": [],
   "source": [
    "#import library for interactive plotting \n",
    "import ipywidgets\n",
    "from ipywidgets import interactive"
   ]
  },
  {
   "cell_type": "code",
   "execution_count": 8,
   "metadata": {
    "slideshow": {
     "slide_type": "notes"
    }
   },
   "outputs": [],
   "source": [
    "def f(x, c):\n",
    "    return c* (x**2)"
   ]
  },
  {
   "cell_type": "code",
   "execution_count": 9,
   "metadata": {
    "slideshow": {
     "slide_type": "notes"
    }
   },
   "outputs": [],
   "source": [
    "def plot_f(c=1):\n",
    "    x = list(np.linspace(0, 1, 100))\n",
    "    y = [f(i, c) for i in x]\n",
    "    plt.figure(figsize=(10, 6))\n",
    "    plt.plot(x, y, label = '$y = cx^2$', linewidth = 4)\n",
    "    plt.title('$c = $'+str(c), fontsize = 12)\n",
    "    plt.legend(loc = 'best', fontsize = 16)\n",
    "    plt.xlabel('$x$', fontsize = 12)\n",
    "    plt.ylabel('$y$', fontsize = 12)\n",
    "    plt.ylim(-2.1,2.1)"
   ]
  },
  {
   "cell_type": "code",
   "execution_count": 10,
   "metadata": {
    "slideshow": {
     "slide_type": "notes"
    }
   },
   "outputs": [
    {
     "data": {
      "application/vnd.jupyter.widget-view+json": {
       "model_id": "bf369d457c14475e955104be6142bf72",
       "version_major": 2,
       "version_minor": 0
      },
      "text/plain": [
       "interactive(children=(FloatSlider(value=1.0, description='c', max=6.0, min=-2.0), Output()), _dom_classes=('wi…"
      ]
     },
     "metadata": {},
     "output_type": "display_data"
    }
   ],
   "source": [
    "interactive(plot_f, c = (-2, 6, 0.1))"
   ]
  },
  {
   "cell_type": "markdown",
   "metadata": {
    "slideshow": {
     "slide_type": "notes"
    }
   },
   "source": [
    "## Importing libraries required in this class"
   ]
  },
  {
   "cell_type": "markdown",
   "metadata": {
    "slideshow": {
     "slide_type": "notes"
    }
   },
   "source": [
    "The block of code immediately below this cell should execute without any errors.\n",
    "If dit doesn't, this means that you need to install some of the necessary software as describe in the home page of the course.\n",
    "If you are running the notebook on Google Colab, you have to uncomment the ``!pip`` lines.\n",
    "This will install the packages locally."
   ]
  },
  {
   "cell_type": "code",
   "execution_count": 11,
   "metadata": {
    "slideshow": {
     "slide_type": "notes"
    }
   },
   "outputs": [],
   "source": [
    "# Remove the '#' from the lines below if you are running on Google Colab\n",
    "#!pip install GPy\n",
    "#!pip install pymc3\n",
    "import GPy\n",
    "import pymc3\n",
    "from tensorflow import keras"
   ]
  },
  {
   "cell_type": "markdown",
   "metadata": {
    "slideshow": {
     "slide_type": "notes"
    }
   },
   "source": [
    "### Some useful resources\n",
    "\n",
    "1. [Jupyter notebook documentation](http://jupyter-notebook.readthedocs.io/en/stable/index.html).\n",
    "2. [Matplotlib user guide](https://matplotlib.org/users/).\n",
    "3. [ipywidgets user guide](http://ipywidgets.readthedocs.io/en/stable/examples/Using%20Interact.html)."
   ]
  }
 ],
 "metadata": {
  "anaconda-cloud": {},
  "kernelspec": {
   "display_name": "Python 3",
   "language": "python",
   "name": "python3"
  },
  "language_info": {
   "codemirror_mode": {
    "name": "ipython",
    "version": 3
   },
   "file_extension": ".py",
   "mimetype": "text/x-python",
   "name": "python",
   "nbconvert_exporter": "python",
   "pygments_lexer": "ipython3",
   "version": "3.6.7"
  },
  "latex_envs": {
   "bibliofile": "biblio.bib",
   "cite_by": "apalike",
   "current_citInitial": 1,
   "eqLabelWithNumbers": true,
   "eqNumInitial": 0
  }
 },
 "nbformat": 4,
 "nbformat_minor": 2
}
