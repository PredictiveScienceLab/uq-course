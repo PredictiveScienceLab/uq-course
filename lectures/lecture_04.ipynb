{
 "cells": [
  {
   "cell_type": "markdown",
   "metadata": {},
   "source": [
    "# Lecture 4: Introduction to Probability Theory (Part II)"
   ]
  },
  {
   "cell_type": "markdown",
   "metadata": {},
   "source": [
    "## Objectives\n",
    "\n",
    "+ To introduce the concept of a probability space.\n",
    "+ To introduce the concept of discrete random variables.\n",
    "+ To introduce the probability mass function and the cumulative distribution function.\n",
    "+ To learn about the expectation and variance of a random variable.\n",
    "+ To introduce joint probability mass function.\n",
    "+ To learn how one can condition a random variable on observations of another.\n",
    "+ To introduce the concept of independent random variables.\n",
    "+ To learn about some basic discrete random variables."
   ]
  },
  {
   "cell_type": "markdown",
   "metadata": {},
   "source": [
    "## Readings\n",
    "\n",
    "+ These notes.\n",
    "+ The wikipedia page for the [Bernoulli distribution](https://en.wikipedia.org/wiki/Bernoulli_distribution).\n",
    "+ The wikipedia page for the [Binomial distribution](https://en.wikipedia.org/wiki/Binomial_distribution).\n",
    "+ The wikipedia page for the [Poisson distribution](https://en.wikipedia.org/wiki/Poisson_distribution)."
   ]
  },
  {
   "cell_type": "code",
   "execution_count": 1,
   "metadata": {},
   "outputs": [],
   "source": [
    "%matplotlib inline\n",
    "import matplotlib.pyplot as plt\n",
    "import seaborn as sns\n",
    "sns.set_context('talk')\n",
    "import numpy as np"
   ]
  },
  {
   "cell_type": "markdown",
   "metadata": {},
   "source": [
    "## Probability spaces\n",
    "\n",
    "In whatever we write below, everything is conditioned on our current information $I$.\n",
    "Because this information is always on the background, we will not be explictily showing it in our notation.\n",
    "\n",
    "Assume that we are doing an experiment.\n",
    "It doesn't matter what exactly the experiment is.\n",
    "The result of the experiment depends on the values of some physical variables $\\omega$ which may be unknown to us (epistemic uncertainty) or truly random (aleatory uncertainty).\n",
    "In the language of mathematical probability theory, this $\\omega$ is called an **event**.\n",
    "The space of all possible $\\omega$'s, denoted by $\\Omega$, is called the **event space**.\n",
    "For today, assume that $\\Omega$ is a discrete space (otherwise things become a little bit more complicated).\n",
    "\n",
    "Since, we are uncertain about which $\\omega$ will appear in nature, we need to assign probabilities over the possible values.\n",
    "Ideally, what we would like to have is some function $\\mathbb{P}(A)$ that takes an arbitrary subset $A$ of $\\Omega$ and tells us how probable it is.\n",
    "That is $\\mathbb{P}$ is a function from all subsets of $\\Omega$, $\\mathcal{F} = \\mathcal{P}(\\Omega)$, to the real numbers:\n",
    "$$\n",
    "\\mathbb{P}: \\mathcal{F} \\rightarrow \\mathbb{R},\n",
    "$$\n",
    "There are a few things that this function should satisfy for all $A$ in $\\mathcal{F}$\n",
    "+ It should be nonnegative, i.e., $\\mathbb{P}(A)\\ge 0$.\n",
    "+ One of the $\\omega$'s must happen, $\\mathbb{P}(\\Omega) = 1$.\n",
    "+ The obvious rule $\\mathbb{P}(A^c) = 1 - \\mathbb{P}(A)$, where $A^c = \\Omega\\setminus A$ is the completement of $A$.\n",
    "When these properties are satisfied, we say that $\\mathbb{P}$ is a probability measure on $\\mathcal{F}$.\n",
    "\n",
    "The triplet $(\\Omega, \\mathcal{F}, \\mathbb{P})$ is called a **probability space**.\n",
    "\n",
    "Note: If we wanted to show the background information we would be writting $\\mathbb{P}[A|I]$."
   ]
  },
  {
   "cell_type": "markdown",
   "metadata": {},
   "source": [
    "## The mathematical definition of a random variable\n",
    "\n",
    "Now assume that we are doing a specific experiment that measures something, say an integer.\n",
    "Assume that the physical variables that determine what is the result of the experiment are $\\omega$ and they take values in a set $\\Omega$.\n",
    "We are uncertain about the $\\omega$'s and we have described this uncertainty using a probability measure $\\mathbb{P}$ on some subsets $\\mathcal{F}$ of $\\Omega$.\n",
    "Call $X$ the result of the experiment.\n",
    "The graph is as follows:"
   ]
  },
  {
   "cell_type": "code",
   "execution_count": 2,
   "metadata": {},
   "outputs": [
    {
     "ename": "ModuleNotFoundError",
     "evalue": "No module named 'graphviz'",
     "output_type": "error",
     "traceback": [
      "\u001b[0;31m---------------------------------------------------------------------------\u001b[0m",
      "\u001b[0;31mModuleNotFoundError\u001b[0m                       Traceback (most recent call last)",
      "\u001b[0;32m<ipython-input-2-961c05284046>\u001b[0m in \u001b[0;36m<module>\u001b[0;34m\u001b[0m\n\u001b[0;32m----> 1\u001b[0;31m \u001b[0;32mfrom\u001b[0m \u001b[0mgraphviz\u001b[0m \u001b[0;32mimport\u001b[0m \u001b[0mDigraph\u001b[0m\u001b[0;34m\u001b[0m\u001b[0;34m\u001b[0m\u001b[0m\n\u001b[0m\u001b[1;32m      2\u001b[0m \u001b[0mg\u001b[0m \u001b[0;34m=\u001b[0m \u001b[0mDigraph\u001b[0m\u001b[0;34m(\u001b[0m\u001b[0;34m'omega_X'\u001b[0m\u001b[0;34m)\u001b[0m\u001b[0;34m\u001b[0m\u001b[0;34m\u001b[0m\u001b[0m\n\u001b[1;32m      3\u001b[0m \u001b[0mg\u001b[0m\u001b[0;34m.\u001b[0m\u001b[0mnode\u001b[0m\u001b[0;34m(\u001b[0m\u001b[0;34m'omega'\u001b[0m\u001b[0;34m,\u001b[0m \u001b[0mlabel\u001b[0m\u001b[0;34m=\u001b[0m\u001b[0;34m'<&omega;>'\u001b[0m\u001b[0;34m)\u001b[0m\u001b[0;34m\u001b[0m\u001b[0;34m\u001b[0m\u001b[0m\n\u001b[1;32m      4\u001b[0m \u001b[0mg\u001b[0m\u001b[0;34m.\u001b[0m\u001b[0mnode\u001b[0m\u001b[0;34m(\u001b[0m\u001b[0;34m'X'\u001b[0m\u001b[0;34m)\u001b[0m\u001b[0;34m\u001b[0m\u001b[0;34m\u001b[0m\u001b[0m\n\u001b[1;32m      5\u001b[0m \u001b[0mg\u001b[0m\u001b[0;34m.\u001b[0m\u001b[0medge\u001b[0m\u001b[0;34m(\u001b[0m\u001b[0;34m'omega'\u001b[0m\u001b[0;34m,\u001b[0m \u001b[0;34m'X'\u001b[0m\u001b[0;34m)\u001b[0m\u001b[0;34m\u001b[0m\u001b[0;34m\u001b[0m\u001b[0m\n",
      "\u001b[0;31mModuleNotFoundError\u001b[0m: No module named 'graphviz'"
     ]
    }
   ],
   "source": [
    "from graphviz import Digraph\n",
    "g = Digraph('omega_X')\n",
    "g.node('omega', label='<&omega;>')\n",
    "g.node('X')\n",
    "g.edge('omega', 'X')\n",
    "g.render('omega_X', format='png')\n",
    "g"
   ]
  },
  {
   "cell_type": "markdown",
   "metadata": {},
   "source": [
    "This brings us to the mathematical definition of a random variable:\n",
    "\n",
    "> A random variable is a function of the event space $X(\\omega)$.\n",
    "\n",
    "Note: if the event space is not discrete, we need some more restrictions on these functions.\n",
    "You need to take a probability theory course to learn about the technical details.\n",
    "\n",
    "Now, if $X(\\omega)$ takes discrete values, like heads or tails, $0, 1, 2$, etc., then we say that $X$ is a discrete random variable.\n",
    "If $X(\\omega)$ takes continuous values, like real numbers, then we say that $X$ is a continuous random variables.\n",
    "Today, we are only going to work with discrete random variables.\n",
    "\n",
    "Notation:\n",
    "+ We will be using upper case letters to represent random variables, like $X, Y, Z$.\n",
    "+ We will be using lower case letters to represent the values of random variables, like $x, y, z$."
   ]
  },
  {
   "cell_type": "markdown",
   "metadata": {},
   "source": [
    "### Example: The random variable corresponding to the result of a coin toss (1/2)\n",
    "\n",
    "Let's consider again the coin tossing example we introduced in the previous lecture.\n",
    "\n",
    "![Coin flipping](coin_flipping.png)\n",
    "\n",
    "Remember that we denoted with $v_0$ and $\\omega_0$ the initial velocity and angular velocity of the coin.\n",
    "Then, we showed that the variable $X$ representing the coin toss can be predicted exactly, if we knew $v_0$ and $\\omega_0$.\n",
    "Specifically, we derived the following relationship between the result of the coin toss and the initial conditions:\n",
    "$$\n",
    "X = \n",
    "\\begin{cases}\n",
    "T,&\\;\\text{if}\\;\\frac{2v_0\\omega_0}{g} (\\text{mod}\\;2\\pi) \\in \\left(\\frac{\\pi}{2},\\frac{3\\pi}{2}\\right),\\\\\n",
    "H,&\\;\\text{otherwise}.\n",
    "\\end{cases}\n",
    "$$\n",
    "Graphically, this relationship can be represented by:"
   ]
  },
  {
   "cell_type": "code",
   "execution_count": 3,
   "metadata": {},
   "outputs": [
    {
     "ename": "ModuleNotFoundError",
     "evalue": "No module named 'graphviz'",
     "output_type": "error",
     "traceback": [
      "\u001b[0;31m---------------------------------------------------------------------------\u001b[0m",
      "\u001b[0;31mModuleNotFoundError\u001b[0m                       Traceback (most recent call last)",
      "\u001b[0;32m<ipython-input-3-6d222304c4f6>\u001b[0m in \u001b[0;36m<module>\u001b[0;34m\u001b[0m\n\u001b[0;32m----> 1\u001b[0;31m \u001b[0;32mfrom\u001b[0m \u001b[0mgraphviz\u001b[0m \u001b[0;32mimport\u001b[0m \u001b[0mDigraph\u001b[0m\u001b[0;34m\u001b[0m\u001b[0;34m\u001b[0m\u001b[0m\n\u001b[0m\u001b[1;32m      2\u001b[0m \u001b[0mgct\u001b[0m \u001b[0;34m=\u001b[0m \u001b[0mDigraph\u001b[0m\u001b[0;34m(\u001b[0m\u001b[0;34m'coin_toss_g'\u001b[0m\u001b[0;34m)\u001b[0m\u001b[0;34m\u001b[0m\u001b[0;34m\u001b[0m\u001b[0m\n\u001b[1;32m      3\u001b[0m \u001b[0mgct\u001b[0m\u001b[0;34m.\u001b[0m\u001b[0mnode\u001b[0m\u001b[0;34m(\u001b[0m\u001b[0;34m'omega0'\u001b[0m\u001b[0;34m,\u001b[0m \u001b[0mlabel\u001b[0m\u001b[0;34m=\u001b[0m\u001b[0;34m'<&omega;<sub>0</sub>>'\u001b[0m\u001b[0;34m)\u001b[0m\u001b[0;34m\u001b[0m\u001b[0;34m\u001b[0m\u001b[0m\n\u001b[1;32m      4\u001b[0m \u001b[0mgct\u001b[0m\u001b[0;34m.\u001b[0m\u001b[0mnode\u001b[0m\u001b[0;34m(\u001b[0m\u001b[0;34m'v0'\u001b[0m\u001b[0;34m,\u001b[0m \u001b[0mlabel\u001b[0m\u001b[0;34m=\u001b[0m\u001b[0;34m'<v<sub>0</sub>>'\u001b[0m\u001b[0;34m)\u001b[0m\u001b[0;34m\u001b[0m\u001b[0;34m\u001b[0m\u001b[0m\n\u001b[1;32m      5\u001b[0m \u001b[0mgct\u001b[0m\u001b[0;34m.\u001b[0m\u001b[0mnode\u001b[0m\u001b[0;34m(\u001b[0m\u001b[0;34m'g'\u001b[0m\u001b[0;34m,\u001b[0m \u001b[0mstyle\u001b[0m\u001b[0;34m=\u001b[0m\u001b[0;34m'filled'\u001b[0m\u001b[0;34m)\u001b[0m\u001b[0;34m\u001b[0m\u001b[0;34m\u001b[0m\u001b[0m\n",
      "\u001b[0;31mModuleNotFoundError\u001b[0m: No module named 'graphviz'"
     ]
    }
   ],
   "source": [
    "from graphviz import Digraph\n",
    "gct = Digraph('coin_toss_g')\n",
    "gct.node('omega0', label='<&omega;<sub>0</sub>>')\n",
    "gct.node('v0', label='<v<sub>0</sub>>')\n",
    "gct.node('g', style='filled')\n",
    "gct.node('X')\n",
    "gct.edge('g', 'X')\n",
    "gct.edge('v0', 'X')\n",
    "gct.edge('omega0', 'X')\n",
    "gct.render('coin_toss_g', format='png')\n",
    "gct"
   ]
  },
  {
   "cell_type": "markdown",
   "metadata": {},
   "source": [
    "Then, we argued that the uncertainty about the value of $X$ is induced by our uncertainty about the values of $v_0$ and $\\omega_0$.\n",
    "It is not the the coin toss is random.\n",
    "It is described in extreme detail by Newton's laws.\n",
    "It is that we do not know what the initial conditions are.\n",
    "So, the state of nature is captured by $(v_0,\\omega_0)$.\n",
    "Notice that essentially the variable $X$ is a function of $(v_0,\\omega_0)$.\n",
    "We can write:\n",
    "$$\n",
    "X = X(v_0, \\omega_0).\n",
    "$$\n",
    "You see that the result of the coin toss $X$ is nothing more but a function of the *true state of nature* $(v_0, \\omega_0)$.\n",
    "It is just that the value of $X$ is uncertain because the state of nature is uncertain.\n",
    "$X$ is an example of a random variable."
   ]
  },
  {
   "cell_type": "markdown",
   "metadata": {},
   "source": [
    "## The probability mass function\n",
    "\n",
    "Take a discrete random variable $X$ defined on some probability space $(\\Omega, \\mathcal{F}, \\mathbb{P})$.\n",
    "Without loss of generality, assume that $X$ can potentially take infinite $\\mathbb{N} = \\{1,2,\\dots\\}$.\n",
    "Why is this sufficient?\n",
    "\n",
    "+ If $X$ takes finite values then we can simply set the probability of values after a given number equal to zero.\n",
    "+ If the values are of another type (e.g., heads and tails) you can just map them to the natural numbers.\n",
    "\n",
    "The probability mass function of the random variable $X$, denoted by $f_X(x)$, gives the probability of $X$ taking the value $x$.\n",
    "Mathematically, it is defined by:\n",
    "$$\n",
    "f_X(x) := \\mathbb{P}(X=x) = \\mathbb{P}\\left(\\{\\omega: X(\\omega) = x\\}\\right).\n",
    "$$\n",
    "Notice that we are just gathering in a set all the states of nature $\\omega$ that give an experiment with value $x$, $X=k$, and then we find probability of that set.\n",
    "\n",
    "If you are 100\\% sure about which random variable you are talking about,\n",
    "feel free to use the much simpler notation:\n",
    "$$\n",
    "p(x) \\equiv p(X=x) \\equiv f_X(x) = \\mathbb{P}\\left(\\{\\omega: X(\\omega) = x\\}\\right).\n",
    "$$\n",
    "This is the notation we will employ from this point on.\n",
    "We will only use the strict mathematical notation when we have no choice.\n",
    "\n",
    "Note: If we wanted to show the background information we would be writing $p(x|I)$."
   ]
  },
  {
   "cell_type": "markdown",
   "metadata": {},
   "source": [
    "### Properties of the probability mass function\n",
    "\n",
    "There are some standard properties of the probability mass function that is worth memorizing:\n",
    "\n",
    "+ The probability mass function is nonnegative:\n",
    "$$\n",
    "p(x) \\ge 0,\n",
    "$$\n",
    "for all $x$ in $\\mathbb{N}$.\n",
    "+ The probability mass function is normalized:\n",
    "$$\n",
    "\\sum_{x=0}^\\infty p(x) = 1.\n",
    "$$\n",
    "This is a direct consequence of the fact that $X$ must take a value.\n",
    "+ Take any set of possible values of $X$, $A$. The probability of $X$ taking values in $A$ is:\n",
    "$$\n",
    "p(X\\in A) = \\sum_{x\\in A} p(x).\n",
    "$$"
   ]
  },
  {
   "cell_type": "markdown",
   "metadata": {},
   "source": [
    "### Example: The random variable corresponding to the result of a coin toss (2/2)\n",
    "\n",
    "Let's write down the probability mass function of the coin toss random variable $X$.\n",
    "Without loss of generality, we can map heads to the number $0$ and tails to the number $1$.\n",
    "We need to specify the probability of one of these events, as the probability of the other one is trivially defined.\n",
    "For a fair coin we have:\n",
    "$$\n",
    "p(X=0) = \\text{probability of heads} = \\frac{1}{2}.\n",
    "$$\n",
    "From this, because of the normalization constraint:\n",
    "$$\n",
    "p(X=0) + p(X=1) = 1,\n",
    "$$\n",
    "we get that:\n",
    "$$\n",
    "p(X=1) = \\frac{1}{2}.\n",
    "$$\n",
    "This is an example of a special random variable taking two discrete values $0$ and $1$, which we call the Bernoulli random variable.\n",
    "We will see it in an example later on."
   ]
  },
  {
   "cell_type": "markdown",
   "metadata": {},
   "source": [
    "## Functions of discrete random variables\n",
    "\n",
    "Consider a random variable $X$ taking values in $\\mathbb{N}$ with probability mass function $p(x)$.\n",
    "Now, consider a function $g(x)$.\n",
    "We can now define a new random variable:\n",
    "$$\n",
    "Y = g(X).\n",
    "$$\n",
    "The this random variable takes values in:\n",
    "$$\n",
    "g(\\mathbb{N}) := \\{g(x): x \\in \\mathbb{N}\\}.\n",
    "$$\n",
    "It has its own probability mass function (pmf) which we can define using the pmf of $X$:\n",
    "$$\n",
    "p(y) = p(Y = y) = p(X\\in g^{-1}(y)) = \\sum_{x\\in g^{-1}(y)} p(x),\n",
    "$$\n",
    "where $g^{-1}(y)$ is the set of $x$'s that map to $y$ through $g$, i.e.,\n",
    "$$\n",
    "g^{-1}(y) := \\{x\\in\\mathbb{N}: g(x) = y\\}.\n",
    "$$\n",
    "\n",
    "This is formal definition of the uncertainty propagation problem.\n",
    "The correspondenc is that $X$ represents the parameters of a physical model, and $Y = g(X)$ is the uncertain result of the physical model."
   ]
  },
  {
   "cell_type": "markdown",
   "metadata": {},
   "source": [
    "## Expectation of random variables\n",
    "\n",
    "The expectation of a random variable is defined to be:\n",
    "$$\n",
    "\\mathbb{E}[X] = \\sum_{x=0}^\\infty x p(x).\n",
    "$$\n",
    "You can think of the expectation as the value of the random variable that one should \"expect\" to get.\n",
    "However, take this interpretation with a grain of salt because it may be a value that the random variable has a zero probability of getting...\n",
    "\n",
    "### Example: Expectation of a coin toss\n",
    "The expectation of the coin toss random variable is:\n",
    "$$\n",
    "\\mathbb{E}[X] = 0\\cdot p(X=0) + 1\\cdot p(X=1) = 0.5.\n",
    "$$\n",
    "Of course, this is not a value that the random variable can get.\n",
    "\n",
    "### Properties of the expectation\n",
    "Here are some properties of the expectation.\n",
    "The proof of some of these properties will be given as homework.\n",
    "+ Take any constant $c$. Then we have:\n",
    "$$\n",
    "\\mathbb{E}[X + c] = \\mathbb{E}[X] + c.\n",
    "$$\n",
    "+ For any $\\lambda$ real number, we also have:\n",
    "$$\n",
    "\\mathbb{E}[\\lambda X] = \\lambda \\mathbb{E}[X].\n",
    "$$\n",
    "+ Take two random variables $X$ and $Y$. Then we have:\n",
    "$$\n",
    "\\mathbb{E}[X + Y] = \\mathbb{E}[X] + \\mathbb{E}[Y].\n",
    "$$\n",
    "+ Now consider any function $g(x)$.\n",
    "We can now define the expectation of $g(X)$ as the expectation of the random variable $Y = g(X)$.\n",
    "It is quite easy to show that:\n",
    "$$\n",
    "\\mathbb{E}[g(X)] = \\sum_{x=0}^\\infty g(x) p(x).\n",
    "$$\n",
    "+ Assume that $g(x)$ is a convex function, then:\n",
    "$$\n",
    "g\\left(\\mathbb{E}[X]\\right) \\le \\mathbb{E}[g(X)].\n",
    "$$\n",
    "This is known as Jensen's inequality."
   ]
  },
  {
   "cell_type": "markdown",
   "metadata": {},
   "source": [
    "## Variance of random variables\n",
    "\n",
    "The variance of a random variable $X$ is defined as the expectation of the square deviation from its expectation, i.e.:\n",
    "$$\n",
    "\\mathbb{V}[X] := \\mathbb{E}\\left[(X - \\mathbb{E}[X])^2\\right].\n",
    "$$\n",
    "You can think of the variance as the spread of the random variable around its expectation.\n",
    "However, do not take this too literally for discrete random variables.\n",
    "\n",
    "### Example: Variance of a coin toss\n",
    "Let's calculate the variance of the coin toss.\n",
    "We need:\n",
    "$$\n",
    "\\mathbb{E}\\left[X^2\\right] = 0^2\\cdot p(X=0) + 1^2 \\cdot p(X=1) = 0.5.\n",
    "$$\n",
    "So, using the formula above we get:\n",
    "$$\n",
    "\\mathbb{V}[X] = \\mathbb{E}\\left[X^2\\right] - \\left(\\mathbb{E}[X]\\right)^2 = 0.5 - (0.5)^2 = 0.5 - 0.25 = 0.25.\n",
    "$$\n",
    "\n",
    "### Properties of the variance\n",
    "Here are some properties of the variance.\n",
    "+ It holds that:\n",
    "$$\n",
    "\\mathbb{V}[X] = \\mathbb{E}\\left[X^2\\right] - \\left(\\mathbb{E}[X]\\right)^2.\n",
    "$$\n",
    "+ For any constant $c$, we have:\n",
    "$$\n",
    "\\mathbb{V}[X + c] = \\mathbb{V}[X].\n",
    "$$\n",
    "+ For any constant $c$, we have:\n",
    "$$\n",
    "\\mathbb{V}[cX] = c^2\\mathbb{V}[X].\n",
    "$$"
   ]
  },
  {
   "cell_type": "markdown",
   "metadata": {},
   "source": [
    "## Example: The Bernoulli random variable (1/2)\n",
    "\n",
    "Bernoulli random variable generalizes the concept of a coin toss.\n",
    "You can think of it as the result of an experiment with two possible outcomes $0$ and $1$.\n",
    "One just needs to specify the probability of one of the outcomes, typically the probability of zero.\n",
    "So, how do we denote mathematically a Bernoulli random variable $X$ that takes the value $1$ with probability $\\theta$ in $[0,1]$?\n",
    "We can write:\n",
    "$$\n",
    "X = \\begin{cases} 1,\\;\\text{with probability}\\;\\theta,\\\\\n",
    "0,\\;\\text{otherwise}.\n",
    "\\end{cases}\n",
    "$$\n",
    "Notice that in defining this random variable we are ignoring the mechanism that is giving rise to it.\n",
    "This is ok. It just means that we have decided to not look into it.\n",
    "The other way we can write this is as follows:\n",
    "$$\n",
    "X \\sim \\operatorname{Bernoulli}(\\theta).\n",
    "$$\n",
    "Let's use the functionality of ``scipy.stats`` to define a Bernoulli random variable and sample from it.\n",
    "\n",
    "The expectation of the Bernoulli is:\n",
    "$$\n",
    "\\mathbb{E}[X] = \\sum_x x p(X=x) = 0\\cdot (1-\\theta) + 1\\cdot \\theta = \\theta.\n",
    "$$\n",
    "Similarly, the variance of the Bernoulli is:\n",
    "$$\n",
    "\\mathbb{V}[X] = \\mathbb{E}[X^2] - \\left(\\mathbb{E}[X]\\right)^2 = \\theta - \\theta^2 = \\theta(1-\\theta).\n",
    "$$"
   ]
  },
  {
   "cell_type": "code",
   "execution_count": 4,
   "metadata": {},
   "outputs": [],
   "source": [
    "# Import the scipy.stats library\n",
    "import scipy.stats as st\n",
    "# This is the probability of 1:\n",
    "theta = 0.6\n",
    "# Define the random variable, Bernoulli(theta)\n",
    "X = st.bernoulli(theta)"
   ]
  },
  {
   "cell_type": "code",
   "execution_count": 5,
   "metadata": {},
   "outputs": [
    {
     "name": "stdout",
     "output_type": "stream",
     "text": [
      "X takes values in (0, 1)\n"
     ]
    }
   ],
   "source": [
    "# Here is the **support** of the random variable. It tells you which variables it takes:\n",
    "print('X takes values in', X.support())"
   ]
  },
  {
   "cell_type": "code",
   "execution_count": 23,
   "metadata": {},
   "outputs": [
    {
     "name": "stdout",
     "output_type": "stream",
     "text": [
      "p(X=0) = 0.40\n",
      "p(X=1) = 0.60\n"
     ]
    }
   ],
   "source": [
    "# Evaluate the probability mass function at every point of the support\n",
    "for x in X.support():\n",
    "    print('p(X={0:d}) = {1:1.2f}'.format(x, X.pmf(x)))"
   ]
  },
  {
   "cell_type": "code",
   "execution_count": 24,
   "metadata": {},
   "outputs": [
    {
     "name": "stdout",
     "output_type": "stream",
     "text": [
      "p(X=0) = 0.40\n",
      "p(X=1) = 1.00\n"
     ]
    }
   ],
   "source": [
    "# Evaluate the cumulative distribution function at every point of the support\n",
    "for x in X.support():\n",
    "    print('p(X={0:d}) = {1:1.2f}'.format(x, X.cdf(x)))"
   ]
  },
  {
   "cell_type": "code",
   "execution_count": 22,
   "metadata": {},
   "outputs": [
    {
     "name": "stdout",
     "output_type": "stream",
     "text": [
      "[0 1 0 1 1 0 1 1 1 0 1 1 0 0 0 1 0 0 0 1 1 1 1 0 0 1 0 1 1 1 0 1 0 1 1 0 1\n",
      " 1 1 1 0 1 0 1 0 1 1 0 0 0 1 1 1 1 1 0 1 1 1 0 0 1 0 1 0 0 1 1 0 0 1 0 1 0\n",
      " 0 1 1 1 0 0 0 0 0 1 1 0 0 0 1 1 0 0 1 1 1 1 0 1 0 1]\n"
     ]
    }
   ],
   "source": [
    "# Sample the random variable 100 times:\n",
    "xs = X.rvs(100)\n",
    "print(xs)"
   ]
  },
  {
   "cell_type": "code",
   "execution_count": 25,
   "metadata": {},
   "outputs": [
    {
     "name": "stdout",
     "output_type": "stream",
     "text": [
      "E[X] = 0.60\n"
     ]
    }
   ],
   "source": [
    "# The expectation of the Bernoulli:\n",
    "print('E[X] = {0:1.2f}'.format(X.expect()))"
   ]
  },
  {
   "cell_type": "code",
   "execution_count": 27,
   "metadata": {},
   "outputs": [
    {
     "name": "stdout",
     "output_type": "stream",
     "text": [
      "V[X] = 0.24\n"
     ]
    }
   ],
   "source": [
    "# The variance of the Bernoulli:\n",
    "print('V[X] = {0:1.2f}'.format(X.var()))"
   ]
  },
  {
   "cell_type": "markdown",
   "metadata": {},
   "source": [
    "### Questions\n",
    "\n",
    "+ Rerun the code above for $\\theta = 0.8$.\n",
    "+ Verify using your calculation that ``scipy.stats`` is giving the correct expectation and variance.\n",
    "+ Plot the histogram of 1000 random samples from $X$."
   ]
  },
  {
   "cell_type": "markdown",
   "metadata": {},
   "source": [
    "## Joint probability mass function of random variables\n",
    "\n",
    "Consider two random variables $X$ and $Y$.\n",
    "The *joint probability mass function* of the pair $(X,Y)$ is the function $f_{X,Y}(x,y)$ giving the probability that $X=x$ and $Y=y$.\n",
    "Mathematically (and introducing a simplified notation), we have:\n",
    "$$\n",
    "p(x,y) \\equiv p(X=x, Y=y) \\equiv f_{X,Y}(x,y) := \\mathbb{P}\\left(\\{\\omega: X(\\omega) = x, Y(\\omega)=y\\}\\right).\n",
    "$$\n",
    "\n",
    "### Properties of the joint probability mass function\n",
    "+ It is nonnegative:\n",
    "$$\n",
    "p(x,y) \\ge 0.\n",
    "$$\n",
    "+ If you sum over all the possible values of all random variables, you should get one:\n",
    "$$\n",
    "\\sum_x \\sum_y p(x,y) = 1.\n",
    "$$\n",
    "+ If you *marginalize* over the values of one of the random variables you get the pmf of the other.\n",
    "For example:\n",
    "$$\n",
    "p(x) = \\sum_y p(x,y),\n",
    "$$\n",
    "and \n",
    "$$\n",
    "p(y) = \\sum_x p(x, y).\n",
    "$$\n",
    "\n",
    "### The covariance operator\n",
    "\n",
    "The covariance operator measures how correlated two random variables $X$ and $Y$ are.\n",
    "Its definition is:\n",
    "$$\n",
    "\\mathbb{C}[X,Y] = \\mathbb{E}\\left[\\left(X-\\mathbb{E}[X]\\right)\\left(Y-\\mathbb{E}[Y]\\right)\\right].\n",
    "$$\n",
    "If $\\mathbb{C}[X,Y]$ is positive, then we say that the two random variables are correlated.\n",
    "If it is negative, then we say that the two random variables are anti-correlated.\n",
    "If it is zero, then we say that the two random variables are not correlated.\n",
    "We will talk more about this in a later lecture.\n",
    "\n",
    "A usefull property of the covariance operator is that it can give tell you something about the variance of the sum of two random variables.\n",
    "It is:\n",
    "$$\n",
    "\\mathbb{V}[X + Y] = \\mathbb{V}[X] + \\mathbb{V}[Y] + 2\\mathbb{C}[X,Y].\n",
    "$$\n",
    "\n",
    "### Joint probability mass function of many random variables\n",
    "Take $N$ random variables $X_1,\\dots,X_N$.\n",
    "We can define their joint probability mass function in the same way we did it for two:\n",
    "$$\n",
    "p(x_1,\\dots,x_N) \\equiv p(X_1=x_1,\\dots,X_N=x_N) \\equiv f_{X_1,\\dots,X_N}(x_1,\\dots,X_N) := \\mathbb{P}\\left(\\{\\omega: X_1(\\omega)=x_1,\\dots,X_N(\\omega)=x_N\\}\\right).\n",
    "$$\n",
    "Just like before, we can marginalize over any subset of random variables to get the pmf of the remaining ones.\n",
    "For example:\n",
    "$$\n",
    "p(x_i) = \\sum_{x_j,j\\not=i} p(x_1,\\dots,x_N).\n",
    "$$"
   ]
  },
  {
   "cell_type": "markdown",
   "metadata": {},
   "source": [
    "## Conditioning a random variables on the values of another\n",
    "\n",
    "Take two random variables $X$ and $Y$ with joint pmf $p(x,y)$.\n",
    "Suppose that you observe $Y=y$ and you want to update your state of knowledge about the probability that $X=x$, i.e., you want to get the *conditional pmf* $p(x|y)$.\n",
    "Of course, this is done using Bayes' rule:\n",
    "$$\n",
    "p(x|y) = \\frac{p(x,y)}{p(y)}.\n",
    "$$"
   ]
  },
  {
   "cell_type": "markdown",
   "metadata": {},
   "source": [
    "### Example: Drawing balls from a box without replacement\n",
    "\n",
    "Consider the following information I:\n",
    "\n",
    "> We are given a box with 10 balls 6 of which are red and 4 of which are blue. The box is sufficiently mixed so that when we get a ball from it, we don't know which one we pick. When we take a ball out of the box, we do not put it back.\n",
    "\n",
    "Now, assume that we represent red balls with a $0$ and blue balls with $1$.\n",
    "Let $X$ be the random variable corresponding to the outcome of the first draw and $Y$ the random variable corresponding to the outcome of the second draw.\n",
    "In this problem, it is not easy to find the joint pmf $p(x,y)$ directly.\n",
    "It is actually easier to first find $p(x)$, then $p(y|x)$ and finally reconstruct $p(x,y)$ using Bayes' rule.\n",
    "Let's do it.\n",
    "\n",
    "We showed in the previous lecture that:\n",
    "$$\n",
    "p(X=0) = \\frac{6}{10} = \\frac{3}{5},\n",
    "$$\n",
    "and\n",
    "$$\n",
    "p(X=1) = 1 - p(X=0) = \\frac{2}{5}.\n",
    "$$\n",
    "\n",
    "We also have:\n",
    "$$\n",
    "p(Y=0|X=0) = \\frac{5}{9},\n",
    "$$\n",
    "since if we draw a red first, $X=0$, there remain $9$ balls $5$ of which are red.\n",
    "$$\n",
    "p(Y=0|X=1) = \\frac{6}{9} = \\frac{2}{3},\n",
    "$$\n",
    "since if we draw a blue first, $X=1$, there remain $9$ balls $6$ of which are red.\n",
    "$$\n",
    "p(Y=1|X=0) = 1 - p(Y=0|X=0) = \\frac{4}{9},\n",
    "$$\n",
    "and\n",
    "$$\n",
    "p(Y=1|X=1) = 1 - p(Y=0|X=1) = \\frac{1}{3}.\n",
    "$$\n",
    "\n",
    "From Bayes' rule we have:\n",
    "$$\n",
    "p(x,y) = p(x)p(y|x),\n",
    "$$\n",
    "and we can completly tabulate this joint pmf:\n",
    "$$\n",
    "\\begin{split}\n",
    "p(X=0, Y=0) &= p(X=0)p(Y=0|X=0) = \\frac{3}{5}\\cdot \\frac{5}{9} \\approx 0.33\\\\\n",
    "p(X=0, Y=1) &= p(X=0)p(Y=1|X=0) = \\frac{3}{5}\\cdot \\frac{4}{9} \\approx 0.27\\\\\n",
    "p(X=1, Y=0) &= p(X=1)p(Y=0|X=1) = \\frac{2}{5}\\cdot \\frac{2}{3} \\approx 0.27\\\\\n",
    "p(X=1, Y=1) &= p(X=1)p(Y=1|X=1) = \\frac{2}{5}\\cdot \\frac{1}{3} \\approx 0.33.\n",
    "\\end{split}\n",
    "$$\n",
    "Notice that these sum to one.\n",
    "\n",
    "Finally, by marginalizing over $x$, we can find the pmf of $Y$:\n",
    "$$\n",
    "\\begin{split}\n",
    "p(Y=0) &= \\sum_x p(X=x,Y=0) = p(X=0, Y=0) + p(X=1, Y=0) \\approx 0.33 + 0.27 = 0.5\\\\\n",
    "p(Y=1) &= \\sum_x p(X=x,Y=1) = p(X=0, Y=1) + p(X=1, Y=1) \\approx 0.27 + 0.33 = 0.5. \n",
    "\\end{split}\n",
    "$$\n",
    "\n",
    "Let's find the covariance of the two random variables.\n",
    "We need:\n",
    "$$\n",
    "\\begin{split}\n",
    "\\mathbb{E}[X] &= 0\\cdot p(X=0) + 1\\cdot p(X=1) = 0.4,\\\\\n",
    "\\mathbb{E}[Y] &= 0\\cdot p(Y=0) + 1\\cdot p(Y=1) = 0.5.\n",
    "\\end{split}\n",
    "$$\n",
    "The covariance is:\n",
    "$$\n",
    "\\begin{split}\n",
    "\\mathbb{C}[X,Y] &= \\mathbb{E}\\left[\\left(X-\\mathbb{E}[X]\\right)\\left(Y-\\mathbb{E}[Y]\\right)\\right]\\\\\n",
    "&= \\sum_{x,y} p(X=x,Y=y)\\left(x-0.4\\right)(y-0.5)\\\\\n",
    "&\\approx 0.33\\cdot (0.2) + 0.27 \\cdot (-0.2) + 0.27 \\cdot (-0.3) + 0.33 \\cdot (0.3)\\\\\n",
    "&= 0.03.\n",
    "\\end{split}\n",
    "$$"
   ]
  },
  {
   "cell_type": "markdown",
   "metadata": {},
   "source": [
    "## Independent random variables\n",
    "\n",
    "Take two random variables $X$ and $Y$.\n",
    "We say that the two random variables are independent given the background information $I$, and we write:\n",
    "$$\n",
    "X\\perp Y | I,\n",
    "$$\n",
    "if and only if conditioning on one does not tell you anything about the other, i.e.,\n",
    "$$\n",
    "p(x|y, I) = p(x|I).\n",
    "$$\n",
    "It is easy to show using Bayes' rule that the definition is consistent, i.e., you also get:\n",
    "$$\n",
    "p(y|x, I) = p(y|I).\n",
    "$$\n",
    "When there is no ambiguity, we can drop $I$.\n",
    "\n",
    "### Properties of independent random variables\n",
    "+ The joint pmf factorizes:\n",
    "$$\n",
    "p(x,y) = p(x)p(y).\n",
    "$$\n",
    "+ The expectation of the product is the product of the expectation:\n",
    "$$\n",
    "\\mathbb{E}[XY] = \\mathbb{E}[X]\\cdot \\mathbb{E}[Y].\n",
    "$$\n",
    "+ The covariance of two independent random variables is zero:\n",
    "$$\n",
    "\\mathbb{C}[X,Y] = 0.\n",
    "$$\n",
    "Be careful **the reverse is not true!**\n",
    "+ A consequence of the above property is that the variance of the sum of two independent random variables is the sum of the variables:\n",
    "$$\n",
    "\\mathbb{V}[X+Y] = \\mathbb{V}[X] + \\mathbb{V}[Y].\n",
    "$$"
   ]
  },
  {
   "cell_type": "markdown",
   "metadata": {},
   "source": [
    "## Example: The binomial distribution\n",
    "\n",
    "Suppose that you tossing $n$ times a coin with probability of heads $\\theta$ and let $X$ be the number of heads.\n",
    "The random variable $X$ is called the binomial random variable.\n",
    "We write:\n",
    "$$\n",
    "X\\sim B(n, \\theta).\n",
    "$$\n",
    "It is easy to show that its pmf is:\n",
    "$$\n",
    "p(X = k) = {n\\choose{k}}\\theta^k(1-\\theta)^{n-k},\n",
    "$$\n",
    "where ${n\\choose{k}}$ is the number of $k$ combinations out of $n$ elements:\n",
    "$$\n",
    "{n\\choose{k}} = \\frac{n!}{k!(n-k)!}.\n",
    "$$\n",
    "The expectation of the binomial is:\n",
    "$$\n",
    "\\mathbb{E}[X] = \\sum_{k=0}^n p(X=k) = \\sum_{k=0}^n{n\\choose{k}}\\theta^k(1-\\theta)^{n-k} = ?.\n",
    "$$\n",
    "It does seem very easy to carry out this sum.\n",
    "However, you can do something smarter.\n",
    "Notice that $X$ counts the number of heads in $n$ independent trials.\n",
    "Let's introduce the *independent* random variables $X_1,\\dots,X_n$ corresponding to the result of these trials.\n",
    "All these varaibles are:\n",
    "$$\n",
    "X_i \\sim \\operatorname{Bernoulli}(\\theta).\n",
    "$$\n",
    "The number of heads is simply:\n",
    "$$\n",
    "X = X_1 + \\dots X_n.\n",
    "$$\n",
    "Since all the random variables on the right hand-side are independent, we get:\n",
    "$$\n",
    "\\mathbb{E}[X] = \\mathbb{E}[X_1] + \\dots + \\mathbb{E}[X_n] = \\theta + \\dots + \\theta = n\\theta.\n",
    "$$\n",
    "Similarly, we can find the variance of $X$:\n",
    "$$\n",
    "\\mathbb{V}{[X]} = \\mathbb{V}[X_1] + \\dots + \\mathbb{V}[X_n] = n \\theta (1-\\theta).\n",
    "$$"
   ]
  },
  {
   "cell_type": "code",
   "execution_count": 119,
   "metadata": {},
   "outputs": [
    {
     "name": "stdout",
     "output_type": "stream",
     "text": [
      "[3 1 1 3 5 3 1 4 2 2 2 4 4 4 2 1 5 3 2 2 3 1 4 1 0 3 4 2 4 5 2 1 3 4 4 5 3\n",
      " 1 3 2 3 4 3 4 3 3 4 2 2 2 4 5 3 3 1 2 5 4 3 4 3 4 4 4 4 2 3 4 2 2 3 3 4 4\n",
      " 5 3 2 3 3 3 2 4 2 5 3 2 2 4 4 2 2 5 4 3 2 5 3 4 4 2]\n"
     ]
    }
   ],
   "source": [
    "# Let's draw histograms of the binomial\n",
    "n = 5\n",
    "theta = 0.6\n",
    "X = st.binom(n, theta)\n",
    "# Here are some samples\n",
    "print(X.rvs(100))"
   ]
  },
  {
   "cell_type": "code",
   "execution_count": 120,
   "metadata": {},
   "outputs": [
    {
     "name": "stdout",
     "output_type": "stream",
     "text": [
      "E[X] = 3.00\n"
     ]
    }
   ],
   "source": [
    "# Here is the expectation\n",
    "print('E[X] = {0:1.2f}'.format(X.expect()))"
   ]
  },
  {
   "cell_type": "code",
   "execution_count": 121,
   "metadata": {},
   "outputs": [
    {
     "name": "stdout",
     "output_type": "stream",
     "text": [
      "V[X] = 1.20\n"
     ]
    }
   ],
   "source": [
    "# Here is the variance\n",
    "print('V[X] = {0:1.2f}'.format(X.var()))"
   ]
  },
  {
   "cell_type": "code",
   "execution_count": 122,
   "metadata": {},
   "outputs": [
    {
     "data": {
      "text/plain": [
       "Text(0, 0.5, '$p(x)$')"
      ]
     },
     "execution_count": 122,
     "metadata": {},
     "output_type": "execute_result"
    },
    {
     "data": {
      "image/png": "[encoded data removed]",
      "text/plain": [
       "<Figure size 432x288 with 1 Axes>"
      ]
     },
     "metadata": {
      "needs_background": "light"
     },
     "output_type": "display_data"
    }
   ],
   "source": [
    "# Let's draw the pmf\n",
    "fig, ax = plt.subplots()\n",
    "xs = range(n)\n",
    "ax.bar(xs, X.pmf(xs))\n",
    "ax.set_xlabel('$x$')\n",
    "ax.set_ylabel('$p(x)$')"
   ]
  },
  {
   "cell_type": "markdown",
   "metadata": {},
   "source": [
    "### Questions\n",
    "\n",
    "+ Start increasing the number of trials $n$. How does the resulting pmf look like?\n",
    "This starts to look like a bell curve. And indeed it is!"
   ]
  },
  {
   "cell_type": "markdown",
   "metadata": {},
   "source": [
    "## Example: The categorical distribution\n",
    "\n",
    "This is a generalization of the Bernoulli also known as *multinulli*.\n",
    "It is the probability distribution assigned to a random variable taking $K$ different values each one with a given, but different, probability.\n",
    "It is:\n",
    "$$\n",
    "p(X=k) = p_k.\n",
    "$$\n",
    "For example, if all the different values are equally probably, then we could have:\n",
    "$$\n",
    "p(X=k) = \\frac{1}{K}.\n",
    "$$\n",
    "Let's see how we can sample from it."
   ]
  },
  {
   "cell_type": "code",
   "execution_count": 86,
   "metadata": {},
   "outputs": [],
   "source": [
    "# Just pick some probabilities\n",
    "ps = [0.1, 0.3, 0.4, 0.2] # this has to sum to 1\n",
    "# And here are the corresponding values\n",
    "xs = [0, 1, 2, 3]\n",
    "# Here is how you can define a categorical rv:\n",
    "X = st.rv_discrete(name='Custom Categorical', values=(xs, ps))"
   ]
  },
  {
   "cell_type": "code",
   "execution_count": 96,
   "metadata": {},
   "outputs": [
    {
     "name": "stdout",
     "output_type": "stream",
     "text": [
      "[2 2 1 1 0 2 1 3 2 1]\n"
     ]
    }
   ],
   "source": [
    "print(X.rvs(size=10))"
   ]
  },
  {
   "cell_type": "code",
   "execution_count": 97,
   "metadata": {},
   "outputs": [
    {
     "name": "stdout",
     "output_type": "stream",
     "text": [
      "0.4\n"
     ]
    }
   ],
   "source": [
    "# You can get the pmf:\n",
    "print(X.pmf(2))"
   ]
  },
  {
   "cell_type": "markdown",
   "metadata": {},
   "source": [
    "## Example: The Poisson distribution\n",
    "\n",
    "The Poisson distribution models the number of times an event occurs in an interval of space or time.\n",
    "For example, a Poisson random variable $X$ may be:\n",
    "\n",
    "+ The number earthquakes greater than 6 Richter occuring over the next 100 years.\n",
    "+ The number of major floods over the next 100 years.\n",
    "+ The number of patients arriving at the emergency room during the night shift.\n",
    "+ The number of electrons hitting a detector in a specific time interval.\n",
    "\n",
    "The Poisson is a good model when the following assumptions are true:\n",
    "+ The number of times an event occurs in an interval takes values $0,1,2,\\dots$.\n",
    "+ Events occur independently.\n",
    "+ The probability that an event occurs is constant per unit of time.\n",
    "+ The average rate at which events occur is constant.\n",
    "+ Events cannot occur at the same time.\n",
    "\n",
    "When these assumptions are valid, we can write:\n",
    "$$\n",
    "X\\sim \\operatorname{Pois}(\\lambda),\n",
    "$$\n",
    "where $\\lambda>0$ is the rate with each the events occur.\n",
    "The pmf of the Poisson is:\n",
    "$$\n",
    "p(X=k) = \\frac{\\lambda^ke^{-\\lambda}}{k!}.\n",
    "$$\n",
    "The expectation of the Poisson is:\n",
    "$$\n",
    "\\mathbb{E}[X] = \\sum_{k=0}^\\infty k p(X=k) = \\lambda.\n",
    "$$\n",
    "The variance is:\n",
    "$$\n",
    "\\mathbb{V}[X] = \\dots = \\lambda.\n",
    "$$\n",
    "\n",
    "Let's look at a specific example.\n",
    "Historical data show that at a given region a major earthquake occurs once every 100 years on average.\n",
    "What is the probability that $k$ such earthquakes will occur within the next 100 years.\n",
    "Let $X$ be the random variable corresponding to the number of earthquakes over the next 100 years.\n",
    "Assuming the Poisson model is valid, the rate parameter is $\\lambda = 1$ and we have:\n",
    "$$\n",
    "X\\sim \\operatorname{Pois}(1).\n",
    "$$\n",
    "The probabilities are:"
   ]
  },
  {
   "cell_type": "code",
   "execution_count": 110,
   "metadata": {},
   "outputs": [
    {
     "data": {
      "text/plain": [
       "Text(0, 0.5, 'Probability of occurance')"
      ]
     },
     "execution_count": 110,
     "metadata": {},
     "output_type": "execute_result"
    },
    {
     "data": {
      "image/png": "[encoded data removed]",
      "text/plain": [
       "<Figure size 432x288 with 1 Axes>"
      ]
     },
     "metadata": {
      "needs_background": "light"
     },
     "output_type": "display_data"
    }
   ],
   "source": [
    "X = st.poisson(1.0)\n",
    "ks = range(6)\n",
    "fig, ax = plt.subplots()\n",
    "ax.bar(ks, X.pmf(ks))\n",
    "ax.set_xlabel('Number of major earthquakes in next 100 years')\n",
    "ax.set_ylabel('Probability of occurance')"
   ]
  },
  {
   "cell_type": "markdown",
   "metadata": {},
   "source": [
    "### Questions\n",
    "\n",
    "+ How would the rate parameter $\\lambda$ change if the rate with each major earthquakes occured in the past was 2 every 100 years?"
   ]
  }
 ],
 "metadata": {
  "anaconda-cloud": {},
  "kernelspec": {
   "display_name": "Python 3",
   "language": "python",
   "name": "python3"
  },
  "language_info": {
   "codemirror_mode": {
    "name": "ipython",
    "version": 3
   },
   "file_extension": ".py",
   "mimetype": "text/x-python",
   "name": "python",
   "nbconvert_exporter": "python",
   "pygments_lexer": "ipython3",
   "version": "3.6.7"
  },
  "latex_envs": {
   "bibliofile": "biblio.bib",
   "cite_by": "apalike",
   "current_citInitial": 1,
   "eqLabelWithNumbers": true,
   "eqNumInitial": 0
  },
  "widgets": {
   "state": {
    "968a18c908c6495081a9936faebe0473": {
     "views": [
      {
       "cell_index": 11
      }
     ]
    }
   },
   "version": "1.2.0"
  }
 },
 "nbformat": 4,
 "nbformat_minor": 2
}
